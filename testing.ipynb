{
  "nbformat": 4,
  "nbformat_minor": 0,
  "metadata": {
    "colab": {
      "provenance": []
    },
    "kernelspec": {
      "name": "python3",
      "display_name": "Python 3"
    },
    "language_info": {
      "name": "python"
    }
  },
  "cells": [
    {
      "cell_type": "code",
      "source": [
        "import re\n",
        "import requests\n",
        "from bs4 import BeautifulSoup\n",
        "import json\n",
        "\n",
        "def extract_information(url):\n",
        "    response = requests.get(url)\n",
        "    if response.status_code == 200:\n",
        "        html_content = response.text\n",
        "    else:\n",
        "        print(\"Failed to retrieve the webpage:\", response.status_code)\n",
        "        return None\n",
        "\n",
        "    soup = BeautifulSoup(html_content, \"html.parser\")\n",
        "\n",
        "    # Extract Title\n",
        "    title = soup.title.string if soup.title else \"\"\n",
        "\n",
        "    # Extract Meta Description\n",
        "    meta_description = soup.find(\"meta\", attrs={\"name\": \"description\"})\n",
        "    meta_description = meta_description[\"content\"] if meta_description else \"\"\n",
        "\n",
        "    # Extract Header Tags\n",
        "    header_tags = [header.text.strip() for header in soup.find_all([\"h1\", \"h2\", \"h3\"])]\n",
        "\n",
        "    # Extract Text Content\n",
        "    text_content = soup.get_text(strip=True)\n",
        "\n",
        "    # Extract Images\n",
        "    images = [image['src'] for image in soup.find_all('img')]\n",
        "\n",
        "    # Extract Links\n",
        "    links = [link['href'] for link in soup.find_all('a', href=True)]\n",
        "\n",
        "    # Extract Contact Information\n",
        "    contact_info = re.findall(r'(\\+\\d{1,3}\\s)?\\(?\\d{3}\\)?[\\s.-]?\\d{3}[\\s.-]?\\d{4}', html_content)\n",
        "    contact_info = [re.sub(r'[^\\d-]', '', info) for info in contact_info]\n",
        "\n",
        "    # Create a dictionary to store the extracted information\n",
        "    data = {\n",
        "        \"url\": url,\n",
        "        \"title\": title,\n",
        "        \"meta_description\": meta_description,\n",
        "        \"header_tags\": header_tags,\n",
        "        \"text_content\": text_content,\n",
        "        \"images\": images,\n",
        "        \"links\": links,\n",
        "        \"contact_info\": contact_info\n",
        "    }\n",
        "\n",
        "    return data\n",
        "\n",
        "\n",
        "def save_to_json(data, output_file):\n",
        "    with open(output_file, \"w\") as json_file:\n",
        "        json.dump(data, json_file, indent=4)\n",
        "    print(\"Data saved to\", output_file)\n",
        "\n",
        "\n",
        "# Example usage\n",
        "url = input(\"Enter the Url\").strip()\n",
        "output_file = \"website_data.json\"\n",
        "\n",
        "extracted_data = extract_information(url)\n",
        "if extracted_data:\n",
        "    save_to_json(extracted_data, output_file)"
      ],
      "metadata": {
        "colab": {
          "base_uri": "https://localhost:8080/"
        },
        "id": "myebICLS2tW6",
        "outputId": "40e305ee-a736-453f-9dfd-f01526a4cb10"
      },
      "execution_count": null,
      "outputs": [
        {
          "output_type": "stream",
          "name": "stdout",
          "text": [
            "Enter the Urlhttps://www.amazon.in/\n",
            "Data saved to website_data.json\n"
          ]
        }
      ]
    },
    {
      "cell_type": "code",
      "source": [
        "import json\n",
        "\n",
        "# Define the path to the JSON file\n",
        "json_file = \"website_data.json\"\n",
        "\n",
        "# Load the JSON data\n",
        "with open(json_file) as file:\n",
        "    data = json.load(file)\n",
        "\n",
        "# Print the loaded data\n",
        "print(data)\n"
      ],
      "metadata": {
        "colab": {
          "base_uri": "https://localhost:8080/"
        },
        "id": "J17lGd_b3A1U",
        "outputId": "73bef6f0-47f1-4512-fca3-4db2ab4970f7"
      },
      "execution_count": null,
      "outputs": [
        {
          "output_type": "stream",
          "name": "stdout",
          "text": [
            "{'url': 'https://www.amazon.in/', 'title': 'Online Shopping site in India: Shop Online for Mobiles, Books, Watches, Shoes and More - Amazon.in', 'meta_description': 'Amazon.in: Online Shopping India - Buy mobiles, laptops, cameras, books, watches, apparel, shoes and e-Gift Cards. Free Shipping & Cash on Delivery Available.', 'header_tags': ['Makeup products', 'New looks for the new season', 'Do up your home', 'Smart gadgets by Amazon', 'Value bazaar', 'Work from home essentials', 'Revamp your home in style', 'Innovations from Emerging Indian Brands'], 'text_content': \"Online Shopping site in India: Shop Online for Mobiles, Books, Watches, Shoes and More - Amazon.inSkip to main content.inHelloSelect your addressAllSelect the department you want to search inAll CategoriesAlexa SkillsAmazon DevicesAmazon FashionAmazon FreshAmazon PharmacyAppliancesApps & GamesBabyBeautyBooksCar & MotorbikeClothing & AccessoriesCollectiblesComputers & AccessoriesElectronicsFurnitureGarden & OutdoorsGift CardsGrocery & Gourmet FoodsHealth & Personal CareHome & KitchenIndustrial & ScientificJewelleryKindle StoreLuggage & BagsLuxury BeautyMovies & TV ShowsMusicMusical InstrumentsOffice ProductsPet SuppliesPrime VideoShoes & HandbagsSoftwareSports, Fitness & OutdoorsSubscribe & SaveTools & Home ImprovementToys & GamesUnder ₹500Video GamesWatchesSearch Amazon.inENHello, sign inAccount & ListsReturns& OrdersCartAllAmazon miniTVSellBest SellersMobilesToday's DealsCustomer ServiceNew ReleasesPrimeElectronicsHome & KitchenAmazon PayGift IdeasFashionComputersBooksCouponsBeauty & Personal CareToys & GamesSports, Fitness & OutdoorsCar & MotorbikeHome ImprovementGrocery & Gourmet FoodsGift CardsHealth, Household & Personal CareBabyVideo GamesPet SuppliesSubscribe & SaveAudibleAmazonBasicsKindle eBooksPrevious slideNext slideMakeup productsSee moreNew looks for the new seasonShop fashionDo up your homeSee moreSmart gadgets by AmazonShop nowValue bazaarShop daily essentialsWork from home essentialsRoutersLaptopsKeyboards, mice & moreHeadphonesSee moreRevamp your home in styleBedsheets, curtains & moreHome decorationHome storageLighting solutionsExplore allInnovations from Emerging Indian BrandsExplore more startupsYour recently viewed items and featured recommendations›View or edit your browsing historyAfter viewing product detail pages, look here to find an easy way to navigate back to pages you are interested in.Your recently viewed items and featured recommendations›View or edit your browsing historyAfter viewing product detail pages, look here to find an easy way to navigate back to pages you are interested in.Back to topGet to Know UsAbout UsCareersPress ReleasesAmazon ScienceConnect with UsFacebookTwitterInstagramMake Money with UsSell on AmazonSell under Amazon AcceleratorProtect and Build Your BrandAmazon Global SellingBecome an AffiliateFulfilment by AmazonAdvertise Your ProductsAmazon Pay on MerchantsLet Us Help YouCOVID-19 and AmazonYour AccountReturns Centre100% Purchase ProtectionAmazon App DownloadHelpEnglishAustraliaBrazilCanadaChinaFranceGermanyItalyJapanMexicoNetherlandsPolandSingaporeSpainTurkeyUnited Arab EmiratesUnited KingdomUnited StatesAbeBooksBooks, art& collectiblesAmazon Web ServicesScalable CloudComputing ServicesAudibleDownloadAudio BooksDPReviewDigitalPhotographyIMDbMovies, TV& CelebritiesShopbopDesignerFashion BrandsAmazon BusinessEverything ForYour BusinessPrime Now2-Hour Deliveryon Everyday ItemsAmazon Prime Music100 million songs, ad-freeOver 15 million podcast episodesConditions of Use & SalePrivacy NoticeInterest-Based Ads© 1996-2023, Amazon.com, Inc. or its affiliates\", 'images': ['https://m.media-amazon.com/images/G/31/social_share/amazon_logo._CB633266945_.png', 'https://m.media-amazon.com/images/G/31/gno/sprites/nav-sprite-global-1x-reorg-celnav._CB590297325_.png', 'https://m.media-amazon.com/images/G/31/IN-Events/PD23/GW/SWM_400x39_launches_V2._CB602608776_.jpg', 'https://m.media-amazon.com/images/I/51Id5Jjpm-L._SX1500_.jpg', 'https://images-eu.ssl-images-amazon.com/images/G/31/img19/Beauty/GW/desktop/Make-up-CC_desktop_1x._SY304_CB466075850_.jpg', 'https://images-eu.ssl-images-amazon.com/images/G/31/Gateway/Events/2018/JupiterFallBack/Jupiter_bau_PC_top_card_fashion_1x._SY304_CB484150077_.jpg', 'https://images-eu.ssl-images-amazon.com/images/G/31/Gateway/Events/2018/JupiterFallBack/Jupiter_bau_PC_top_card_home_1x._SY304_CB484150079_.jpg', 'https://images-eu.ssl-images-amazon.com/images/G/31/img19/AmazonDevices/neel/March/1X._SY304_CB469330167_.jpg', 'https://images-eu.ssl-images-amazon.com/images/G/31/Gateway/Events/2018/JupiterFallBack/Jupiter_bau_PC_top_card_groceries_1x._SY304_CB484150076_.jpg', 'https://images-eu.ssl-images-amazon.com/images/G/31/img20/CEPC/Covid19/V195588257_IN_CEPC_Contingency_Covid_GW_April20_rush_dbqc0.5x_3._SY116_CB433895198_.jpg', 'https://images-eu.ssl-images-amazon.com/images/G/31/img20/CEPC/Covid19/V195588257_IN_CEPC_Contingency_Covid_GW_April20_rush_dbqc0.5x_4._SY116_CB433895198_.jpg', 'https://images-eu.ssl-images-amazon.com/images/G/31/img20/CEPC/Covid19/V195588257_IN_CEPC_Contingency_Covid_GW_April20_rush_dbqc0.5x_1._SY116_CB433895198_.jpg', 'https://images-eu.ssl-images-amazon.com/images/G/31/img20/CEPC/Covid19/V195588257_IN_CEPC_Contingency_Covid_GW_April20_rush_dbqc0.5x_2._SY116_CB433889427_.jpg', 'https://images-eu.ssl-images-amazon.com/images/G/31/IMG20/Home/BAU/GWPC/XCM_Manual_372x232_1212890_372X232_1_bd034eee_6f06_4e0a_9967_d0e0e5f7f932_jpg_LOWER_QL10_._SY116_CB423376243_.jpg', 'https://images-eu.ssl-images-amazon.com/images/G/31/IMG20/Home/BAU/GWPC/XCM_Manual_372x232_1212890_372X232_2_64e793dc_221d_4067_8fca_2f0338879977_jpg_LOWER_QL85_._SY116_CB423376243_.jpg', 'https://images-eu.ssl-images-amazon.com/images/G/31/IMG20/Home/BAU/GWPC/XCM_Manual_372x232_1212890_372X232_3_ccc0f761_ea08_4cfb_9562_6f13e80170d8_jpg_LOWER_QL30_._SY116_CB423376243_.jpg', 'https://images-eu.ssl-images-amazon.com/images/G/31/IMG20/Home/BAU/GWPC/XCM_Manual_372x232_1212890_372X232_4_bc4e9dc4_a3aa_4aae_93fd_9723dacd805f_jpg_LOWER_QL50_._SY116_CB423376243_.jpg', 'https://images-eu.ssl-images-amazon.com/images/G/31/img20/AmazonLaunchpad/Gateway/June/dhyana_02_379_304._SY304_CB429464454_.jpg', 'https://m.media-amazon.com/images/G/31/personalization/ybh/loading-4x-gray._CB485916689_.gif'], 'links': ['/ref=nav_logo', '/customer-preferences/edit?ie=UTF8&preferencesReturnUrl=%2F&ref_=topnav_lang', 'https://www.amazon.in/ap/signin?openid.pape.max_auth_age=0&openid.return_to=https%3A%2F%2Fwww.amazon.in%2F%3F_encoding%3DUTF8%26ref_%3Dnav_ya_signin&openid.identity=http%3A%2F%2Fspecs.openid.net%2Fauth%2F2.0%2Fidentifier_select&openid.assoc_handle=inflex&openid.mode=checkid_setup&openid.claimed_id=http%3A%2F%2Fspecs.openid.net%2Fauth%2F2.0%2Fidentifier_select&openid.ns=http%3A%2F%2Fspecs.openid.net%2Fauth%2F2.0', '/gp/css/order-history?ref_=nav_orders_first', 'https://www.amazon.in/gp/cart/view.html?ref_=nav_cart', '/gp/site-directory?ref_=nav_em_js_disabled', '/minitv?ref_=nav_avod_desktop_topnav', '/b/32702023031?node=32702023031&ld=AZINSOANavDesktop_T3&ref_=nav_cs_sell_T3', '/gp/bestsellers/?ref_=nav_cs_bestsellers', '/mobile-phones/b/?ie=UTF8&node=1389401031&ref_=nav_cs_mobiles', '/deals?ref_=nav_cs_gb', '/gp/help/customer/display.html?nodeId=200507590&ref_=nav_cs_help', '/gp/new-releases/?ref_=nav_cs_newreleases', '/prime?ref_=nav_cs_primelink_nonmember', '/electronics/b/?ie=UTF8&node=976419031&ref_=nav_cs_electronics', '/Home-Kitchen/b/?ie=UTF8&node=976442031&ref_=nav_cs_home', '/gp/sva/dashboard?ref_=nav_cs_apay', '/gcx/-/gfhz/?ref_=nav_cs_giftfinder', '/gp/browse.html?node=6648217031&ref_=nav_cs_fashion', '/computers-and-accessories/b/?ie=UTF8&node=976392031&ref_=nav_cs_pc', '/Books/b/?ie=UTF8&node=976389031&ref_=nav_cs_books', '/amazon-coupons/b/?_encoding=UTF8&node=10465704031&ref_=nav_cs_coupons', '/beauty/b/?ie=UTF8&node=1355016031&ref_=nav_cs_beauty', '/Toys-Games/b/?ie=UTF8&node=1350380031&ref_=nav_cs_toys', '/Sports/b/?ie=UTF8&node=1984443031&ref_=nav_cs_sports', '/Car-Motorbike-Store/b/?ie=UTF8&node=4772060031&ref_=nav_cs_automotive', '/Home-Improvement/b/?ie=UTF8&node=4286640031&ref_=nav_cs_hi', '/Gourmet-Specialty-Foods/b/?ie=UTF8&node=2454178031&ref_=nav_cs_grocery', '/gift-card-store/b/?ie=UTF8&node=3704982031&ref_=nav_cs_gc', '/health-and-personal-care/b/?ie=UTF8&node=1350384031&ref_=nav_cs_hpc', '/Baby/b/?ie=UTF8&node=1571274031&ref_=nav_cs_baby', '/video-games/b/?ie=UTF8&node=976460031&ref_=nav_cs_video_games', '/Pet-Supplies/b/?ie=UTF8&node=2454181031&ref_=nav_cs_pets', '/auto-deliveries/landing?ref_=nav_cs_sns', '/Audible-Books-and-Originals/b/?ie=UTF8&node=17941593031&ref_=nav_cs_audible', '/b/?node=6637738031&ref_=nav_cs_amazonbasics', '/Kindle-eBooks/b/?ie=UTF8&node=1634753031&ref_=nav_cs_kindle_books', '/L/26190111031/?_encoding=UTF8&ref_=nav_swm_swm_gd&pf_rd_p=678e0612-1b62-425a-8bf3-1f28e961df75&pf_rd_s=nav-sitewide-msg&pf_rd_t=4201&pf_rd_i=navbar-4201&pf_rd_m=A21TJRUUN4KGV&pf_rd_r=974D4JH16RGFB61ZCSRQ', '#', '/b/?_encoding=UTF8&node=1389401031', '#', '/b?node=1374357031', '/b?node=1374357031', '/b/?node=6648217031', '/b/?node=6648217031', '/b/?node=976442031', '/b/?node=976442031', '/s?hidden-keywords=B0792KTHKK%7CB0725W7Q38%7CB0794JD9JS%7CB01J6A7FGQ%7CB0793HNP9Z%7CB0791YHVMK%7CB079QQZZJK%7CB07FRJTZ4T%7CB077454Z99%7CB06XDBNSCP%7CB07C9L72VC&ref=nb_sb_noss', '/s?hidden-keywords=B0792KTHKK%7CB0725W7Q38%7CB0794JD9JS%7CB01J6A7FGQ%7CB0793HNP9Z%7CB0791YHVMK%7CB079QQZZJK%7CB07FRJTZ4T%7CB077454Z99%7CB06XDBNSCP%7CB07C9L72VC&ref=nb_sb_noss', '/b/?node=6802110031', '/b/?node=6802110031', '/b?node=1375427031', '/b?node=1375424031', '/b?node=1375248031', '/b?ie=UTF8&node=1388921031', '/b?node=20982412031', '/b?node=1380442031', '/b?node=1380374031', '/b?node=1380510031', '/b?node=1380485031', '/b?node=12414705031', '/b?node=10894223031&ref=INALGW', '/b?node=10894223031&ref=INALGW', '/gp/history', '/gp/history', '#', 'https://www.aboutamazon.in/?utm_source=gateway&utm_medium=footer', 'https://amazon.jobs', 'https://press.aboutamazon.in/?utm_source=gateway&utm_medium=footer', 'https://www.amazon.science', 'https://www.amazon.in/gp/redirect.html/ref=footer_fb?location=http://www.facebook.com/AmazonIN&token=2075D5EAC7BB214089728E2183FD391706D41E94&6', 'https://www.amazon.in/gp/redirect.html/ref=footer_twitter?location=http://twitter.com/AmazonIN&token=A309DFBFCB1E37A808FF531934855DC817F130B6&6', 'https://www.amazon.in/gp/redirect.html?location=https://www.instagram.com/amazondotin&token=264882C912E9D005CB1D9B61F12E125D5DF9BFC7&source=standards', '/b/?node=2838698031&ld=AZINSOANavDesktopFooter_C&ref_=nav_footer_sell_C', 'https://accelerator.amazon.in/?ref_=map_1_b2b_GW_FT', 'https://brandservices.amazon.in/?ref=AOINABRLGNRFOOT&ld=AOINABRLGNRFOOT', 'https://sell.amazon.in/grow-your-business/amazon-global-selling.html?ld=AZIN_Footer_V1&ref=AZIN_Footer_V1', 'https://affiliate-program.amazon.in/?utm_campaign=assocshowcase&utm_medium=footer&utm_source=GW&ref_=footer_assoc', 'https://services.amazon.in/services/fulfilment-by-amazon/benefits.html/ref=az_footer_fba?ld=AWRGINFBAfooter', 'https://advertising.amazon.in/?ref=Amz.in', 'https://www.amazonpay.in/merchant', '/gp/help/customer/display.html?nodeId=GDFU3JS5AL6SYHRD&ref_=footer_covid', '/gp/css/homepage.html?ref_=footer_ya', '/gp/css/returns/homepage.html?ref_=footer_hy_f_4', '/gp/help/customer/display.html?nodeId=201083470&ref_=footer_swc', '/gp/browse.html?node=6967393031&ref_=footer_mobapp', '/gp/help/customer/display.html?nodeId=200507590&ref_=footer_gw_m_b_he', '/ref=footer_logo', '/customer-preferences/edit?ie=UTF8&preferencesReturnUrl=%2F&ref_=footer_lang', 'https://www.amazon.com.au/ref=footer_au', 'https://www.amazon.com.br/ref=footer_br', 'https://www.amazon.ca/ref=footer_ca', 'https://www.amazon.cn/ref=footer_cn', 'https://www.amazon.fr/ref=footer_fr', 'https://www.amazon.de/ref=footer_de', 'https://www.amazon.it/ref=footer_it', 'https://www.amazon.co.jp/ref=footer_jp', 'https://www.amazon.com.mx/ref=footer_mx', 'https://www.amazon.nl/ref=footer_nl', 'https://www.amazon.pl/ref=footer_pl', 'https://www.amazon.sg/ref=footer_sg', 'https://www.amazon.es/ref=footer_es', 'https://www.amazon.com.tr/ref=footer_tr', 'https://www.amazon.ae/ref=footer_ae', 'https://www.amazon.co.uk/ref=footer_uk', 'https://www.amazon.com/ref=footer_us', 'https://www.abebooks.com/', 'https://aws.amazon.com/what-is-cloud-computing/?sc_channel=EL&sc_campaign=IN_amazonfooter', 'https://www.audible.in/', 'https://www.dpreview.com/', 'https://www.imdb.com/', 'https://www.shopbop.com/', '/business?ref=footer_aingw', '/now?ref=footer_amznow', '/music/prime?ref=footer_apm', '/gp/help/customer/display.html?nodeId=200545940&ref_=footer_cou', '/gp/help/customer/display.html?nodeId=200534380&ref_=footer_privacy', '/gp/help/customer/display.html?nodeId=202075050&ref_=footer_iba'], 'contact_info': ['', '', '', '', '', '', '', '', '', '', '', '', '', '', '', '', '', '', '', '', '', '', '', '', '', '', '', '', '', '', '', '', '', '', '', '', '', '', '', '', '', '', '', '', '', '', '', '', '', '', '']}\n"
          ]
        }
      ]
    },
    {
      "cell_type": "code",
      "source": [
        "import nltk\n",
        "nltk.download('punkt')\n",
        "nltk.download('stopwords')\n",
        "nltk.download('wordnet')"
      ],
      "metadata": {
        "colab": {
          "base_uri": "https://localhost:8080/"
        },
        "id": "kqAQZOWk4Z6S",
        "outputId": "14bbfe83-5b84-4c82-ecda-e3cc5781ed79"
      },
      "execution_count": null,
      "outputs": [
        {
          "output_type": "stream",
          "name": "stderr",
          "text": [
            "[nltk_data] Downloading package punkt to /root/nltk_data...\n",
            "[nltk_data]   Unzipping tokenizers/punkt.zip.\n",
            "[nltk_data] Downloading package stopwords to /root/nltk_data...\n",
            "[nltk_data]   Unzipping corpora/stopwords.zip.\n",
            "[nltk_data] Downloading package wordnet to /root/nltk_data...\n"
          ]
        },
        {
          "output_type": "execute_result",
          "data": {
            "text/plain": [
              "True"
            ]
          },
          "metadata": {},
          "execution_count": 3
        }
      ]
    },
    {
      "cell_type": "code",
      "source": [
        "import json\n",
        "import re\n",
        "import nltk\n",
        "from nltk.tokenize import word_tokenize\n",
        "from nltk.corpus import stopwords\n",
        "from nltk.stem import WordNetLemmatizer\n",
        "\n",
        "# Load the JSON data\n",
        "json_file = \"website_data.json\"\n",
        "with open(json_file) as file:\n",
        "    data = json.load(file)\n",
        "\n",
        "# Preprocessing function\n",
        "def preprocess_text(text):\n",
        "    # Remove HTML tags\n",
        "    cleaned_text = re.sub('<[^<]+?>', '', text)\n",
        "    # Remove special characters and numbers\n",
        "    cleaned_text = re.sub('[^a-zA-Z]', ' ', cleaned_text)\n",
        "    # Convert to lowercase\n",
        "    cleaned_text = cleaned_text.lower()\n",
        "    # Tokenize the text\n",
        "    tokens = word_tokenize(cleaned_text)\n",
        "    # Remove stopwords\n",
        "    stop_words = set(stopwords.words('english'))\n",
        "    tokens = [word for word in tokens if word not in stop_words]\n",
        "    # Lemmatize the tokens\n",
        "    lemmatizer = WordNetLemmatizer()\n",
        "    tokens = [lemmatizer.lemmatize(token) for token in tokens]\n",
        "    # Join the tokens back to a single string\n",
        "    cleaned_text = ' '.join(tokens)\n",
        "    return cleaned_text\n",
        "\n",
        "# Preprocess the text content\n",
        "cleaned_text = preprocess_text(data['text_content'])\n",
        "\n",
        "# Preprocess meta_description\n",
        "preprocessed_meta_description = preprocess_text(data['meta_description'])\n",
        "\n",
        "# Preprocess images\n",
        "# Preprocess images\n",
        "preprocessed_images = []\n",
        "for image in data['images']:\n",
        "    # Remove special characters and additional patterns\n",
        "    cleaned_image = re.sub(r'[^a-zA-Z\\s]', ' ', image)\n",
        "    # Remove URLs starting with http:// or https://\n",
        "    cleaned_image = re.sub(r'http?://\\S+|www\\.\\S+', '', cleaned_image)\n",
        "    # Remove image formats like .jpg, .png, etc.\n",
        "    cleaned_image = re.sub(r'\\.\\w+', ' ', cleaned_image)\n",
        "    # Convert to lowercase\n",
        "    cleaned_image = cleaned_image.lower()\n",
        "    # Tokenize the text\n",
        "    tokens = word_tokenize(cleaned_image)\n",
        "    # Remove stopwords\n",
        "    stop_words = set(stopwords.words('english'))\n",
        "    tokens = [word for word in tokens if word not in stop_words]\n",
        "    # Lemmatize the tokens\n",
        "    lemmatizer = WordNetLemmatizer()\n",
        "    tokens = [lemmatizer.lemmatize(token) for token in tokens]\n",
        "    # Join the tokens back to a single string\n",
        "    cleaned_image = ' '.join(tokens)\n",
        "    preprocessed_images.append(cleaned_image)\n",
        "\n",
        "\n",
        "# Preprocess links\n",
        "preprocessed_links = [re.sub(r'https?://', '', link) for link in data['links']]\n",
        "preprocessed_links = [preprocess_text(link) for link in preprocessed_links]\n",
        "\n",
        "# Preprocess contact_info\n",
        "preprocessed_contact_info = [info for info in data['contact_info'] if any(c.isalnum() for c in info)]\n",
        "\n",
        "# Create a new dictionary to store the preprocessed data\n",
        "preprocessed_data = {\n",
        "    \"url\": data[\"url\"],\n",
        "    \"cleaned_text\": cleaned_text,\n",
        "    \"preprocessed_meta_description\": preprocessed_meta_description,\n",
        "    \"preprocessed_images\": preprocessed_images,\n",
        "    \"preprocessed_links\": preprocessed_links,\n",
        "    \"preprocessed_contact_info\": preprocessed_contact_info\n",
        "}\n",
        "\n",
        "# Remove empty lists from preprocessed_data\n",
        "preprocessed_data = {key: value for key, value in preprocessed_data.items() if value or key == \"cleaned_text\"}\n",
        "\n",
        "# Save the preprocessed data to a JSON file\n",
        "output_file = \"preprocessed_data.json\"\n",
        "with open(output_file, \"w\") as json_file:\n",
        "    json.dump(preprocessed_data, json_file, indent=4)\n",
        "\n",
        "print(\"Preprocessed data saved to\", output_file)\n"
      ],
      "metadata": {
        "id": "54VY639e4Nu3",
        "colab": {
          "base_uri": "https://localhost:8080/"
        },
        "outputId": "89e74cc3-4d8b-4024-bcb3-ecb9970a29f3"
      },
      "execution_count": null,
      "outputs": [
        {
          "output_type": "stream",
          "name": "stdout",
          "text": [
            "Preprocessed data saved to preprocessed_data.json\n"
          ]
        }
      ]
    },
    {
      "cell_type": "code",
      "source": [
        "import json\n",
        "\n",
        "# Define the path to the JSON file\n",
        "json_file = \"preprocessed_data.json\"\n",
        "\n",
        "# Load the JSON data\n",
        "with open(json_file) as file:\n",
        "    data = json.load(file)\n",
        "\n",
        "# Print the loaded data\n",
        "print(data)\n"
      ],
      "metadata": {
        "colab": {
          "base_uri": "https://localhost:8080/"
        },
        "id": "jKCfiIf4TSRK",
        "outputId": "1fe80f7a-d7fc-43ba-bbe4-85d76f420564"
      },
      "execution_count": null,
      "outputs": [
        {
          "output_type": "stream",
          "name": "stdout",
          "text": [
            "{'url': 'https://www.amazon.in/', 'cleaned_text': 'online shopping site india shop online mobile book watch shoe amazon inskip main content inhelloselect addressallselect department want search inall categoriesalexa skillsamazon devicesamazon fashionamazon freshamazon pharmacyappliancesapps gamesbabybeautybookscar motorbikeclothing accessoriescollectiblescomputers accessorieselectronicsfurnituregarden outdoorsgift cardsgrocery gourmet foodshealth personal carehome kitchenindustrial scientificjewellerykindle storeluggage bagsluxury beautymovies tv showsmusicmusical instrumentsoffice productspet suppliesprime videoshoes handbagssoftwaresports fitness outdoorssubscribe savetools home improvementtoys gamesunder video gameswatchessearch amazon inenhello sign inaccount listsreturns orderscartallamazon minitvsellbest sellersmobilestoday dealscustomer servicenew releasesprimeelectronicshome kitchenamazon paygift ideasfashioncomputersbookscouponsbeauty personal caretoys gamessports fitness outdoorscar motorbikehome improvementgrocery gourmet foodsgift cardshealth household personal carebabyvideo gamespet suppliessubscribe saveaudibleamazonbasicskindle ebooksprevious slidenext slidemakeup productssee morenew look new seasonshop fashiondo homesee moresmart gadget amazonshop nowvalue bazaarshop daily essentialswork home essentialsrouterslaptopskeyboards mouse moreheadphonessee morerevamp home stylebedsheets curtain morehome decorationhome storagelighting solutionsexplore allinnovations emerging indian brandsexplore startupsyour recently viewed item featured recommendation view edit browsing historyafter viewing product detail page look find easy way navigate back page interested recently viewed item featured recommendation view edit browsing historyafter viewing product detail page look find easy way navigate back page interested back topget know usabout uscareerspress releasesamazon scienceconnect usfacebooktwitterinstagrammake money ussell amazonsell amazon acceleratorprotect build brandamazon global sellingbecome affiliatefulfilment amazonadvertise productsamazon pay merchantslet u help youcovid amazonyour accountreturns centre purchase protectionamazon app downloadhelpenglishaustraliabrazilcanadachinafrancegermanyitalyjapanmexiconetherlandspolandsingaporespainturkeyunited arab emiratesunited kingdomunited statesabebooksbooks art collectiblesamazon web servicesscalable cloudcomputing servicesaudibledownloadaudio booksdpreviewdigitalphotographyimdbmovies tv celebritiesshopbopdesignerfashion brandsamazon businesseverything foryour businessprime hour deliveryon everyday itemsamazon prime music million song ad freeover million podcast episodesconditions use saleprivacy noticeinterest based ad amazon com inc affiliate', 'preprocessed_meta_description': 'amazon online shopping india buy mobile laptop camera book watch apparel shoe e gift card free shipping cash delivery available', 'preprocessed_images': ['http medium amazon com image g social share amazon logo cb png', 'http medium amazon com image g gno sprite nav sprite global x reorg celnav cb png', 'http medium amazon com image g event pd gw swm x launch v cb jpg', 'http medium amazon com image id jjpm l sx jpg', 'http image eu ssl image amazon com image g img beauty gw desktop make cc desktop x sy cb jpg', 'http image eu ssl image amazon com image g gateway event jupiterfallback jupiter bau pc top card fashion x sy cb jpg', 'http image eu ssl image amazon com image g gateway event jupiterfallback jupiter bau pc top card home x sy cb jpg', 'http image eu ssl image amazon com image g img amazondevices neel march x sy cb jpg', 'http image eu ssl image amazon com image g gateway event jupiterfallback jupiter bau pc top card grocery x sy cb jpg', 'http image eu ssl image amazon com image g img cepc covid v cepc contingency covid gw april rush dbqc x sy cb jpg', 'http image eu ssl image amazon com image g img cepc covid v cepc contingency covid gw april rush dbqc x sy cb jpg', 'http image eu ssl image amazon com image g img cepc covid v cepc contingency covid gw april rush dbqc x sy cb jpg', 'http image eu ssl image amazon com image g img cepc covid v cepc contingency covid gw april rush dbqc x sy cb jpg', 'http image eu ssl image amazon com image g img home bau gwpc xcm manual x x bd eee f e e e f f jpg lower ql sy cb jpg', 'http image eu ssl image amazon com image g img home bau gwpc xcm manual x x e dc fca f jpg lower ql sy cb jpg', 'http image eu ssl image amazon com image g img home bau gwpc xcm manual x x ccc f ea cfb f e jpg lower ql sy cb jpg', 'http image eu ssl image amazon com image g img home bau gwpc xcm manual x x bc e dc aa aae fd dacd f jpg lower ql sy cb jpg', 'http image eu ssl image amazon com image g img amazonlaunchpad gateway june dhyana sy cb jpg', 'http medium amazon com image g personalization ybh loading x gray cb gif'], 'preprocessed_links': ['ref nav logo', 'customer preference edit ie utf preferencesreturnurl f ref topnav lang', 'www amazon ap signin openid pape max auth age openid return http f fwww amazon f f encoding dutf ref dnav ya signin openid identity http f fspecs openid net fauth f fidentifier select openid assoc handle inflex openid mode checkid setup openid claimed id http f fspecs openid net fauth f fidentifier select openid n http f fspecs openid net fauth f', 'gp cs order history ref nav order first', 'www amazon gp cart view html ref nav cart', 'gp site directory ref nav em j disabled', 'minitv ref nav avod desktop topnav', 'b node ld azinsoanavdesktop ref nav c sell', 'gp bestseller ref nav c bestseller', 'mobile phone b ie utf node ref nav c mobile', 'deal ref nav c gb', 'gp help customer display html nodeid ref nav c help', 'gp new release ref nav c newreleases', 'prime ref nav c primelink nonmember', 'electronics b ie utf node ref nav c electronics', 'home kitchen b ie utf node ref nav c home', 'gp sva dashboard ref nav c apay', 'gcx gfhz ref nav c giftfinder', 'gp browse html node ref nav c fashion', 'computer accessory b ie utf node ref nav c pc', 'book b ie utf node ref nav c book', 'amazon coupon b encoding utf node ref nav c coupon', 'beauty b ie utf node ref nav c beauty', 'toy game b ie utf node ref nav c toy', 'sport b ie utf node ref nav c sport', 'car motorbike store b ie utf node ref nav c automotive', 'home improvement b ie utf node ref nav c hi', 'gourmet specialty food b ie utf node ref nav c grocery', 'gift card store b ie utf node ref nav c gc', 'health personal care b ie utf node ref nav c hpc', 'baby b ie utf node ref nav c baby', 'video game b ie utf node ref nav c video game', 'pet supply b ie utf node ref nav c pet', 'auto delivery landing ref nav c sn', 'audible book original b ie utf node ref nav c audible', 'b node ref nav c amazonbasics', 'kindle ebooks b ie utf node ref nav c kindle book', 'l encoding utf ref nav swm swm gd pf rd p e b bf f e df pf rd nav sitewide msg pf rd pf rd navbar pf rd tjruun kgv pf rd r jh rgfb zcsrq', '', 'b encoding utf node', '', 'b node', 'b node', 'b node', 'b node', 'b node', 'b node', 'hidden keywords b kthkk cb w q cb jd j cb j fgq cb hnp z cb yhvmk cb qqzzjk cb frjtz cb z cb xdbnscp cb c l vc ref nb sb no', 'hidden keywords b kthkk cb w q cb jd j cb j fgq cb hnp z cb yhvmk cb qqzzjk cb frjtz cb z cb xdbnscp cb c l vc ref nb sb no', 'b node', 'b node', 'b node', 'b node', 'b node', 'b ie utf node', 'b node', 'b node', 'b node', 'b node', 'b node', 'b node', 'b node ref inalgw', 'b node ref inalgw', 'gp history', 'gp history', '', 'www aboutamazon utm source gateway utm medium footer', 'amazon job', 'press aboutamazon utm source gateway utm medium footer', 'www amazon science', 'www amazon gp redirect html ref footer fb location www facebook com amazonin token eac bb e fd e', 'www amazon gp redirect html ref footer twitter location twitter com amazonin token dfbfcb e ff dc f b', 'www amazon gp redirect html location www instagram com amazondotin token c e cb b f e df bfc source standard', 'b node ld azinsoanavdesktopfooter c ref nav footer sell c', 'accelerator amazon ref map b b gw ft', 'brandservices amazon ref aoinabrlgnrfoot ld aoinabrlgnrfoot', 'sell amazon grow business amazon global selling html ld azin footer v ref azin footer v', 'affiliate program amazon utm campaign assocshowcase utm medium footer utm source gw ref footer assoc', 'service amazon service fulfilment amazon benefit html ref az footer fba ld awrginfbafooter', 'advertising amazon ref amz', 'www amazonpay merchant', 'gp help customer display html nodeid gdfu j al syhrd ref footer covid', 'gp cs homepage html ref footer ya', 'gp cs return homepage html ref footer hy f', 'gp help customer display html nodeid ref footer swc', 'gp browse html node ref footer mobapp', 'gp help customer display html nodeid ref footer gw b', 'ref footer logo', 'customer preference edit ie utf preferencesreturnurl f ref footer lang', 'www amazon com au ref footer au', 'www amazon com br ref footer br', 'www amazon ca ref footer ca', 'www amazon cn ref footer cn', 'www amazon fr ref footer fr', 'www amazon de ref footer de', 'www amazon ref footer', 'www amazon co jp ref footer jp', 'www amazon com mx ref footer mx', 'www amazon nl ref footer nl', 'www amazon pl ref footer pl', 'www amazon sg ref footer sg', 'www amazon e ref footer e', 'www amazon com tr ref footer tr', 'www amazon ae ref footer ae', 'www amazon co uk ref footer uk', 'www amazon com ref footer u', 'www abebooks com', 'aws amazon com cloud computing sc channel el sc campaign amazonfooter', 'www audible', 'www dpreview com', 'www imdb com', 'www shopbop com', 'business ref footer aingw', 'ref footer amznow', 'music prime ref footer apm', 'gp help customer display html nodeid ref footer cou', 'gp help customer display html nodeid ref footer privacy', 'gp help customer display html nodeid ref footer iba']}\n"
          ]
        }
      ]
    },
    {
      "cell_type": "code",
      "source": [
        "# NLP Analysis\n",
        "nltk.download('punkt')\n",
        "nltk.download('averaged_perceptron_tagger')\n",
        "nltk.download('wordnet')\n",
        "nltk.download('vader_lexicon')"
      ],
      "metadata": {
        "colab": {
          "base_uri": "https://localhost:8080/"
        },
        "id": "TIonpDS747Rc",
        "outputId": "a7ed6aba-0c4d-4293-aaa4-84305989e897"
      },
      "execution_count": null,
      "outputs": [
        {
          "output_type": "stream",
          "name": "stderr",
          "text": [
            "[nltk_data] Downloading package punkt to /root/nltk_data...\n",
            "[nltk_data]   Package punkt is already up-to-date!\n",
            "[nltk_data] Downloading package averaged_perceptron_tagger to\n",
            "[nltk_data]     /root/nltk_data...\n",
            "[nltk_data]   Package averaged_perceptron_tagger is already up-to-\n",
            "[nltk_data]       date!\n",
            "[nltk_data] Downloading package wordnet to /root/nltk_data...\n",
            "[nltk_data]   Package wordnet is already up-to-date!\n",
            "[nltk_data] Downloading package vader_lexicon to /root/nltk_data...\n",
            "[nltk_data]   Package vader_lexicon is already up-to-date!\n"
          ]
        },
        {
          "output_type": "execute_result",
          "data": {
            "text/plain": [
              "True"
            ]
          },
          "metadata": {},
          "execution_count": 23
        }
      ]
    },
    {
      "cell_type": "code",
      "source": [
        "import json\n",
        "import nltk\n",
        "from nltk.sentiment import SentimentIntensityAnalyzer\n",
        "from nltk.probability import FreqDist\n",
        "from nltk import ngrams\n",
        "\n",
        "# Load the preprocessed data\n",
        "json_file = \"preprocessed_data.json\"\n",
        "with open(json_file) as file:\n",
        "    preprocessed_data = json.load(file)\n",
        "\n",
        "# Analyze sentiment\n",
        "text = preprocessed_data['cleaned_text']\n",
        "sid = SentimentIntensityAnalyzer()\n",
        "sentiment_scores = sid.polarity_scores(text)\n",
        "print(\"Sentiment Scores:\", sentiment_scores)\n",
        "\n",
        "# Perform frequency distribution\n",
        "tokens = nltk.word_tokenize(text)\n",
        "fdist = FreqDist(tokens)\n",
        "print(\"Most Common Words:\", fdist.most_common(50))\n",
        "\n",
        "# Perform n-gram analysis\n",
        "n = 2\n",
        "ngrams_list = list(ngrams(tokens, n))\n",
        "print(f\"Most Common {n}-grams:\", nltk.FreqDist(ngrams_list).most_common(50))\n"
      ],
      "metadata": {
        "colab": {
          "base_uri": "https://localhost:8080/"
        },
        "id": "D_V9OnDXUDe3",
        "outputId": "d3f7ed76-bae1-4133-f06a-2859644dcc1a"
      },
      "execution_count": null,
      "outputs": [
        {
          "output_type": "stream",
          "name": "stdout",
          "text": [
            "Sentiment Scores: {'neg': 0.006, 'neu': 0.888, 'pos': 0.106, 'compound': 0.9628}\n",
            "Most Common Words: [('amazon', 4), ('page', 4), ('personal', 3), ('home', 3), ('look', 3), ('back', 3), ('online', 2), ('gourmet', 2), ('tv', 2), ('fitness', 2), ('recently', 2), ('viewed', 2), ('item', 2), ('featured', 2), ('recommendation', 2), ('view', 2), ('edit', 2), ('browsing', 2), ('historyafter', 2), ('viewing', 2), ('product', 2), ('detail', 2), ('find', 2), ('easy', 2), ('way', 2), ('navigate', 2), ('interested', 2), ('million', 2), ('ad', 2), ('shopping', 1), ('site', 1), ('india', 1), ('shop', 1), ('mobile', 1), ('book', 1), ('watch', 1), ('shoe', 1), ('inskip', 1), ('main', 1), ('content', 1), ('inhelloselect', 1), ('addressallselect', 1), ('department', 1), ('want', 1), ('search', 1), ('inall', 1), ('categoriesalexa', 1), ('skillsamazon', 1), ('devicesamazon', 1), ('fashionamazon', 1)]\n",
            "Most Common 2-grams: [(('recently', 'viewed'), 2), (('viewed', 'item'), 2), (('item', 'featured'), 2), (('featured', 'recommendation'), 2), (('recommendation', 'view'), 2), (('view', 'edit'), 2), (('edit', 'browsing'), 2), (('browsing', 'historyafter'), 2), (('historyafter', 'viewing'), 2), (('viewing', 'product'), 2), (('product', 'detail'), 2), (('detail', 'page'), 2), (('page', 'look'), 2), (('look', 'find'), 2), (('find', 'easy'), 2), (('easy', 'way'), 2), (('way', 'navigate'), 2), (('navigate', 'back'), 2), (('back', 'page'), 2), (('page', 'interested'), 2), (('online', 'shopping'), 1), (('shopping', 'site'), 1), (('site', 'india'), 1), (('india', 'shop'), 1), (('shop', 'online'), 1), (('online', 'mobile'), 1), (('mobile', 'book'), 1), (('book', 'watch'), 1), (('watch', 'shoe'), 1), (('shoe', 'amazon'), 1), (('amazon', 'inskip'), 1), (('inskip', 'main'), 1), (('main', 'content'), 1), (('content', 'inhelloselect'), 1), (('inhelloselect', 'addressallselect'), 1), (('addressallselect', 'department'), 1), (('department', 'want'), 1), (('want', 'search'), 1), (('search', 'inall'), 1), (('inall', 'categoriesalexa'), 1), (('categoriesalexa', 'skillsamazon'), 1), (('skillsamazon', 'devicesamazon'), 1), (('devicesamazon', 'fashionamazon'), 1), (('fashionamazon', 'freshamazon'), 1), (('freshamazon', 'pharmacyappliancesapps'), 1), (('pharmacyappliancesapps', 'gamesbabybeautybookscar'), 1), (('gamesbabybeautybookscar', 'motorbikeclothing'), 1), (('motorbikeclothing', 'accessoriescollectiblescomputers'), 1), (('accessoriescollectiblescomputers', 'accessorieselectronicsfurnituregarden'), 1), (('accessorieselectronicsfurnituregarden', 'outdoorsgift'), 1)]\n"
          ]
        }
      ]
    },
    {
      "cell_type": "code",
      "source": [
        "import json\n",
        "import nltk\n",
        "from nltk.sentiment import SentimentIntensityAnalyzer\n",
        "from nltk.probability import FreqDist\n",
        "from nltk import ngrams\n",
        "from nltk.tokenize import word_tokenize, sent_tokenize\n",
        "\n",
        "# Load the preprocessed data\n",
        "json_file = \"preprocessed_data.json\"\n",
        "with open(json_file) as file:\n",
        "    preprocessed_data = json.load(file)\n",
        "\n",
        "# Dictionary to store the NLP analysis results\n",
        "nlp_analysis = {}\n",
        "\n",
        "# Perform NLP analysis on each field\n",
        "for field, text in preprocessed_data.items():\n",
        "    analysis_result = {}\n",
        "\n",
        "    # Handle cases where text is a list\n",
        "    if isinstance(text, list):\n",
        "        text = ' '.join(text)\n",
        "\n",
        "    # Sentiment Analysis\n",
        "    sid = SentimentIntensityAnalyzer()\n",
        "    sentiment_scores = sid.polarity_scores(text)\n",
        "    analysis_result[\"Sentiment Scores\"] = sentiment_scores\n",
        "\n",
        "    # Frequency Distribution\n",
        "    tokens = word_tokenize(text)\n",
        "    fdist = FreqDist(tokens)\n",
        "    analysis_result[\"Most Common Words\"] = fdist.most_common(50)\n",
        "\n",
        "    # N-gram Analysis\n",
        "    n = 2\n",
        "    ngrams_list = list(ngrams(tokens, n))\n",
        "    analysis_result[f\"Most Common {n}-grams\"] = nltk.FreqDist(ngrams_list).most_common(50)\n",
        "\n",
        "    # Tokenization\n",
        "    analysis_result[\"Tokens\"] = tokens\n",
        "\n",
        "    # Sentence Tokenization\n",
        "    sentences = sent_tokenize(text)\n",
        "    analysis_result[\"Sentences\"] = sentences\n",
        "\n",
        "    # Part-of-Speech (POS) Tagging\n",
        "    pos_tags = nltk.pos_tag(tokens)\n",
        "    analysis_result[\"POS Tags\"] = pos_tags\n",
        "\n",
        "    # Named Entity Recognition (NER)\n",
        "    nltk.download('maxent_ne_chunker')\n",
        "    nltk.download('words')\n",
        "    ner_tags = nltk.ne_chunk(pos_tags)\n",
        "    analysis_result[\"NER Tags\"] = ner_tags\n",
        "\n",
        "    # Add the analysis results to the dictionary\n",
        "    nlp_analysis[field] = analysis_result\n",
        "\n",
        "# Store the NLP analysis results of all fields in a single variable\n",
        "combined_analysis = {}\n",
        "\n",
        "for field, analysis_result in nlp_analysis.items():\n",
        "    for analysis_type, result in analysis_result.items():\n",
        "        if analysis_type not in combined_analysis:\n",
        "            combined_analysis[analysis_type] = []\n",
        "        combined_analysis[analysis_type].append(result)\n",
        "\n",
        "# Print the combined NLP analysis results\n",
        "for analysis_type, results in combined_analysis.items():\n",
        "    print(analysis_type + \":\")\n",
        "    print(results)\n",
        "    print(\"-\" * 50)"
      ],
      "metadata": {
        "colab": {
          "base_uri": "https://localhost:8080/"
        },
        "id": "XSH6WOjLVWzq",
        "outputId": "250ceb18-7dd0-4aa6-fbd3-33425f8a48d3"
      },
      "execution_count": null,
      "outputs": [
        {
          "output_type": "stream",
          "name": "stderr",
          "text": [
            "[nltk_data] Downloading package maxent_ne_chunker to\n",
            "[nltk_data]     /root/nltk_data...\n",
            "[nltk_data]   Package maxent_ne_chunker is already up-to-date!\n",
            "[nltk_data] Downloading package words to /root/nltk_data...\n",
            "[nltk_data]   Package words is already up-to-date!\n",
            "[nltk_data] Downloading package maxent_ne_chunker to\n",
            "[nltk_data]     /root/nltk_data...\n",
            "[nltk_data]   Package maxent_ne_chunker is already up-to-date!\n",
            "[nltk_data] Downloading package words to /root/nltk_data...\n",
            "[nltk_data]   Package words is already up-to-date!\n",
            "[nltk_data] Downloading package maxent_ne_chunker to\n",
            "[nltk_data]     /root/nltk_data...\n",
            "[nltk_data]   Package maxent_ne_chunker is already up-to-date!\n",
            "[nltk_data] Downloading package words to /root/nltk_data...\n",
            "[nltk_data]   Package words is already up-to-date!\n",
            "[nltk_data] Downloading package maxent_ne_chunker to\n",
            "[nltk_data]     /root/nltk_data...\n",
            "[nltk_data]   Package maxent_ne_chunker is already up-to-date!\n",
            "[nltk_data] Downloading package words to /root/nltk_data...\n",
            "[nltk_data]   Package words is already up-to-date!\n"
          ]
        },
        {
          "output_type": "stream",
          "name": "stdout",
          "text": [
            "Sentiment Scores:\n",
            "[{'neg': 0.0, 'neu': 1.0, 'pos': 0.0, 'compound': 0.0}, {'neg': 0.006, 'neu': 0.888, 'pos': 0.106, 'compound': 0.9628}, {'neg': 0.0, 'neu': 0.669, 'pos': 0.331, 'compound': 0.7845}, {'neg': 0.024, 'neu': 0.853, 'pos': 0.123, 'compound': 0.9705}, {'neg': 0.005, 'neu': 0.866, 'pos': 0.128, 'compound': 0.9974}]\n",
            "--------------------------------------------------\n",
            "Most Common Words:\n",
            "[[('https', 1), (':', 1), ('//www.amazon.in/', 1)], [('amazon', 4), ('page', 4), ('personal', 3), ('home', 3), ('look', 3), ('back', 3), ('online', 2), ('gourmet', 2), ('tv', 2), ('fitness', 2), ('recently', 2), ('viewed', 2), ('item', 2), ('featured', 2), ('recommendation', 2), ('view', 2), ('edit', 2), ('browsing', 2), ('historyafter', 2), ('viewing', 2), ('product', 2), ('detail', 2), ('find', 2), ('easy', 2), ('way', 2), ('navigate', 2), ('interested', 2), ('million', 2), ('ad', 2), ('shopping', 1), ('site', 1), ('india', 1), ('shop', 1), ('mobile', 1), ('book', 1), ('watch', 1), ('shoe', 1), ('inskip', 1), ('main', 1), ('content', 1), ('inhelloselect', 1), ('addressallselect', 1), ('department', 1), ('want', 1), ('search', 1), ('inall', 1), ('categoriesalexa', 1), ('skillsamazon', 1), ('devicesamazon', 1), ('fashionamazon', 1)], [('amazon', 1), ('online', 1), ('shopping', 1), ('india', 1), ('buy', 1), ('mobile', 1), ('laptop', 1), ('camera', 1), ('book', 1), ('watch', 1), ('apparel', 1), ('shoe', 1), ('e', 1), ('gift', 1), ('card', 1), ('free', 1), ('shipping', 1), ('cash', 1), ('delivery', 1), ('available', 1)], [('image', 47), ('amazon', 20), ('x', 20), ('jpg', 20), ('http', 19), ('com', 19), ('g', 18), ('cb', 18), ('eu', 14), ('ssl', 14), ('sy', 14), ('img', 11), ('cepc', 8), ('covid', 8), ('bau', 7), ('f', 7), ('gw', 6), ('e', 6), ('medium', 5), ('v', 5), ('home', 5), ('event', 4), ('gateway', 4), ('contingency', 4), ('april', 4), ('rush', 4), ('dbqc', 4), ('gwpc', 4), ('xcm', 4), ('manual', 4), ('lower', 4), ('ql', 4), ('jupiterfallback', 3), ('jupiter', 3), ('pc', 3), ('top', 3), ('card', 3), ('png', 2), ('sprite', 2), ('desktop', 2), ('dc', 2), ('social', 1), ('share', 1), ('logo', 1), ('gno', 1), ('nav', 1), ('global', 1), ('reorg', 1), ('celnav', 1), ('pd', 1)], [('ref', 82), ('b', 51), ('node', 45), ('footer', 41), ('nav', 38), ('amazon', 35), ('c', 35), ('www', 32), ('utf', 24), ('gp', 22), ('ie', 21), ('cb', 21), ('html', 17), ('f', 15), ('com', 13), ('openid', 10), ('customer', 9), ('e', 9), ('help', 8), ('display', 7), ('nodeid', 7), ('utm', 7), ('j', 6), ('pf', 6), ('rd', 6), ('ld', 5), ('http', 4), ('encoding', 4), ('book', 4), ('z', 4), ('source', 4), ('fspecs', 3), ('net', 3), ('fauth', 3), ('cs', 3), ('history', 3), ('sell', 3), ('home', 3), ('game', 3), ('audible', 3), ('l', 3), ('medium', 3), ('redirect', 3), ('location', 3), ('token', 3), ('gw', 3), ('logo', 2), ('preference', 2), ('edit', 2), ('preferencesreturnurl', 2)]]\n",
            "--------------------------------------------------\n",
            "Most Common 2-grams:\n",
            "[[(('https', ':'), 1), ((':', '//www.amazon.in/'), 1)], [(('recently', 'viewed'), 2), (('viewed', 'item'), 2), (('item', 'featured'), 2), (('featured', 'recommendation'), 2), (('recommendation', 'view'), 2), (('view', 'edit'), 2), (('edit', 'browsing'), 2), (('browsing', 'historyafter'), 2), (('historyafter', 'viewing'), 2), (('viewing', 'product'), 2), (('product', 'detail'), 2), (('detail', 'page'), 2), (('page', 'look'), 2), (('look', 'find'), 2), (('find', 'easy'), 2), (('easy', 'way'), 2), (('way', 'navigate'), 2), (('navigate', 'back'), 2), (('back', 'page'), 2), (('page', 'interested'), 2), (('online', 'shopping'), 1), (('shopping', 'site'), 1), (('site', 'india'), 1), (('india', 'shop'), 1), (('shop', 'online'), 1), (('online', 'mobile'), 1), (('mobile', 'book'), 1), (('book', 'watch'), 1), (('watch', 'shoe'), 1), (('shoe', 'amazon'), 1), (('amazon', 'inskip'), 1), (('inskip', 'main'), 1), (('main', 'content'), 1), (('content', 'inhelloselect'), 1), (('inhelloselect', 'addressallselect'), 1), (('addressallselect', 'department'), 1), (('department', 'want'), 1), (('want', 'search'), 1), (('search', 'inall'), 1), (('inall', 'categoriesalexa'), 1), (('categoriesalexa', 'skillsamazon'), 1), (('skillsamazon', 'devicesamazon'), 1), (('devicesamazon', 'fashionamazon'), 1), (('fashionamazon', 'freshamazon'), 1), (('freshamazon', 'pharmacyappliancesapps'), 1), (('pharmacyappliancesapps', 'gamesbabybeautybookscar'), 1), (('gamesbabybeautybookscar', 'motorbikeclothing'), 1), (('motorbikeclothing', 'accessoriescollectiblescomputers'), 1), (('accessoriescollectiblescomputers', 'accessorieselectronicsfurnituregarden'), 1), (('accessorieselectronicsfurnituregarden', 'outdoorsgift'), 1)], [(('amazon', 'online'), 1), (('online', 'shopping'), 1), (('shopping', 'india'), 1), (('india', 'buy'), 1), (('buy', 'mobile'), 1), (('mobile', 'laptop'), 1), (('laptop', 'camera'), 1), (('camera', 'book'), 1), (('book', 'watch'), 1), (('watch', 'apparel'), 1), (('apparel', 'shoe'), 1), (('shoe', 'e'), 1), (('e', 'gift'), 1), (('gift', 'card'), 1), (('card', 'free'), 1), (('free', 'shipping'), 1), (('shipping', 'cash'), 1), (('cash', 'delivery'), 1), (('delivery', 'available'), 1)], [(('amazon', 'com'), 19), (('com', 'image'), 19), (('image', 'g'), 18), (('jpg', 'http'), 16), (('cb', 'jpg'), 15), (('http', 'image'), 14), (('image', 'eu'), 14), (('eu', 'ssl'), 14), (('ssl', 'image'), 14), (('image', 'amazon'), 14), (('sy', 'cb'), 14), (('g', 'img'), 11), (('x', 'sy'), 9), (('http', 'medium'), 5), (('medium', 'amazon'), 5), (('img', 'cepc'), 4), (('cepc', 'covid'), 4), (('covid', 'v'), 4), (('v', 'cepc'), 4), (('cepc', 'contingency'), 4), (('contingency', 'covid'), 4), (('covid', 'gw'), 4), (('gw', 'april'), 4), (('april', 'rush'), 4), (('rush', 'dbqc'), 4), (('dbqc', 'x'), 4), (('img', 'home'), 4), (('home', 'bau'), 4), (('bau', 'gwpc'), 4), (('gwpc', 'xcm'), 4), (('xcm', 'manual'), 4), (('manual', 'x'), 4), (('x', 'x'), 4), (('jpg', 'lower'), 4), (('lower', 'ql'), 4), (('ql', 'sy'), 4), (('g', 'gateway'), 3), (('gateway', 'event'), 3), (('event', 'jupiterfallback'), 3), (('jupiterfallback', 'jupiter'), 3), (('jupiter', 'bau'), 3), (('bau', 'pc'), 3), (('pc', 'top'), 3), (('top', 'card'), 3), (('f', 'jpg'), 3), (('cb', 'png'), 2), (('png', 'http'), 2), (('f', 'e'), 2), (('e', 'e'), 2), (('e', 'dc'), 2)], [(('ref', 'nav'), 37), (('ref', 'footer'), 34), (('nav', 'c'), 30), (('node', 'ref'), 24), (('www', 'amazon'), 23), (('b', 'node'), 22), (('ie', 'utf'), 21), (('utf', 'node'), 21), (('b', 'ie'), 19), (('node', 'b'), 18), (('gp', 'help'), 7), (('help', 'customer'), 7), (('customer', 'display'), 7), (('display', 'html'), 7), (('html', 'nodeid'), 7), (('html', 'ref'), 6), (('nodeid', 'ref'), 6), (('pf', 'rd'), 6), (('amazon', 'com'), 6), (('http', 'f'), 4), (('amazon', 'gp'), 4), (('z', 'cb'), 4), (('amazon', 'ref'), 4), (('f', 'fspecs'), 3), (('fspecs', 'openid'), 3), (('openid', 'net'), 3), (('net', 'fauth'), 3), (('fauth', 'f'), 3), (('gp', 'cs'), 3), (('encoding', 'utf'), 3), (('utm', 'source'), 3), (('utm', 'medium'), 3), (('medium', 'footer'), 3), (('gp', 'redirect'), 3), (('redirect', 'html'), 3), (('logo', 'customer'), 2), (('customer', 'preference'), 2), (('preference', 'edit'), 2), (('edit', 'ie'), 2), (('utf', 'preferencesreturnurl'), 2), (('preferencesreturnurl', 'f'), 2), (('f', 'ref'), 2), (('lang', 'www'), 2), (('signin', 'openid'), 2), (('f', 'fidentifier'), 2), (('fidentifier', 'select'), 2), (('select', 'openid'), 2), (('f', 'gp'), 2), (('node', 'ld'), 2), (('prime', 'ref'), 2)]]\n",
            "--------------------------------------------------\n",
            "Tokens:\n",
            "[['https', ':', '//www.amazon.in/'], ['online', 'shopping', 'site', 'india', 'shop', 'online', 'mobile', 'book', 'watch', 'shoe', 'amazon', 'inskip', 'main', 'content', 'inhelloselect', 'addressallselect', 'department', 'want', 'search', 'inall', 'categoriesalexa', 'skillsamazon', 'devicesamazon', 'fashionamazon', 'freshamazon', 'pharmacyappliancesapps', 'gamesbabybeautybookscar', 'motorbikeclothing', 'accessoriescollectiblescomputers', 'accessorieselectronicsfurnituregarden', 'outdoorsgift', 'cardsgrocery', 'gourmet', 'foodshealth', 'personal', 'carehome', 'kitchenindustrial', 'scientificjewellerykindle', 'storeluggage', 'bagsluxury', 'beautymovies', 'tv', 'showsmusicmusical', 'instrumentsoffice', 'productspet', 'suppliesprime', 'videoshoes', 'handbagssoftwaresports', 'fitness', 'outdoorssubscribe', 'savetools', 'home', 'improvementtoys', 'gamesunder', 'video', 'gameswatchessearch', 'amazon', 'inenhello', 'sign', 'inaccount', 'listsreturns', 'orderscartallamazon', 'minitvsellbest', 'sellersmobilestoday', 'dealscustomer', 'servicenew', 'releasesprimeelectronicshome', 'kitchenamazon', 'paygift', 'ideasfashioncomputersbookscouponsbeauty', 'personal', 'caretoys', 'gamessports', 'fitness', 'outdoorscar', 'motorbikehome', 'improvementgrocery', 'gourmet', 'foodsgift', 'cardshealth', 'household', 'personal', 'carebabyvideo', 'gamespet', 'suppliessubscribe', 'saveaudibleamazonbasicskindle', 'ebooksprevious', 'slidenext', 'slidemakeup', 'productssee', 'morenew', 'look', 'new', 'seasonshop', 'fashiondo', 'homesee', 'moresmart', 'gadget', 'amazonshop', 'nowvalue', 'bazaarshop', 'daily', 'essentialswork', 'home', 'essentialsrouterslaptopskeyboards', 'mouse', 'moreheadphonessee', 'morerevamp', 'home', 'stylebedsheets', 'curtain', 'morehome', 'decorationhome', 'storagelighting', 'solutionsexplore', 'allinnovations', 'emerging', 'indian', 'brandsexplore', 'startupsyour', 'recently', 'viewed', 'item', 'featured', 'recommendation', 'view', 'edit', 'browsing', 'historyafter', 'viewing', 'product', 'detail', 'page', 'look', 'find', 'easy', 'way', 'navigate', 'back', 'page', 'interested', 'recently', 'viewed', 'item', 'featured', 'recommendation', 'view', 'edit', 'browsing', 'historyafter', 'viewing', 'product', 'detail', 'page', 'look', 'find', 'easy', 'way', 'navigate', 'back', 'page', 'interested', 'back', 'topget', 'know', 'usabout', 'uscareerspress', 'releasesamazon', 'scienceconnect', 'usfacebooktwitterinstagrammake', 'money', 'ussell', 'amazonsell', 'amazon', 'acceleratorprotect', 'build', 'brandamazon', 'global', 'sellingbecome', 'affiliatefulfilment', 'amazonadvertise', 'productsamazon', 'pay', 'merchantslet', 'u', 'help', 'youcovid', 'amazonyour', 'accountreturns', 'centre', 'purchase', 'protectionamazon', 'app', 'downloadhelpenglishaustraliabrazilcanadachinafrancegermanyitalyjapanmexiconetherlandspolandsingaporespainturkeyunited', 'arab', 'emiratesunited', 'kingdomunited', 'statesabebooksbooks', 'art', 'collectiblesamazon', 'web', 'servicesscalable', 'cloudcomputing', 'servicesaudibledownloadaudio', 'booksdpreviewdigitalphotographyimdbmovies', 'tv', 'celebritiesshopbopdesignerfashion', 'brandsamazon', 'businesseverything', 'foryour', 'businessprime', 'hour', 'deliveryon', 'everyday', 'itemsamazon', 'prime', 'music', 'million', 'song', 'ad', 'freeover', 'million', 'podcast', 'episodesconditions', 'use', 'saleprivacy', 'noticeinterest', 'based', 'ad', 'amazon', 'com', 'inc', 'affiliate'], ['amazon', 'online', 'shopping', 'india', 'buy', 'mobile', 'laptop', 'camera', 'book', 'watch', 'apparel', 'shoe', 'e', 'gift', 'card', 'free', 'shipping', 'cash', 'delivery', 'available'], ['http', 'medium', 'amazon', 'com', 'image', 'g', 'social', 'share', 'amazon', 'logo', 'cb', 'png', 'http', 'medium', 'amazon', 'com', 'image', 'g', 'gno', 'sprite', 'nav', 'sprite', 'global', 'x', 'reorg', 'celnav', 'cb', 'png', 'http', 'medium', 'amazon', 'com', 'image', 'g', 'event', 'pd', 'gw', 'swm', 'x', 'launch', 'v', 'cb', 'jpg', 'http', 'medium', 'amazon', 'com', 'image', 'id', 'jjpm', 'l', 'sx', 'jpg', 'http', 'image', 'eu', 'ssl', 'image', 'amazon', 'com', 'image', 'g', 'img', 'beauty', 'gw', 'desktop', 'make', 'cc', 'desktop', 'x', 'sy', 'cb', 'jpg', 'http', 'image', 'eu', 'ssl', 'image', 'amazon', 'com', 'image', 'g', 'gateway', 'event', 'jupiterfallback', 'jupiter', 'bau', 'pc', 'top', 'card', 'fashion', 'x', 'sy', 'cb', 'jpg', 'http', 'image', 'eu', 'ssl', 'image', 'amazon', 'com', 'image', 'g', 'gateway', 'event', 'jupiterfallback', 'jupiter', 'bau', 'pc', 'top', 'card', 'home', 'x', 'sy', 'cb', 'jpg', 'http', 'image', 'eu', 'ssl', 'image', 'amazon', 'com', 'image', 'g', 'img', 'amazondevices', 'neel', 'march', 'x', 'sy', 'cb', 'jpg', 'http', 'image', 'eu', 'ssl', 'image', 'amazon', 'com', 'image', 'g', 'gateway', 'event', 'jupiterfallback', 'jupiter', 'bau', 'pc', 'top', 'card', 'grocery', 'x', 'sy', 'cb', 'jpg', 'http', 'image', 'eu', 'ssl', 'image', 'amazon', 'com', 'image', 'g', 'img', 'cepc', 'covid', 'v', 'cepc', 'contingency', 'covid', 'gw', 'april', 'rush', 'dbqc', 'x', 'sy', 'cb', 'jpg', 'http', 'image', 'eu', 'ssl', 'image', 'amazon', 'com', 'image', 'g', 'img', 'cepc', 'covid', 'v', 'cepc', 'contingency', 'covid', 'gw', 'april', 'rush', 'dbqc', 'x', 'sy', 'cb', 'jpg', 'http', 'image', 'eu', 'ssl', 'image', 'amazon', 'com', 'image', 'g', 'img', 'cepc', 'covid', 'v', 'cepc', 'contingency', 'covid', 'gw', 'april', 'rush', 'dbqc', 'x', 'sy', 'cb', 'jpg', 'http', 'image', 'eu', 'ssl', 'image', 'amazon', 'com', 'image', 'g', 'img', 'cepc', 'covid', 'v', 'cepc', 'contingency', 'covid', 'gw', 'april', 'rush', 'dbqc', 'x', 'sy', 'cb', 'jpg', 'http', 'image', 'eu', 'ssl', 'image', 'amazon', 'com', 'image', 'g', 'img', 'home', 'bau', 'gwpc', 'xcm', 'manual', 'x', 'x', 'bd', 'eee', 'f', 'e', 'e', 'e', 'f', 'f', 'jpg', 'lower', 'ql', 'sy', 'cb', 'jpg', 'http', 'image', 'eu', 'ssl', 'image', 'amazon', 'com', 'image', 'g', 'img', 'home', 'bau', 'gwpc', 'xcm', 'manual', 'x', 'x', 'e', 'dc', 'fca', 'f', 'jpg', 'lower', 'ql', 'sy', 'cb', 'jpg', 'http', 'image', 'eu', 'ssl', 'image', 'amazon', 'com', 'image', 'g', 'img', 'home', 'bau', 'gwpc', 'xcm', 'manual', 'x', 'x', 'ccc', 'f', 'ea', 'cfb', 'f', 'e', 'jpg', 'lower', 'ql', 'sy', 'cb', 'jpg', 'http', 'image', 'eu', 'ssl', 'image', 'amazon', 'com', 'image', 'g', 'img', 'home', 'bau', 'gwpc', 'xcm', 'manual', 'x', 'x', 'bc', 'e', 'dc', 'aa', 'aae', 'fd', 'dacd', 'f', 'jpg', 'lower', 'ql', 'sy', 'cb', 'jpg', 'http', 'image', 'eu', 'ssl', 'image', 'amazon', 'com', 'image', 'g', 'img', 'amazonlaunchpad', 'gateway', 'june', 'dhyana', 'sy', 'cb', 'jpg', 'http', 'medium', 'amazon', 'com', 'image', 'g', 'personalization', 'ybh', 'loading', 'x', 'gray', 'cb', 'gif'], ['ref', 'nav', 'logo', 'customer', 'preference', 'edit', 'ie', 'utf', 'preferencesreturnurl', 'f', 'ref', 'topnav', 'lang', 'www', 'amazon', 'ap', 'signin', 'openid', 'pape', 'max', 'auth', 'age', 'openid', 'return', 'http', 'f', 'fwww', 'amazon', 'f', 'f', 'encoding', 'dutf', 'ref', 'dnav', 'ya', 'signin', 'openid', 'identity', 'http', 'f', 'fspecs', 'openid', 'net', 'fauth', 'f', 'fidentifier', 'select', 'openid', 'assoc', 'handle', 'inflex', 'openid', 'mode', 'checkid', 'setup', 'openid', 'claimed', 'id', 'http', 'f', 'fspecs', 'openid', 'net', 'fauth', 'f', 'fidentifier', 'select', 'openid', 'n', 'http', 'f', 'fspecs', 'openid', 'net', 'fauth', 'f', 'gp', 'cs', 'order', 'history', 'ref', 'nav', 'order', 'first', 'www', 'amazon', 'gp', 'cart', 'view', 'html', 'ref', 'nav', 'cart', 'gp', 'site', 'directory', 'ref', 'nav', 'em', 'j', 'disabled', 'minitv', 'ref', 'nav', 'avod', 'desktop', 'topnav', 'b', 'node', 'ld', 'azinsoanavdesktop', 'ref', 'nav', 'c', 'sell', 'gp', 'bestseller', 'ref', 'nav', 'c', 'bestseller', 'mobile', 'phone', 'b', 'ie', 'utf', 'node', 'ref', 'nav', 'c', 'mobile', 'deal', 'ref', 'nav', 'c', 'gb', 'gp', 'help', 'customer', 'display', 'html', 'nodeid', 'ref', 'nav', 'c', 'help', 'gp', 'new', 'release', 'ref', 'nav', 'c', 'newreleases', 'prime', 'ref', 'nav', 'c', 'primelink', 'nonmember', 'electronics', 'b', 'ie', 'utf', 'node', 'ref', 'nav', 'c', 'electronics', 'home', 'kitchen', 'b', 'ie', 'utf', 'node', 'ref', 'nav', 'c', 'home', 'gp', 'sva', 'dashboard', 'ref', 'nav', 'c', 'apay', 'gcx', 'gfhz', 'ref', 'nav', 'c', 'giftfinder', 'gp', 'browse', 'html', 'node', 'ref', 'nav', 'c', 'fashion', 'computer', 'accessory', 'b', 'ie', 'utf', 'node', 'ref', 'nav', 'c', 'pc', 'book', 'b', 'ie', 'utf', 'node', 'ref', 'nav', 'c', 'book', 'amazon', 'coupon', 'b', 'encoding', 'utf', 'node', 'ref', 'nav', 'c', 'coupon', 'beauty', 'b', 'ie', 'utf', 'node', 'ref', 'nav', 'c', 'beauty', 'toy', 'game', 'b', 'ie', 'utf', 'node', 'ref', 'nav', 'c', 'toy', 'sport', 'b', 'ie', 'utf', 'node', 'ref', 'nav', 'c', 'sport', 'car', 'motorbike', 'store', 'b', 'ie', 'utf', 'node', 'ref', 'nav', 'c', 'automotive', 'home', 'improvement', 'b', 'ie', 'utf', 'node', 'ref', 'nav', 'c', 'hi', 'gourmet', 'specialty', 'food', 'b', 'ie', 'utf', 'node', 'ref', 'nav', 'c', 'grocery', 'gift', 'card', 'store', 'b', 'ie', 'utf', 'node', 'ref', 'nav', 'c', 'gc', 'health', 'personal', 'care', 'b', 'ie', 'utf', 'node', 'ref', 'nav', 'c', 'hpc', 'baby', 'b', 'ie', 'utf', 'node', 'ref', 'nav', 'c', 'baby', 'video', 'game', 'b', 'ie', 'utf', 'node', 'ref', 'nav', 'c', 'video', 'game', 'pet', 'supply', 'b', 'ie', 'utf', 'node', 'ref', 'nav', 'c', 'pet', 'auto', 'delivery', 'landing', 'ref', 'nav', 'c', 'sn', 'audible', 'book', 'original', 'b', 'ie', 'utf', 'node', 'ref', 'nav', 'c', 'audible', 'b', 'node', 'ref', 'nav', 'c', 'amazonbasics', 'kindle', 'ebooks', 'b', 'ie', 'utf', 'node', 'ref', 'nav', 'c', 'kindle', 'book', 'l', 'encoding', 'utf', 'ref', 'nav', 'swm', 'swm', 'gd', 'pf', 'rd', 'p', 'e', 'b', 'bf', 'f', 'e', 'df', 'pf', 'rd', 'nav', 'sitewide', 'msg', 'pf', 'rd', 'pf', 'rd', 'navbar', 'pf', 'rd', 'tjruun', 'kgv', 'pf', 'rd', 'r', 'jh', 'rgfb', 'zcsrq', 'b', 'encoding', 'utf', 'node', 'b', 'node', 'b', 'node', 'b', 'node', 'b', 'node', 'b', 'node', 'b', 'node', 'hidden', 'keywords', 'b', 'kthkk', 'cb', 'w', 'q', 'cb', 'jd', 'j', 'cb', 'j', 'fgq', 'cb', 'hnp', 'z', 'cb', 'yhvmk', 'cb', 'qqzzjk', 'cb', 'frjtz', 'cb', 'z', 'cb', 'xdbnscp', 'cb', 'c', 'l', 'vc', 'ref', 'nb', 'sb', 'no', 'hidden', 'keywords', 'b', 'kthkk', 'cb', 'w', 'q', 'cb', 'jd', 'j', 'cb', 'j', 'fgq', 'cb', 'hnp', 'z', 'cb', 'yhvmk', 'cb', 'qqzzjk', 'cb', 'frjtz', 'cb', 'z', 'cb', 'xdbnscp', 'cb', 'c', 'l', 'vc', 'ref', 'nb', 'sb', 'no', 'b', 'node', 'b', 'node', 'b', 'node', 'b', 'node', 'b', 'node', 'b', 'ie', 'utf', 'node', 'b', 'node', 'b', 'node', 'b', 'node', 'b', 'node', 'b', 'node', 'b', 'node', 'b', 'node', 'ref', 'inalgw', 'b', 'node', 'ref', 'inalgw', 'gp', 'history', 'gp', 'history', 'www', 'aboutamazon', 'utm', 'source', 'gateway', 'utm', 'medium', 'footer', 'amazon', 'job', 'press', 'aboutamazon', 'utm', 'source', 'gateway', 'utm', 'medium', 'footer', 'www', 'amazon', 'science', 'www', 'amazon', 'gp', 'redirect', 'html', 'ref', 'footer', 'fb', 'location', 'www', 'facebook', 'com', 'amazonin', 'token', 'eac', 'bb', 'e', 'fd', 'e', 'www', 'amazon', 'gp', 'redirect', 'html', 'ref', 'footer', 'twitter', 'location', 'twitter', 'com', 'amazonin', 'token', 'dfbfcb', 'e', 'ff', 'dc', 'f', 'b', 'www', 'amazon', 'gp', 'redirect', 'html', 'location', 'www', 'instagram', 'com', 'amazondotin', 'token', 'c', 'e', 'cb', 'b', 'f', 'e', 'df', 'bfc', 'source', 'standard', 'b', 'node', 'ld', 'azinsoanavdesktopfooter', 'c', 'ref', 'nav', 'footer', 'sell', 'c', 'accelerator', 'amazon', 'ref', 'map', 'b', 'b', 'gw', 'ft', 'brandservices', 'amazon', 'ref', 'aoinabrlgnrfoot', 'ld', 'aoinabrlgnrfoot', 'sell', 'amazon', 'grow', 'business', 'amazon', 'global', 'selling', 'html', 'ld', 'azin', 'footer', 'v', 'ref', 'azin', 'footer', 'v', 'affiliate', 'program', 'amazon', 'utm', 'campaign', 'assocshowcase', 'utm', 'medium', 'footer', 'utm', 'source', 'gw', 'ref', 'footer', 'assoc', 'service', 'amazon', 'service', 'fulfilment', 'amazon', 'benefit', 'html', 'ref', 'az', 'footer', 'fba', 'ld', 'awrginfbafooter', 'advertising', 'amazon', 'ref', 'amz', 'www', 'amazonpay', 'merchant', 'gp', 'help', 'customer', 'display', 'html', 'nodeid', 'gdfu', 'j', 'al', 'syhrd', 'ref', 'footer', 'covid', 'gp', 'cs', 'homepage', 'html', 'ref', 'footer', 'ya', 'gp', 'cs', 'return', 'homepage', 'html', 'ref', 'footer', 'hy', 'f', 'gp', 'help', 'customer', 'display', 'html', 'nodeid', 'ref', 'footer', 'swc', 'gp', 'browse', 'html', 'node', 'ref', 'footer', 'mobapp', 'gp', 'help', 'customer', 'display', 'html', 'nodeid', 'ref', 'footer', 'gw', 'b', 'ref', 'footer', 'logo', 'customer', 'preference', 'edit', 'ie', 'utf', 'preferencesreturnurl', 'f', 'ref', 'footer', 'lang', 'www', 'amazon', 'com', 'au', 'ref', 'footer', 'au', 'www', 'amazon', 'com', 'br', 'ref', 'footer', 'br', 'www', 'amazon', 'ca', 'ref', 'footer', 'ca', 'www', 'amazon', 'cn', 'ref', 'footer', 'cn', 'www', 'amazon', 'fr', 'ref', 'footer', 'fr', 'www', 'amazon', 'de', 'ref', 'footer', 'de', 'www', 'amazon', 'ref', 'footer', 'www', 'amazon', 'co', 'jp', 'ref', 'footer', 'jp', 'www', 'amazon', 'com', 'mx', 'ref', 'footer', 'mx', 'www', 'amazon', 'nl', 'ref', 'footer', 'nl', 'www', 'amazon', 'pl', 'ref', 'footer', 'pl', 'www', 'amazon', 'sg', 'ref', 'footer', 'sg', 'www', 'amazon', 'e', 'ref', 'footer', 'e', 'www', 'amazon', 'com', 'tr', 'ref', 'footer', 'tr', 'www', 'amazon', 'ae', 'ref', 'footer', 'ae', 'www', 'amazon', 'co', 'uk', 'ref', 'footer', 'uk', 'www', 'amazon', 'com', 'ref', 'footer', 'u', 'www', 'abebooks', 'com', 'aws', 'amazon', 'com', 'cloud', 'computing', 'sc', 'channel', 'el', 'sc', 'campaign', 'amazonfooter', 'www', 'audible', 'www', 'dpreview', 'com', 'www', 'imdb', 'com', 'www', 'shopbop', 'com', 'business', 'ref', 'footer', 'aingw', 'ref', 'footer', 'amznow', 'music', 'prime', 'ref', 'footer', 'apm', 'gp', 'help', 'customer', 'display', 'html', 'nodeid', 'ref', 'footer', 'cou', 'gp', 'help', 'customer', 'display', 'html', 'nodeid', 'ref', 'footer', 'privacy', 'gp', 'help', 'customer', 'display', 'html', 'nodeid', 'ref', 'footer', 'iba']]\n",
            "--------------------------------------------------\n",
            "Sentences:\n",
            "[['https://www.amazon.in/'], ['online shopping site india shop online mobile book watch shoe amazon inskip main content inhelloselect addressallselect department want search inall categoriesalexa skillsamazon devicesamazon fashionamazon freshamazon pharmacyappliancesapps gamesbabybeautybookscar motorbikeclothing accessoriescollectiblescomputers accessorieselectronicsfurnituregarden outdoorsgift cardsgrocery gourmet foodshealth personal carehome kitchenindustrial scientificjewellerykindle storeluggage bagsluxury beautymovies tv showsmusicmusical instrumentsoffice productspet suppliesprime videoshoes handbagssoftwaresports fitness outdoorssubscribe savetools home improvementtoys gamesunder video gameswatchessearch amazon inenhello sign inaccount listsreturns orderscartallamazon minitvsellbest sellersmobilestoday dealscustomer servicenew releasesprimeelectronicshome kitchenamazon paygift ideasfashioncomputersbookscouponsbeauty personal caretoys gamessports fitness outdoorscar motorbikehome improvementgrocery gourmet foodsgift cardshealth household personal carebabyvideo gamespet suppliessubscribe saveaudibleamazonbasicskindle ebooksprevious slidenext slidemakeup productssee morenew look new seasonshop fashiondo homesee moresmart gadget amazonshop nowvalue bazaarshop daily essentialswork home essentialsrouterslaptopskeyboards mouse moreheadphonessee morerevamp home stylebedsheets curtain morehome decorationhome storagelighting solutionsexplore allinnovations emerging indian brandsexplore startupsyour recently viewed item featured recommendation view edit browsing historyafter viewing product detail page look find easy way navigate back page interested recently viewed item featured recommendation view edit browsing historyafter viewing product detail page look find easy way navigate back page interested back topget know usabout uscareerspress releasesamazon scienceconnect usfacebooktwitterinstagrammake money ussell amazonsell amazon acceleratorprotect build brandamazon global sellingbecome affiliatefulfilment amazonadvertise productsamazon pay merchantslet u help youcovid amazonyour accountreturns centre purchase protectionamazon app downloadhelpenglishaustraliabrazilcanadachinafrancegermanyitalyjapanmexiconetherlandspolandsingaporespainturkeyunited arab emiratesunited kingdomunited statesabebooksbooks art collectiblesamazon web servicesscalable cloudcomputing servicesaudibledownloadaudio booksdpreviewdigitalphotographyimdbmovies tv celebritiesshopbopdesignerfashion brandsamazon businesseverything foryour businessprime hour deliveryon everyday itemsamazon prime music million song ad freeover million podcast episodesconditions use saleprivacy noticeinterest based ad amazon com inc affiliate'], ['amazon online shopping india buy mobile laptop camera book watch apparel shoe e gift card free shipping cash delivery available'], ['http medium amazon com image g social share amazon logo cb png http medium amazon com image g gno sprite nav sprite global x reorg celnav cb png http medium amazon com image g event pd gw swm x launch v cb jpg http medium amazon com image id jjpm l sx jpg http image eu ssl image amazon com image g img beauty gw desktop make cc desktop x sy cb jpg http image eu ssl image amazon com image g gateway event jupiterfallback jupiter bau pc top card fashion x sy cb jpg http image eu ssl image amazon com image g gateway event jupiterfallback jupiter bau pc top card home x sy cb jpg http image eu ssl image amazon com image g img amazondevices neel march x sy cb jpg http image eu ssl image amazon com image g gateway event jupiterfallback jupiter bau pc top card grocery x sy cb jpg http image eu ssl image amazon com image g img cepc covid v cepc contingency covid gw april rush dbqc x sy cb jpg http image eu ssl image amazon com image g img cepc covid v cepc contingency covid gw april rush dbqc x sy cb jpg http image eu ssl image amazon com image g img cepc covid v cepc contingency covid gw april rush dbqc x sy cb jpg http image eu ssl image amazon com image g img cepc covid v cepc contingency covid gw april rush dbqc x sy cb jpg http image eu ssl image amazon com image g img home bau gwpc xcm manual x x bd eee f e e e f f jpg lower ql sy cb jpg http image eu ssl image amazon com image g img home bau gwpc xcm manual x x e dc fca f jpg lower ql sy cb jpg http image eu ssl image amazon com image g img home bau gwpc xcm manual x x ccc f ea cfb f e jpg lower ql sy cb jpg http image eu ssl image amazon com image g img home bau gwpc xcm manual x x bc e dc aa aae fd dacd f jpg lower ql sy cb jpg http image eu ssl image amazon com image g img amazonlaunchpad gateway june dhyana sy cb jpg http medium amazon com image g personalization ybh loading x gray cb gif'], ['ref nav logo customer preference edit ie utf preferencesreturnurl f ref topnav lang www amazon ap signin openid pape max auth age openid return http f fwww amazon f f encoding dutf ref dnav ya signin openid identity http f fspecs openid net fauth f fidentifier select openid assoc handle inflex openid mode checkid setup openid claimed id http f fspecs openid net fauth f fidentifier select openid n http f fspecs openid net fauth f gp cs order history ref nav order first www amazon gp cart view html ref nav cart gp site directory ref nav em j disabled minitv ref nav avod desktop topnav b node ld azinsoanavdesktop ref nav c sell gp bestseller ref nav c bestseller mobile phone b ie utf node ref nav c mobile deal ref nav c gb gp help customer display html nodeid ref nav c help gp new release ref nav c newreleases prime ref nav c primelink nonmember electronics b ie utf node ref nav c electronics home kitchen b ie utf node ref nav c home gp sva dashboard ref nav c apay gcx gfhz ref nav c giftfinder gp browse html node ref nav c fashion computer accessory b ie utf node ref nav c pc book b ie utf node ref nav c book amazon coupon b encoding utf node ref nav c coupon beauty b ie utf node ref nav c beauty toy game b ie utf node ref nav c toy sport b ie utf node ref nav c sport car motorbike store b ie utf node ref nav c automotive home improvement b ie utf node ref nav c hi gourmet specialty food b ie utf node ref nav c grocery gift card store b ie utf node ref nav c gc health personal care b ie utf node ref nav c hpc baby b ie utf node ref nav c baby video game b ie utf node ref nav c video game pet supply b ie utf node ref nav c pet auto delivery landing ref nav c sn audible book original b ie utf node ref nav c audible b node ref nav c amazonbasics kindle ebooks b ie utf node ref nav c kindle book l encoding utf ref nav swm swm gd pf rd p e b bf f e df pf rd nav sitewide msg pf rd pf rd navbar pf rd tjruun kgv pf rd r jh rgfb zcsrq  b encoding utf node  b node b node b node b node b node b node hidden keywords b kthkk cb w q cb jd j cb j fgq cb hnp z cb yhvmk cb qqzzjk cb frjtz cb z cb xdbnscp cb c l vc ref nb sb no hidden keywords b kthkk cb w q cb jd j cb j fgq cb hnp z cb yhvmk cb qqzzjk cb frjtz cb z cb xdbnscp cb c l vc ref nb sb no b node b node b node b node b node b ie utf node b node b node b node b node b node b node b node ref inalgw b node ref inalgw gp history gp history  www aboutamazon utm source gateway utm medium footer amazon job press aboutamazon utm source gateway utm medium footer www amazon science www amazon gp redirect html ref footer fb location www facebook com amazonin token eac bb e fd e www amazon gp redirect html ref footer twitter location twitter com amazonin token dfbfcb e ff dc f b www amazon gp redirect html location www instagram com amazondotin token c e cb b f e df bfc source standard b node ld azinsoanavdesktopfooter c ref nav footer sell c accelerator amazon ref map b b gw ft brandservices amazon ref aoinabrlgnrfoot ld aoinabrlgnrfoot sell amazon grow business amazon global selling html ld azin footer v ref azin footer v affiliate program amazon utm campaign assocshowcase utm medium footer utm source gw ref footer assoc service amazon service fulfilment amazon benefit html ref az footer fba ld awrginfbafooter advertising amazon ref amz www amazonpay merchant gp help customer display html nodeid gdfu j al syhrd ref footer covid gp cs homepage html ref footer ya gp cs return homepage html ref footer hy f gp help customer display html nodeid ref footer swc gp browse html node ref footer mobapp gp help customer display html nodeid ref footer gw b ref footer logo customer preference edit ie utf preferencesreturnurl f ref footer lang www amazon com au ref footer au www amazon com br ref footer br www amazon ca ref footer ca www amazon cn ref footer cn www amazon fr ref footer fr www amazon de ref footer de www amazon ref footer www amazon co jp ref footer jp www amazon com mx ref footer mx www amazon nl ref footer nl www amazon pl ref footer pl www amazon sg ref footer sg www amazon e ref footer e www amazon com tr ref footer tr www amazon ae ref footer ae www amazon co uk ref footer uk www amazon com ref footer u www abebooks com aws amazon com cloud computing sc channel el sc campaign amazonfooter www audible www dpreview com www imdb com www shopbop com business ref footer aingw ref footer amznow music prime ref footer apm gp help customer display html nodeid ref footer cou gp help customer display html nodeid ref footer privacy gp help customer display html nodeid ref footer iba']]\n",
            "--------------------------------------------------\n",
            "POS Tags:\n",
            "[[('https', 'NN'), (':', ':'), ('//www.amazon.in/', 'NN')], [('online', 'NN'), ('shopping', 'NN'), ('site', 'NN'), ('india', 'NN'), ('shop', 'NN'), ('online', 'VBP'), ('mobile', 'JJ'), ('book', 'NN'), ('watch', 'NN'), ('shoe', 'NN'), ('amazon', 'NN'), ('inskip', 'NN'), ('main', 'JJ'), ('content', 'NN'), ('inhelloselect', 'NN'), ('addressallselect', 'VBP'), ('department', 'NN'), ('want', 'VBP'), ('search', 'NN'), ('inall', 'NN'), ('categoriesalexa', 'NN'), ('skillsamazon', 'NN'), ('devicesamazon', 'NN'), ('fashionamazon', 'NN'), ('freshamazon', 'NN'), ('pharmacyappliancesapps', 'NN'), ('gamesbabybeautybookscar', 'NN'), ('motorbikeclothing', 'VBG'), ('accessoriescollectiblescomputers', 'NNS'), ('accessorieselectronicsfurnituregarden', 'JJ'), ('outdoorsgift', 'NN'), ('cardsgrocery', 'NN'), ('gourmet', 'NN'), ('foodshealth', 'NN'), ('personal', 'JJ'), ('carehome', 'NN'), ('kitchenindustrial', 'JJ'), ('scientificjewellerykindle', 'JJ'), ('storeluggage', 'NN'), ('bagsluxury', 'NN'), ('beautymovies', 'NNS'), ('tv', 'VBP'), ('showsmusicmusical', 'JJ'), ('instrumentsoffice', 'NN'), ('productspet', 'NN'), ('suppliesprime', 'NN'), ('videoshoes', 'NNS'), ('handbagssoftwaresports', 'VBZ'), ('fitness', 'NN'), ('outdoorssubscribe', 'NN'), ('savetools', 'VBZ'), ('home', 'NN'), ('improvementtoys', 'NNS'), ('gamesunder', 'VBP'), ('video', 'NN'), ('gameswatchessearch', 'NN'), ('amazon', 'NN'), ('inenhello', 'JJ'), ('sign', 'NN'), ('inaccount', 'NN'), ('listsreturns', 'VBZ'), ('orderscartallamazon', 'JJ'), ('minitvsellbest', 'JJS'), ('sellersmobilestoday', 'JJ'), ('dealscustomer', 'NN'), ('servicenew', 'VBD'), ('releasesprimeelectronicshome', 'JJ'), ('kitchenamazon', 'NN'), ('paygift', 'NN'), ('ideasfashioncomputersbookscouponsbeauty', 'JJ'), ('personal', 'JJ'), ('caretoys', 'NNS'), ('gamessports', 'NNS'), ('fitness', 'NN'), ('outdoorscar', 'NN'), ('motorbikehome', 'JJ'), ('improvementgrocery', 'NN'), ('gourmet', 'NN'), ('foodsgift', 'NN'), ('cardshealth', 'NN'), ('household', 'VBD'), ('personal', 'JJ'), ('carebabyvideo', 'NN'), ('gamespet', 'NN'), ('suppliessubscribe', 'NN'), ('saveaudibleamazonbasicskindle', 'VBP'), ('ebooksprevious', 'JJ'), ('slidenext', 'JJ'), ('slidemakeup', 'NN'), ('productssee', 'VBP'), ('morenew', 'JJ'), ('look', 'VBP'), ('new', 'JJ'), ('seasonshop', 'NN'), ('fashiondo', 'NN'), ('homesee', 'VBP'), ('moresmart', 'JJ'), ('gadget', 'NN'), ('amazonshop', 'NN'), ('nowvalue', 'JJ'), ('bazaarshop', 'NN'), ('daily', 'JJ'), ('essentialswork', 'NN'), ('home', 'NN'), ('essentialsrouterslaptopskeyboards', 'NNS'), ('mouse', 'VBP'), ('moreheadphonessee', 'NN'), ('morerevamp', 'NN'), ('home', 'NN'), ('stylebedsheets', 'NNS'), ('curtain', 'VBP'), ('morehome', 'JJ'), ('decorationhome', 'NN'), ('storagelighting', 'VBG'), ('solutionsexplore', 'NN'), ('allinnovations', 'NNS'), ('emerging', 'VBG'), ('indian', 'JJ'), ('brandsexplore', 'RB'), ('startupsyour', 'VBP'), ('recently', 'RB'), ('viewed', 'VBN'), ('item', 'NN'), ('featured', 'JJ'), ('recommendation', 'NN'), ('view', 'NN'), ('edit', 'NN'), ('browsing', 'VBG'), ('historyafter', 'NN'), ('viewing', 'VBG'), ('product', 'NN'), ('detail', 'NN'), ('page', 'NN'), ('look', 'NN'), ('find', 'VBP'), ('easy', 'JJ'), ('way', 'NN'), ('navigate', 'JJ'), ('back', 'RB'), ('page', 'NN'), ('interested', 'JJ'), ('recently', 'RB'), ('viewed', 'VBN'), ('item', 'NN'), ('featured', 'JJ'), ('recommendation', 'NN'), ('view', 'NN'), ('edit', 'NN'), ('browsing', 'VBG'), ('historyafter', 'NN'), ('viewing', 'VBG'), ('product', 'NN'), ('detail', 'NN'), ('page', 'NN'), ('look', 'NN'), ('find', 'VBP'), ('easy', 'JJ'), ('way', 'NN'), ('navigate', 'JJ'), ('back', 'RB'), ('page', 'NN'), ('interested', 'JJ'), ('back', 'RB'), ('topget', 'NN'), ('know', 'VBP'), ('usabout', 'IN'), ('uscareerspress', 'JJ'), ('releasesamazon', 'NN'), ('scienceconnect', 'JJ'), ('usfacebooktwitterinstagrammake', 'JJ'), ('money', 'NN'), ('ussell', 'NN'), ('amazonsell', 'RB'), ('amazon', 'RB'), ('acceleratorprotect', 'JJ'), ('build', 'NN'), ('brandamazon', 'NN'), ('global', 'JJ'), ('sellingbecome', 'JJ'), ('affiliatefulfilment', 'NN'), ('amazonadvertise', 'NN'), ('productsamazon', 'NN'), ('pay', 'NN'), ('merchantslet', 'NN'), ('u', 'JJ'), ('help', 'NN'), ('youcovid', 'VB'), ('amazonyour', 'JJ'), ('accountreturns', 'NNS'), ('centre', 'JJ'), ('purchase', 'NN'), ('protectionamazon', 'NN'), ('app', 'RB'), ('downloadhelpenglishaustraliabrazilcanadachinafrancegermanyitalyjapanmexiconetherlandspolandsingaporespainturkeyunited', 'VBD'), ('arab', 'JJ'), ('emiratesunited', 'VBN'), ('kingdomunited', 'VBD'), ('statesabebooksbooks', 'JJ'), ('art', 'NN'), ('collectiblesamazon', 'NN'), ('web', 'NN'), ('servicesscalable', 'JJ'), ('cloudcomputing', 'NN'), ('servicesaudibledownloadaudio', 'NN'), ('booksdpreviewdigitalphotographyimdbmovies', 'NNS'), ('tv', 'VBP'), ('celebritiesshopbopdesignerfashion', 'NN'), ('brandsamazon', 'NN'), ('businesseverything', 'VBG'), ('foryour', 'JJ'), ('businessprime', 'JJ'), ('hour', 'NN'), ('deliveryon', 'NN'), ('everyday', 'JJ'), ('itemsamazon', 'JJ'), ('prime', 'JJ'), ('music', 'NN'), ('million', 'CD'), ('song', 'NN'), ('ad', 'NN'), ('freeover', 'NN'), ('million', 'CD'), ('podcast', 'NN'), ('episodesconditions', 'NNS'), ('use', 'VBP'), ('saleprivacy', 'NN'), ('noticeinterest', 'JJS'), ('based', 'VBN'), ('ad', 'NN'), ('amazon', 'NN'), ('com', 'NN'), ('inc', 'NN'), ('affiliate', 'NN')], [('amazon', 'JJ'), ('online', 'NN'), ('shopping', 'NN'), ('india', 'JJ'), ('buy', 'NN'), ('mobile', 'JJ'), ('laptop', 'JJ'), ('camera', 'NN'), ('book', 'NN'), ('watch', 'NN'), ('apparel', 'NN'), ('shoe', 'NN'), ('e', 'VBP'), ('gift', 'NN'), ('card', 'NN'), ('free', 'JJ'), ('shipping', 'NN'), ('cash', 'NN'), ('delivery', 'NN'), ('available', 'JJ')], [('http', 'NN'), ('medium', 'NN'), ('amazon', 'NN'), ('com', 'NN'), ('image', 'NN'), ('g', 'NN'), ('social', 'JJ'), ('share', 'NN'), ('amazon', 'JJ'), ('logo', 'NN'), ('cb', 'NN'), ('png', 'NN'), ('http', 'NN'), ('medium', 'NN'), ('amazon', 'NN'), ('com', 'NN'), ('image', 'NN'), ('g', 'NN'), ('gno', 'VBZ'), ('sprite', 'JJ'), ('nav', 'JJ'), ('sprite', 'NN'), ('global', 'JJ'), ('x', 'NN'), ('reorg', 'NN'), ('celnav', 'NN'), ('cb', 'NN'), ('png', 'NN'), ('http', 'NN'), ('medium', 'NN'), ('amazon', 'NN'), ('com', 'NN'), ('image', 'NN'), ('g', 'JJ'), ('event', 'NN'), ('pd', 'NN'), ('gw', 'NN'), ('swm', 'NN'), ('x', 'NNP'), ('launch', 'NN'), ('v', 'NN'), ('cb', 'NN'), ('jpg', 'NN'), ('http', 'NN'), ('medium', 'NN'), ('amazon', 'NN'), ('com', 'NN'), ('image', 'NN'), ('id', 'NN'), ('jjpm', 'NN'), ('l', 'NN'), ('sx', 'NN'), ('jpg', 'NN'), ('http', 'NN'), ('image', 'NN'), ('eu', 'NN'), ('ssl', 'JJ'), ('image', 'NN'), ('amazon', 'NN'), ('com', 'JJ'), ('image', 'NN'), ('g', 'NN'), ('img', 'JJ'), ('beauty', 'NN'), ('gw', 'NN'), ('desktop', 'NN'), ('make', 'VBP'), ('cc', 'NN'), ('desktop', 'NN'), ('x', 'NNP'), ('sy', 'NN'), ('cb', 'NN'), ('jpg', 'NN'), ('http', 'NN'), ('image', 'NN'), ('eu', 'NN'), ('ssl', 'JJ'), ('image', 'NN'), ('amazon', 'NN'), ('com', 'JJ'), ('image', 'NN'), ('g', 'NN'), ('gateway', 'JJ'), ('event', 'NN'), ('jupiterfallback', 'NN'), ('jupiter', 'NN'), ('bau', 'JJ'), ('pc', 'NN'), ('top', 'JJ'), ('card', 'NN'), ('fashion', 'NN'), ('x', 'NNP'), ('sy', 'NN'), ('cb', 'NN'), ('jpg', 'NN'), ('http', 'NN'), ('image', 'NN'), ('eu', 'NN'), ('ssl', 'JJ'), ('image', 'NN'), ('amazon', 'NN'), ('com', 'JJ'), ('image', 'NN'), ('g', 'NN'), ('gateway', 'JJ'), ('event', 'NN'), ('jupiterfallback', 'NN'), ('jupiter', 'NN'), ('bau', 'JJ'), ('pc', 'NN'), ('top', 'JJ'), ('card', 'NN'), ('home', 'NN'), ('x', 'NNP'), ('sy', 'NN'), ('cb', 'NN'), ('jpg', 'NN'), ('http', 'NN'), ('image', 'NN'), ('eu', 'NN'), ('ssl', 'JJ'), ('image', 'NN'), ('amazon', 'NN'), ('com', 'JJ'), ('image', 'NN'), ('g', 'NN'), ('img', 'NN'), ('amazondevices', 'NNS'), ('neel', 'VBP'), ('march', 'JJ'), ('x', 'NNP'), ('sy', 'NN'), ('cb', 'NN'), ('jpg', 'NN'), ('http', 'NN'), ('image', 'NN'), ('eu', 'NN'), ('ssl', 'JJ'), ('image', 'NN'), ('amazon', 'NN'), ('com', 'JJ'), ('image', 'NN'), ('g', 'NN'), ('gateway', 'JJ'), ('event', 'NN'), ('jupiterfallback', 'NN'), ('jupiter', 'NN'), ('bau', 'JJ'), ('pc', 'NN'), ('top', 'JJ'), ('card', 'NN'), ('grocery', 'NN'), ('x', 'NNP'), ('sy', 'NN'), ('cb', 'NN'), ('jpg', 'NN'), ('http', 'NN'), ('image', 'NN'), ('eu', 'NN'), ('ssl', 'JJ'), ('image', 'NN'), ('amazon', 'NN'), ('com', 'JJ'), ('image', 'NN'), ('g', 'NN'), ('img', 'NN'), ('cepc', 'NN'), ('covid', 'NN'), ('v', 'NN'), ('cepc', 'NN'), ('contingency', 'NN'), ('covid', 'NN'), ('gw', 'NN'), ('april', 'NN'), ('rush', 'NN'), ('dbqc', 'NN'), ('x', 'NNP'), ('sy', 'NN'), ('cb', 'NN'), ('jpg', 'NN'), ('http', 'NN'), ('image', 'NN'), ('eu', 'NN'), ('ssl', 'JJ'), ('image', 'NN'), ('amazon', 'NN'), ('com', 'JJ'), ('image', 'NN'), ('g', 'NN'), ('img', 'NN'), ('cepc', 'NN'), ('covid', 'NN'), ('v', 'NN'), ('cepc', 'NN'), ('contingency', 'NN'), ('covid', 'NN'), ('gw', 'NN'), ('april', 'NN'), ('rush', 'NN'), ('dbqc', 'NN'), ('x', 'NNP'), ('sy', 'NN'), ('cb', 'NN'), ('jpg', 'NN'), ('http', 'NN'), ('image', 'NN'), ('eu', 'NN'), ('ssl', 'JJ'), ('image', 'NN'), ('amazon', 'NN'), ('com', 'JJ'), ('image', 'NN'), ('g', 'NN'), ('img', 'NN'), ('cepc', 'NN'), ('covid', 'NN'), ('v', 'NN'), ('cepc', 'NN'), ('contingency', 'NN'), ('covid', 'NN'), ('gw', 'NN'), ('april', 'NN'), ('rush', 'NN'), ('dbqc', 'NN'), ('x', 'NNP'), ('sy', 'NN'), ('cb', 'NN'), ('jpg', 'NN'), ('http', 'NN'), ('image', 'NN'), ('eu', 'NN'), ('ssl', 'JJ'), ('image', 'NN'), ('amazon', 'NN'), ('com', 'JJ'), ('image', 'NN'), ('g', 'NN'), ('img', 'NN'), ('cepc', 'NN'), ('covid', 'NN'), ('v', 'NN'), ('cepc', 'NN'), ('contingency', 'NN'), ('covid', 'NN'), ('gw', 'NN'), ('april', 'NN'), ('rush', 'NN'), ('dbqc', 'NN'), ('x', 'NNP'), ('sy', 'NN'), ('cb', 'NN'), ('jpg', 'NN'), ('http', 'NN'), ('image', 'NN'), ('eu', 'NN'), ('ssl', 'JJ'), ('image', 'NN'), ('amazon', 'NN'), ('com', 'JJ'), ('image', 'NN'), ('g', 'NN'), ('img', 'VBZ'), ('home', 'NN'), ('bau', 'NN'), ('gwpc', 'NN'), ('xcm', 'NNP'), ('manual', 'JJ'), ('x', 'NNP'), ('x', 'NNP'), ('bd', 'VBD'), ('eee', 'JJ'), ('f', 'JJ'), ('e', 'NN'), ('e', 'NN'), ('e', 'NN'), ('f', 'NN'), ('f', 'NN'), ('jpg', 'NN'), ('lower', 'RBR'), ('ql', 'NN'), ('sy', 'JJ'), ('cb', 'NN'), ('jpg', 'NN'), ('http', 'NN'), ('image', 'NN'), ('eu', 'NN'), ('ssl', 'JJ'), ('image', 'NN'), ('amazon', 'NN'), ('com', 'JJ'), ('image', 'NN'), ('g', 'NN'), ('img', 'VBZ'), ('home', 'NN'), ('bau', 'NN'), ('gwpc', 'NN'), ('xcm', 'NNP'), ('manual', 'JJ'), ('x', 'NNP'), ('x', 'NNP'), ('e', 'VBZ'), ('dc', 'JJ'), ('fca', 'NN'), ('f', 'NN'), ('jpg', 'NN'), ('lower', 'RBR'), ('ql', 'NN'), ('sy', 'JJ'), ('cb', 'NN'), ('jpg', 'NN'), ('http', 'NN'), ('image', 'NN'), ('eu', 'NN'), ('ssl', 'JJ'), ('image', 'NN'), ('amazon', 'NN'), ('com', 'JJ'), ('image', 'NN'), ('g', 'NN'), ('img', 'VBZ'), ('home', 'NN'), ('bau', 'NN'), ('gwpc', 'NN'), ('xcm', 'NNP'), ('manual', 'JJ'), ('x', 'NNP'), ('x', 'NNP'), ('ccc', 'NN'), ('f', 'NN'), ('ea', 'NN'), ('cfb', 'NN'), ('f', 'NN'), ('e', 'NN'), ('jpg', 'NN'), ('lower', 'RBR'), ('ql', 'NN'), ('sy', 'JJ'), ('cb', 'NN'), ('jpg', 'NN'), ('http', 'NN'), ('image', 'NN'), ('eu', 'NN'), ('ssl', 'JJ'), ('image', 'NN'), ('amazon', 'NN'), ('com', 'JJ'), ('image', 'NN'), ('g', 'NN'), ('img', 'VBZ'), ('home', 'NN'), ('bau', 'NN'), ('gwpc', 'NN'), ('xcm', 'NNP'), ('manual', 'JJ'), ('x', 'NNP'), ('x', 'NNP'), ('bc', 'VBD'), ('e', 'JJ'), ('dc', 'NN'), ('aa', 'NN'), ('aae', 'NN'), ('fd', 'NN'), ('dacd', 'NN'), ('f', 'NN'), ('jpg', 'NN'), ('lower', 'RBR'), ('ql', 'NN'), ('sy', 'JJ'), ('cb', 'NN'), ('jpg', 'NN'), ('http', 'NN'), ('image', 'NN'), ('eu', 'NN'), ('ssl', 'JJ'), ('image', 'NN'), ('amazon', 'NN'), ('com', 'JJ'), ('image', 'NN'), ('g', 'NN'), ('img', 'NN'), ('amazonlaunchpad', 'VBZ'), ('gateway', 'RB'), ('june', 'JJ'), ('dhyana', 'NNS'), ('sy', 'VBP'), ('cb', 'JJ'), ('jpg', 'NN'), ('http', 'NN'), ('medium', 'NN'), ('amazon', 'NN'), ('com', 'NN'), ('image', 'NN'), ('g', 'JJ'), ('personalization', 'NN'), ('ybh', 'NN'), ('loading', 'VBG'), ('x', 'JJ'), ('gray', 'JJ'), ('cb', 'NN'), ('gif', 'NN')], [('ref', 'NN'), ('nav', 'NN'), ('logo', 'NN'), ('customer', 'NN'), ('preference', 'NN'), ('edit', 'NN'), ('ie', 'NN'), ('utf', 'JJ'), ('preferencesreturnurl', 'NN'), ('f', 'NN'), ('ref', 'NN'), ('topnav', 'NN'), ('lang', 'NN'), ('www', 'VBD'), ('amazon', 'JJ'), ('ap', 'JJ'), ('signin', 'NN'), ('openid', 'NN'), ('pape', 'NN'), ('max', 'NN'), ('auth', 'NN'), ('age', 'NN'), ('openid', 'JJ'), ('return', 'NN'), ('http', 'NN'), ('f', 'NN'), ('fwww', 'NN'), ('amazon', 'NN'), ('f', 'NN'), ('f', 'NN'), ('encoding', 'VBG'), ('dutf', 'JJ'), ('ref', 'NN'), ('dnav', 'NN'), ('ya', 'NN'), ('signin', 'NN'), ('openid', 'NN'), ('identity', 'NN'), ('http', 'NN'), ('f', 'NN'), ('fspecs', 'JJ'), ('openid', 'JJ'), ('net', 'JJ'), ('fauth', 'NN'), ('f', 'NN'), ('fidentifier', 'NN'), ('select', 'JJ'), ('openid', 'JJ'), ('assoc', 'NN'), ('handle', 'NN'), ('inflex', 'JJ'), ('openid', 'NN'), ('mode', 'NN'), ('checkid', 'NN'), ('setup', 'NN'), ('openid', 'NN'), ('claimed', 'VBD'), ('id', 'JJ'), ('http', 'NN'), ('f', 'NN'), ('fspecs', 'JJ'), ('openid', 'JJ'), ('net', 'JJ'), ('fauth', 'NN'), ('f', 'NN'), ('fidentifier', 'NN'), ('select', 'JJ'), ('openid', 'NN'), ('n', 'JJ'), ('http', 'NN'), ('f', 'NN'), ('fspecs', 'JJ'), ('openid', 'JJ'), ('net', 'JJ'), ('fauth', 'NN'), ('f', 'NN'), ('gp', 'NN'), ('cs', 'NN'), ('order', 'NN'), ('history', 'NN'), ('ref', 'NN'), ('nav', 'NN'), ('order', 'NN'), ('first', 'RB'), ('www', 'VBZ'), ('amazon', 'JJ'), ('gp', 'JJ'), ('cart', 'NN'), ('view', 'NN'), ('html', 'VBP'), ('ref', 'NN'), ('nav', 'JJ'), ('cart', 'NN'), ('gp', 'NN'), ('site', 'NN'), ('directory', 'NN'), ('ref', 'NN'), ('nav', 'JJ'), ('em', 'NN'), ('j', 'NN'), ('disabled', 'VBD'), ('minitv', 'JJ'), ('ref', 'NN'), ('nav', 'NN'), ('avod', 'NN'), ('desktop', 'NN'), ('topnav', 'NN'), ('b', 'NN'), ('node', 'NN'), ('ld', 'NN'), ('azinsoanavdesktop', 'JJ'), ('ref', 'NN'), ('nav', 'JJ'), ('c', 'NN'), ('sell', 'NN'), ('gp', 'JJ'), ('bestseller', 'NN'), ('ref', 'NN'), ('nav', 'JJ'), ('c', 'NN'), ('bestseller', 'NN'), ('mobile', 'IN'), ('phone', 'NN'), ('b', 'NN'), ('ie', 'NN'), ('utf', 'JJ'), ('node', 'NN'), ('ref', 'NN'), ('nav', 'JJ'), ('c', 'NN'), ('mobile', 'JJ'), ('deal', 'NN'), ('ref', 'NN'), ('nav', 'NN'), ('c', 'NN'), ('gb', 'NN'), ('gp', 'NN'), ('help', 'NN'), ('customer', 'NN'), ('display', 'NN'), ('html', 'NN'), ('nodeid', 'JJ'), ('ref', 'NN'), ('nav', 'NN'), ('c', 'NN'), ('help', 'NN'), ('gp', 'VB'), ('new', 'JJ'), ('release', 'NN'), ('ref', 'NN'), ('nav', 'JJ'), ('c', 'NN'), ('newreleases', 'NNS'), ('prime', 'JJ'), ('ref', 'JJ'), ('nav', 'NN'), ('c', 'NN'), ('primelink', 'VBP'), ('nonmember', 'IN'), ('electronics', 'NNS'), ('b', 'VBP'), ('ie', 'JJ'), ('utf', 'JJ'), ('node', 'NN'), ('ref', 'NN'), ('nav', 'JJ'), ('c', 'NN'), ('electronics', 'NNS'), ('home', 'NN'), ('kitchen', 'NN'), ('b', 'NN'), ('ie', 'NN'), ('utf', 'JJ'), ('node', 'NN'), ('ref', 'NN'), ('nav', 'JJ'), ('c', 'NN'), ('home', 'NN'), ('gp', 'NN'), ('sva', 'JJ'), ('dashboard', 'NN'), ('ref', 'NN'), ('nav', 'JJ'), ('c', 'JJ'), ('apay', 'NN'), ('gcx', 'NN'), ('gfhz', 'NN'), ('ref', 'NN'), ('nav', 'JJ'), ('c', 'NN'), ('giftfinder', 'NN'), ('gp', 'NN'), ('browse', 'NN'), ('html', 'NN'), ('node', 'NN'), ('ref', 'NN'), ('nav', 'JJ'), ('c', 'NN'), ('fashion', 'NN'), ('computer', 'NN'), ('accessory', 'NN'), ('b', 'NN'), ('ie', 'NN'), ('utf', 'JJ'), ('node', 'NN'), ('ref', 'NN'), ('nav', 'JJ'), ('c', 'JJ'), ('pc', 'NN'), ('book', 'NN'), ('b', 'NN'), ('ie', 'NN'), ('utf', 'JJ'), ('node', 'NN'), ('ref', 'NN'), ('nav', 'JJ'), ('c', 'JJ'), ('book', 'NN'), ('amazon', 'NN'), ('coupon', 'NN'), ('b', 'NN'), ('encoding', 'VBG'), ('utf', 'JJ'), ('node', 'JJ'), ('ref', 'NN'), ('nav', 'JJ'), ('c', 'NN'), ('coupon', 'NN'), ('beauty', 'NN'), ('b', 'NN'), ('ie', 'NN'), ('utf', 'JJ'), ('node', 'NN'), ('ref', 'NN'), ('nav', 'JJ'), ('c', 'JJ'), ('beauty', 'NN'), ('toy', 'NN'), ('game', 'NN'), ('b', 'NN'), ('ie', 'NN'), ('utf', 'JJ'), ('node', 'NN'), ('ref', 'NN'), ('nav', 'JJ'), ('c', 'NN'), ('toy', 'NN'), ('sport', 'NN'), ('b', 'NN'), ('ie', 'NN'), ('utf', 'JJ'), ('node', 'NN'), ('ref', 'NN'), ('nav', 'JJ'), ('c', 'NN'), ('sport', 'NN'), ('car', 'NN'), ('motorbike', 'NN'), ('store', 'NN'), ('b', 'NN'), ('ie', 'NN'), ('utf', 'JJ'), ('node', 'NN'), ('ref', 'NN'), ('nav', 'JJ'), ('c', 'JJ'), ('automotive', 'JJ'), ('home', 'NN'), ('improvement', 'NN'), ('b', 'NN'), ('ie', 'NN'), ('utf', 'JJ'), ('node', 'NN'), ('ref', 'NN'), ('nav', 'JJ'), ('c', 'NN'), ('hi', 'NN'), ('gourmet', 'VBD'), ('specialty', 'NN'), ('food', 'NN'), ('b', 'NN'), ('ie', 'NN'), ('utf', 'JJ'), ('node', 'NN'), ('ref', 'NN'), ('nav', 'JJ'), ('c', 'JJ'), ('grocery', 'NN'), ('gift', 'NN'), ('card', 'NN'), ('store', 'NN'), ('b', 'NN'), ('ie', 'NN'), ('utf', 'JJ'), ('node', 'NN'), ('ref', 'NN'), ('nav', 'JJ'), ('c', 'JJ'), ('gc', 'NN'), ('health', 'NN'), ('personal', 'JJ'), ('care', 'NN'), ('b', 'NN'), ('ie', 'NN'), ('utf', 'JJ'), ('node', 'NN'), ('ref', 'NN'), ('nav', 'JJ'), ('c', 'NN'), ('hpc', 'NN'), ('baby', 'NN'), ('b', 'NN'), ('ie', 'NN'), ('utf', 'JJ'), ('node', 'NN'), ('ref', 'NN'), ('nav', 'JJ'), ('c', 'NN'), ('baby', 'NN'), ('video', 'NN'), ('game', 'NN'), ('b', 'NN'), ('ie', 'NN'), ('utf', 'JJ'), ('node', 'NN'), ('ref', 'NN'), ('nav', 'JJ'), ('c', 'NN'), ('video', 'NN'), ('game', 'NN'), ('pet', 'NN'), ('supply', 'NN'), ('b', 'NN'), ('ie', 'NN'), ('utf', 'JJ'), ('node', 'NN'), ('ref', 'NN'), ('nav', 'JJ'), ('c', 'NN'), ('pet', 'JJ'), ('auto', 'NN'), ('delivery', 'NN'), ('landing', 'VBG'), ('ref', 'NN'), ('nav', 'JJ'), ('c', 'NN'), ('sn', 'NN'), ('audible', 'JJ'), ('book', 'NN'), ('original', 'JJ'), ('b', 'NN'), ('ie', 'NN'), ('utf', 'JJ'), ('node', 'NN'), ('ref', 'NN'), ('nav', 'JJ'), ('c', 'NN'), ('audible', 'JJ'), ('b', 'NN'), ('node', 'NN'), ('ref', 'NN'), ('nav', 'JJ'), ('c', 'NN'), ('amazonbasics', 'NNS'), ('kindle', 'VBP'), ('ebooks', 'VBZ'), ('b', 'JJ'), ('ie', 'NN'), ('utf', 'JJ'), ('node', 'NN'), ('ref', 'NN'), ('nav', 'JJ'), ('c', 'NN'), ('kindle', 'VB'), ('book', 'NN'), ('l', 'NN'), ('encoding', 'VBG'), ('utf', 'JJ'), ('ref', 'NN'), ('nav', 'NN'), ('swm', 'NN'), ('swm', 'NN'), ('gd', 'NN'), ('pf', 'NN'), ('rd', 'NN'), ('p', 'NN'), ('e', 'NN'), ('b', 'NN'), ('bf', 'NN'), ('f', 'NN'), ('e', 'NN'), ('df', 'NN'), ('pf', 'NN'), ('rd', 'NN'), ('nav', 'JJ'), ('sitewide', 'NN'), ('msg', 'NN'), ('pf', 'NN'), ('rd', 'NN'), ('pf', 'NN'), ('rd', 'NN'), ('navbar', 'NN'), ('pf', 'NN'), ('rd', 'NN'), ('tjruun', 'NN'), ('kgv', 'NN'), ('pf', 'NN'), ('rd', 'NN'), ('r', 'NN'), ('jh', 'NN'), ('rgfb', 'NN'), ('zcsrq', 'NN'), ('b', 'NN'), ('encoding', 'VBG'), ('utf', 'JJ'), ('node', 'NN'), ('b', 'NN'), ('node', 'NN'), ('b', 'NN'), ('node', 'NN'), ('b', 'NN'), ('node', 'NN'), ('b', 'NN'), ('node', 'NN'), ('b', 'NN'), ('node', 'NN'), ('b', 'NN'), ('node', 'NN'), ('hidden', 'NN'), ('keywords', 'NNS'), ('b', 'VBP'), ('kthkk', 'NN'), ('cb', 'NN'), ('w', 'NN'), ('q', 'NN'), ('cb', 'NN'), ('jd', 'NN'), ('j', 'NN'), ('cb', 'NN'), ('j', 'NN'), ('fgq', 'NN'), ('cb', 'NN'), ('hnp', 'NN'), ('z', 'NN'), ('cb', 'NN'), ('yhvmk', 'NN'), ('cb', 'NN'), ('qqzzjk', 'NN'), ('cb', 'NN'), ('frjtz', 'NN'), ('cb', 'NN'), ('z', 'NN'), ('cb', 'NN'), ('xdbnscp', 'NNP'), ('cb', 'NN'), ('c', 'NN'), ('l', 'NN'), ('vc', 'NN'), ('ref', 'NN'), ('nb', 'JJ'), ('sb', 'NN'), ('no', 'DT'), ('hidden', 'JJ'), ('keywords', 'NNS'), ('b', 'VBP'), ('kthkk', 'NN'), ('cb', 'NN'), ('w', 'NN'), ('q', 'NN'), ('cb', 'NN'), ('jd', 'NN'), ('j', 'NN'), ('cb', 'NN'), ('j', 'NN'), ('fgq', 'NN'), ('cb', 'NN'), ('hnp', 'NN'), ('z', 'NN'), ('cb', 'NN'), ('yhvmk', 'NN'), ('cb', 'NN'), ('qqzzjk', 'NN'), ('cb', 'NN'), ('frjtz', 'NN'), ('cb', 'NN'), ('z', 'NN'), ('cb', 'NN'), ('xdbnscp', 'NNP'), ('cb', 'NN'), ('c', 'NN'), ('l', 'NN'), ('vc', 'NN'), ('ref', 'NN'), ('nb', 'JJ'), ('sb', 'NN'), ('no', 'DT'), ('b', 'NN'), ('node', 'NN'), ('b', 'NN'), ('node', 'NN'), ('b', 'NN'), ('node', 'NN'), ('b', 'NN'), ('node', 'NN'), ('b', 'NN'), ('node', 'NN'), ('b', 'NN'), ('ie', 'NN'), ('utf', 'JJ'), ('node', 'NN'), ('b', 'NN'), ('node', 'NN'), ('b', 'NN'), ('node', 'NN'), ('b', 'NN'), ('node', 'NN'), ('b', 'NN'), ('node', 'NN'), ('b', 'NN'), ('node', 'NN'), ('b', 'NN'), ('node', 'NN'), ('b', 'NN'), ('node', 'NN'), ('ref', 'NN'), ('inalgw', 'NN'), ('b', 'NN'), ('node', 'NN'), ('ref', 'NN'), ('inalgw', 'JJ'), ('gp', 'JJ'), ('history', 'NN'), ('gp', 'JJ'), ('history', 'NN'), ('www', 'NN'), ('aboutamazon', 'NN'), ('utm', 'JJ'), ('source', 'NN'), ('gateway', 'NN'), ('utm', 'JJ'), ('medium', 'NN'), ('footer', 'NN'), ('amazon', 'JJ'), ('job', 'NN'), ('press', 'NN'), ('aboutamazon', 'NN'), ('utm', 'JJ'), ('source', 'NN'), ('gateway', 'NN'), ('utm', 'JJ'), ('medium', 'NN'), ('footer', 'NN'), ('www', 'NN'), ('amazon', 'NN'), ('science', 'NN'), ('www', 'NN'), ('amazon', 'NN'), ('gp', 'NN'), ('redirect', 'VBP'), ('html', 'NN'), ('ref', 'NN'), ('footer', 'NN'), ('fb', 'NN'), ('location', 'NN'), ('www', 'NN'), ('facebook', 'NN'), ('com', 'NN'), ('amazonin', 'NN'), ('token', 'NN'), ('eac', 'NN'), ('bb', 'NN'), ('e', 'NN'), ('fd', 'NN'), ('e', 'NN'), ('www', 'NN'), ('amazon', 'NN'), ('gp', 'NN'), ('redirect', 'VBP'), ('html', 'NN'), ('ref', 'NN'), ('footer', 'NN'), ('twitter', 'NN'), ('location', 'NN'), ('twitter', 'NN'), ('com', 'NN'), ('amazonin', 'NN'), ('token', 'NN'), ('dfbfcb', 'NN'), ('e', 'NN'), ('ff', 'NN'), ('dc', 'NN'), ('f', 'NN'), ('b', 'NN'), ('www', 'NN'), ('amazon', 'NN'), ('gp', 'NN'), ('redirect', 'VBP'), ('html', 'NN'), ('location', 'NN'), ('www', 'NN'), ('instagram', 'NN'), ('com', 'NN'), ('amazondotin', 'NN'), ('token', 'JJ'), ('c', 'NN'), ('e', 'NN'), ('cb', 'NN'), ('b', 'NN'), ('f', 'NN'), ('e', 'NN'), ('df', 'NN'), ('bfc', 'NN'), ('source', 'NN'), ('standard', 'NN'), ('b', 'NN'), ('node', 'NN'), ('ld', 'NN'), ('azinsoanavdesktopfooter', 'NN'), ('c', 'VBP'), ('ref', 'NN'), ('nav', 'JJ'), ('footer', 'NN'), ('sell', 'VBP'), ('c', 'JJ'), ('accelerator', 'NN'), ('amazon', 'NN'), ('ref', 'NN'), ('map', 'NN'), ('b', 'NN'), ('b', 'NN'), ('gw', 'NN'), ('ft', 'NN'), ('brandservices', 'NNS'), ('amazon', 'VBP'), ('ref', 'JJ'), ('aoinabrlgnrfoot', 'NN'), ('ld', 'VBZ'), ('aoinabrlgnrfoot', 'RB'), ('sell', 'VB'), ('amazon', 'JJ'), ('grow', 'NN'), ('business', 'NN'), ('amazon', 'NN'), ('global', 'JJ'), ('selling', 'NN'), ('html', 'NN'), ('ld', 'NN'), ('azin', 'VBP'), ('footer', 'NN'), ('v', 'NN'), ('ref', 'NN'), ('azin', 'VBP'), ('footer', 'NN'), ('v', 'NN'), ('affiliate', 'NN'), ('program', 'NN'), ('amazon', 'NN'), ('utm', 'JJ'), ('campaign', 'NN'), ('assocshowcase', 'NN'), ('utm', 'JJ'), ('medium', 'NN'), ('footer', 'NN'), ('utm', 'JJ'), ('source', 'NN'), ('gw', 'NN'), ('ref', 'NN'), ('footer', 'NN'), ('assoc', 'NN'), ('service', 'NN'), ('amazon', 'NN'), ('service', 'NN'), ('fulfilment', 'NN'), ('amazon', 'NN'), ('benefit', 'NN'), ('html', 'NN'), ('ref', 'NN'), ('az', 'VBP'), ('footer', 'NN'), ('fba', 'NN'), ('ld', 'NN'), ('awrginfbafooter', 'NN'), ('advertising', 'NN'), ('amazon', 'NN'), ('ref', 'NN'), ('amz', 'NN'), ('www', 'NN'), ('amazonpay', 'NN'), ('merchant', 'NN'), ('gp', 'NN'), ('help', 'NN'), ('customer', 'NN'), ('display', 'NN'), ('html', 'NN'), ('nodeid', 'JJ'), ('gdfu', 'NN'), ('j', 'NN'), ('al', 'NN'), ('syhrd', 'NN'), ('ref', 'NN'), ('footer', 'NN'), ('covid', 'NN'), ('gp', 'NN'), ('cs', 'NN'), ('homepage', 'NN'), ('html', 'NN'), ('ref', 'NN'), ('footer', 'NN'), ('ya', 'NN'), ('gp', 'NN'), ('cs', 'NN'), ('return', 'NN'), ('homepage', 'NN'), ('html', 'VBD'), ('ref', 'JJ'), ('footer', 'NN'), ('hy', 'NN'), ('f', 'NN'), ('gp', 'NN'), ('help', 'NN'), ('customer', 'NN'), ('display', 'NN'), ('html', 'NN'), ('nodeid', 'JJ'), ('ref', 'NN'), ('footer', 'NN'), ('swc', 'NN'), ('gp', 'NN'), ('browse', 'NN'), ('html', 'NN'), ('node', 'NN'), ('ref', 'NN'), ('footer', 'NN'), ('mobapp', 'NN'), ('gp', 'NN'), ('help', 'NN'), ('customer', 'NN'), ('display', 'NN'), ('html', 'NN'), ('nodeid', 'JJ'), ('ref', 'NN'), ('footer', 'NN'), ('gw', 'NN'), ('b', 'NN'), ('ref', 'NN'), ('footer', 'NN'), ('logo', 'NN'), ('customer', 'NN'), ('preference', 'NN'), ('edit', 'NN'), ('ie', 'NN'), ('utf', 'JJ'), ('preferencesreturnurl', 'NN'), ('f', 'NN'), ('ref', 'NN'), ('footer', 'NN'), ('lang', 'NN'), ('www', 'VBD'), ('amazon', 'JJ'), ('com', 'NN'), ('au', 'NN'), ('ref', 'NN'), ('footer', 'NN'), ('au', 'NN'), ('www', 'NN'), ('amazon', 'NN'), ('com', 'NN'), ('br', 'NN'), ('ref', 'NN'), ('footer', 'NN'), ('br', 'NN'), ('www', 'NN'), ('amazon', 'NN'), ('ca', 'MD'), ('ref', 'VB'), ('footer', 'NN'), ('ca', 'MD'), ('www', 'VB'), ('amazon', 'JJ'), ('cn', 'NN'), ('ref', 'NN'), ('footer', 'NN'), ('cn', 'NN'), ('www', 'NN'), ('amazon', 'NN'), ('fr', 'NN'), ('ref', 'NN'), ('footer', 'NN'), ('fr', 'NN'), ('www', 'NN'), ('amazon', 'NN'), ('de', 'IN'), ('ref', 'FW'), ('footer', 'NN'), ('de', 'IN'), ('www', 'FW'), ('amazon', 'JJ'), ('ref', 'NN'), ('footer', 'NN'), ('www', 'NN'), ('amazon', 'NN'), ('co', 'NN'), ('jp', 'NN'), ('ref', 'NN'), ('footer', 'NN'), ('jp', 'NN'), ('www', 'NN'), ('amazon', 'NN'), ('com', 'NN'), ('mx', 'NN'), ('ref', 'NN'), ('footer', 'NN'), ('mx', 'NN'), ('www', 'NN'), ('amazon', 'NN'), ('nl', 'JJ'), ('ref', 'NN'), ('footer', 'NN'), ('nl', 'JJ'), ('www', 'NN'), ('amazon', 'NN'), ('pl', 'NN'), ('ref', 'NN'), ('footer', 'NN'), ('pl', 'NN'), ('www', 'NN'), ('amazon', 'NN'), ('sg', 'NN'), ('ref', 'NN'), ('footer', 'NN'), ('sg', 'NN'), ('www', 'NN'), ('amazon', 'NN'), ('e', 'NN'), ('ref', 'VBP'), ('footer', 'NN'), ('e', 'NN'), ('www', 'NN'), ('amazon', 'NN'), ('com', 'NN'), ('tr', 'NN'), ('ref', 'NN'), ('footer', 'NN'), ('tr', 'NN'), ('www', 'NN'), ('amazon', 'NN'), ('ae', 'NN'), ('ref', 'NN'), ('footer', 'NN'), ('ae', 'NN'), ('www', 'NN'), ('amazon', 'NN'), ('co', 'NN'), ('uk', 'JJ'), ('ref', 'NN'), ('footer', 'NN'), ('uk', 'JJ'), ('www', 'NN'), ('amazon', 'NN'), ('com', 'NN'), ('ref', 'NN'), ('footer', 'NN'), ('u', 'JJ'), ('www', 'NN'), ('abebooks', 'NNS'), ('com', 'VBP'), ('aws', 'JJ'), ('amazon', 'NN'), ('com', 'NN'), ('cloud', 'NN'), ('computing', 'VBG'), ('sc', 'JJ'), ('channel', 'NNS'), ('el', 'VBP'), ('sc', 'JJ'), ('campaign', 'NN'), ('amazonfooter', 'NN'), ('www', 'NN'), ('audible', 'JJ'), ('www', 'NN'), ('dpreview', 'NN'), ('com', 'NN'), ('www', 'NN'), ('imdb', 'NN'), ('com', 'NN'), ('www', 'NN'), ('shopbop', 'NN'), ('com', 'NN'), ('business', 'NN'), ('ref', 'NN'), ('footer', 'NN'), ('aingw', 'NN'), ('ref', 'NN'), ('footer', 'NN'), ('amznow', 'VBP'), ('music', 'NN'), ('prime', 'JJ'), ('ref', 'NN'), ('footer', 'NN'), ('apm', 'NN'), ('gp', 'NN'), ('help', 'NN'), ('customer', 'NN'), ('display', 'NN'), ('html', 'NN'), ('nodeid', 'JJ'), ('ref', 'NN'), ('footer', 'NN'), ('cou', 'NN'), ('gp', 'NN'), ('help', 'NN'), ('customer', 'NN'), ('display', 'NN'), ('html', 'NN'), ('nodeid', 'JJ'), ('ref', 'NN'), ('footer', 'NN'), ('privacy', 'NN'), ('gp', 'NN'), ('help', 'NN'), ('customer', 'NN'), ('display', 'NN'), ('html', 'NN'), ('nodeid', 'JJ'), ('ref', 'NN'), ('footer', 'NN'), ('iba', 'NN')]]\n",
            "--------------------------------------------------\n",
            "NER Tags:\n",
            "[Tree('S', [('https', 'NN'), (':', ':'), ('//www.amazon.in/', 'NN')]), Tree('S', [('online', 'NN'), ('shopping', 'NN'), ('site', 'NN'), ('india', 'NN'), ('shop', 'NN'), ('online', 'VBP'), ('mobile', 'JJ'), ('book', 'NN'), ('watch', 'NN'), ('shoe', 'NN'), ('amazon', 'NN'), ('inskip', 'NN'), ('main', 'JJ'), ('content', 'NN'), ('inhelloselect', 'NN'), ('addressallselect', 'VBP'), ('department', 'NN'), ('want', 'VBP'), ('search', 'NN'), ('inall', 'NN'), ('categoriesalexa', 'NN'), ('skillsamazon', 'NN'), ('devicesamazon', 'NN'), ('fashionamazon', 'NN'), ('freshamazon', 'NN'), ('pharmacyappliancesapps', 'NN'), ('gamesbabybeautybookscar', 'NN'), ('motorbikeclothing', 'VBG'), ('accessoriescollectiblescomputers', 'NNS'), ('accessorieselectronicsfurnituregarden', 'JJ'), ('outdoorsgift', 'NN'), ('cardsgrocery', 'NN'), ('gourmet', 'NN'), ('foodshealth', 'NN'), ('personal', 'JJ'), ('carehome', 'NN'), ('kitchenindustrial', 'JJ'), ('scientificjewellerykindle', 'JJ'), ('storeluggage', 'NN'), ('bagsluxury', 'NN'), ('beautymovies', 'NNS'), ('tv', 'VBP'), ('showsmusicmusical', 'JJ'), ('instrumentsoffice', 'NN'), ('productspet', 'NN'), ('suppliesprime', 'NN'), ('videoshoes', 'NNS'), ('handbagssoftwaresports', 'VBZ'), ('fitness', 'NN'), ('outdoorssubscribe', 'NN'), ('savetools', 'VBZ'), ('home', 'NN'), ('improvementtoys', 'NNS'), ('gamesunder', 'VBP'), ('video', 'NN'), ('gameswatchessearch', 'NN'), ('amazon', 'NN'), ('inenhello', 'JJ'), ('sign', 'NN'), ('inaccount', 'NN'), ('listsreturns', 'VBZ'), ('orderscartallamazon', 'JJ'), ('minitvsellbest', 'JJS'), ('sellersmobilestoday', 'JJ'), ('dealscustomer', 'NN'), ('servicenew', 'VBD'), ('releasesprimeelectronicshome', 'JJ'), ('kitchenamazon', 'NN'), ('paygift', 'NN'), ('ideasfashioncomputersbookscouponsbeauty', 'JJ'), ('personal', 'JJ'), ('caretoys', 'NNS'), ('gamessports', 'NNS'), ('fitness', 'NN'), ('outdoorscar', 'NN'), ('motorbikehome', 'JJ'), ('improvementgrocery', 'NN'), ('gourmet', 'NN'), ('foodsgift', 'NN'), ('cardshealth', 'NN'), ('household', 'VBD'), ('personal', 'JJ'), ('carebabyvideo', 'NN'), ('gamespet', 'NN'), ('suppliessubscribe', 'NN'), ('saveaudibleamazonbasicskindle', 'VBP'), ('ebooksprevious', 'JJ'), ('slidenext', 'JJ'), ('slidemakeup', 'NN'), ('productssee', 'VBP'), ('morenew', 'JJ'), ('look', 'VBP'), ('new', 'JJ'), ('seasonshop', 'NN'), ('fashiondo', 'NN'), ('homesee', 'VBP'), ('moresmart', 'JJ'), ('gadget', 'NN'), ('amazonshop', 'NN'), ('nowvalue', 'JJ'), ('bazaarshop', 'NN'), ('daily', 'JJ'), ('essentialswork', 'NN'), ('home', 'NN'), ('essentialsrouterslaptopskeyboards', 'NNS'), ('mouse', 'VBP'), ('moreheadphonessee', 'NN'), ('morerevamp', 'NN'), ('home', 'NN'), ('stylebedsheets', 'NNS'), ('curtain', 'VBP'), ('morehome', 'JJ'), ('decorationhome', 'NN'), ('storagelighting', 'VBG'), ('solutionsexplore', 'NN'), ('allinnovations', 'NNS'), ('emerging', 'VBG'), ('indian', 'JJ'), ('brandsexplore', 'RB'), ('startupsyour', 'VBP'), ('recently', 'RB'), ('viewed', 'VBN'), ('item', 'NN'), ('featured', 'JJ'), ('recommendation', 'NN'), ('view', 'NN'), ('edit', 'NN'), ('browsing', 'VBG'), ('historyafter', 'NN'), ('viewing', 'VBG'), ('product', 'NN'), ('detail', 'NN'), ('page', 'NN'), ('look', 'NN'), ('find', 'VBP'), ('easy', 'JJ'), ('way', 'NN'), ('navigate', 'JJ'), ('back', 'RB'), ('page', 'NN'), ('interested', 'JJ'), ('recently', 'RB'), ('viewed', 'VBN'), ('item', 'NN'), ('featured', 'JJ'), ('recommendation', 'NN'), ('view', 'NN'), ('edit', 'NN'), ('browsing', 'VBG'), ('historyafter', 'NN'), ('viewing', 'VBG'), ('product', 'NN'), ('detail', 'NN'), ('page', 'NN'), ('look', 'NN'), ('find', 'VBP'), ('easy', 'JJ'), ('way', 'NN'), ('navigate', 'JJ'), ('back', 'RB'), ('page', 'NN'), ('interested', 'JJ'), ('back', 'RB'), ('topget', 'NN'), ('know', 'VBP'), ('usabout', 'IN'), ('uscareerspress', 'JJ'), ('releasesamazon', 'NN'), ('scienceconnect', 'JJ'), ('usfacebooktwitterinstagrammake', 'JJ'), ('money', 'NN'), ('ussell', 'NN'), ('amazonsell', 'RB'), ('amazon', 'RB'), ('acceleratorprotect', 'JJ'), ('build', 'NN'), ('brandamazon', 'NN'), ('global', 'JJ'), ('sellingbecome', 'JJ'), ('affiliatefulfilment', 'NN'), ('amazonadvertise', 'NN'), ('productsamazon', 'NN'), ('pay', 'NN'), ('merchantslet', 'NN'), ('u', 'JJ'), ('help', 'NN'), ('youcovid', 'VB'), ('amazonyour', 'JJ'), ('accountreturns', 'NNS'), ('centre', 'JJ'), ('purchase', 'NN'), ('protectionamazon', 'NN'), ('app', 'RB'), ('downloadhelpenglishaustraliabrazilcanadachinafrancegermanyitalyjapanmexiconetherlandspolandsingaporespainturkeyunited', 'VBD'), ('arab', 'JJ'), ('emiratesunited', 'VBN'), ('kingdomunited', 'VBD'), ('statesabebooksbooks', 'JJ'), ('art', 'NN'), ('collectiblesamazon', 'NN'), ('web', 'NN'), ('servicesscalable', 'JJ'), ('cloudcomputing', 'NN'), ('servicesaudibledownloadaudio', 'NN'), ('booksdpreviewdigitalphotographyimdbmovies', 'NNS'), ('tv', 'VBP'), ('celebritiesshopbopdesignerfashion', 'NN'), ('brandsamazon', 'NN'), ('businesseverything', 'VBG'), ('foryour', 'JJ'), ('businessprime', 'JJ'), ('hour', 'NN'), ('deliveryon', 'NN'), ('everyday', 'JJ'), ('itemsamazon', 'JJ'), ('prime', 'JJ'), ('music', 'NN'), ('million', 'CD'), ('song', 'NN'), ('ad', 'NN'), ('freeover', 'NN'), ('million', 'CD'), ('podcast', 'NN'), ('episodesconditions', 'NNS'), ('use', 'VBP'), ('saleprivacy', 'NN'), ('noticeinterest', 'JJS'), ('based', 'VBN'), ('ad', 'NN'), ('amazon', 'NN'), ('com', 'NN'), ('inc', 'NN'), ('affiliate', 'NN')]), Tree('S', [('amazon', 'JJ'), ('online', 'NN'), ('shopping', 'NN'), ('india', 'JJ'), ('buy', 'NN'), ('mobile', 'JJ'), ('laptop', 'JJ'), ('camera', 'NN'), ('book', 'NN'), ('watch', 'NN'), ('apparel', 'NN'), ('shoe', 'NN'), ('e', 'VBP'), ('gift', 'NN'), ('card', 'NN'), ('free', 'JJ'), ('shipping', 'NN'), ('cash', 'NN'), ('delivery', 'NN'), ('available', 'JJ')]), Tree('S', [('http', 'NN'), ('medium', 'NN'), ('amazon', 'NN'), ('com', 'NN'), ('image', 'NN'), ('g', 'NN'), ('social', 'JJ'), ('share', 'NN'), ('amazon', 'JJ'), ('logo', 'NN'), ('cb', 'NN'), ('png', 'NN'), ('http', 'NN'), ('medium', 'NN'), ('amazon', 'NN'), ('com', 'NN'), ('image', 'NN'), ('g', 'NN'), ('gno', 'VBZ'), ('sprite', 'JJ'), ('nav', 'JJ'), ('sprite', 'NN'), ('global', 'JJ'), ('x', 'NN'), ('reorg', 'NN'), ('celnav', 'NN'), ('cb', 'NN'), ('png', 'NN'), ('http', 'NN'), ('medium', 'NN'), ('amazon', 'NN'), ('com', 'NN'), ('image', 'NN'), ('g', 'JJ'), ('event', 'NN'), ('pd', 'NN'), ('gw', 'NN'), ('swm', 'NN'), ('x', 'NNP'), ('launch', 'NN'), ('v', 'NN'), ('cb', 'NN'), ('jpg', 'NN'), ('http', 'NN'), ('medium', 'NN'), ('amazon', 'NN'), ('com', 'NN'), ('image', 'NN'), ('id', 'NN'), ('jjpm', 'NN'), ('l', 'NN'), ('sx', 'NN'), ('jpg', 'NN'), ('http', 'NN'), ('image', 'NN'), ('eu', 'NN'), ('ssl', 'JJ'), ('image', 'NN'), ('amazon', 'NN'), ('com', 'JJ'), ('image', 'NN'), ('g', 'NN'), ('img', 'JJ'), ('beauty', 'NN'), ('gw', 'NN'), ('desktop', 'NN'), ('make', 'VBP'), ('cc', 'NN'), ('desktop', 'NN'), ('x', 'NNP'), ('sy', 'NN'), ('cb', 'NN'), ('jpg', 'NN'), ('http', 'NN'), ('image', 'NN'), ('eu', 'NN'), ('ssl', 'JJ'), ('image', 'NN'), ('amazon', 'NN'), ('com', 'JJ'), ('image', 'NN'), ('g', 'NN'), ('gateway', 'JJ'), ('event', 'NN'), ('jupiterfallback', 'NN'), ('jupiter', 'NN'), ('bau', 'JJ'), ('pc', 'NN'), ('top', 'JJ'), ('card', 'NN'), ('fashion', 'NN'), ('x', 'NNP'), ('sy', 'NN'), ('cb', 'NN'), ('jpg', 'NN'), ('http', 'NN'), ('image', 'NN'), ('eu', 'NN'), ('ssl', 'JJ'), ('image', 'NN'), ('amazon', 'NN'), ('com', 'JJ'), ('image', 'NN'), ('g', 'NN'), ('gateway', 'JJ'), ('event', 'NN'), ('jupiterfallback', 'NN'), ('jupiter', 'NN'), ('bau', 'JJ'), ('pc', 'NN'), ('top', 'JJ'), ('card', 'NN'), ('home', 'NN'), ('x', 'NNP'), ('sy', 'NN'), ('cb', 'NN'), ('jpg', 'NN'), ('http', 'NN'), ('image', 'NN'), ('eu', 'NN'), ('ssl', 'JJ'), ('image', 'NN'), ('amazon', 'NN'), ('com', 'JJ'), ('image', 'NN'), ('g', 'NN'), ('img', 'NN'), ('amazondevices', 'NNS'), ('neel', 'VBP'), ('march', 'JJ'), ('x', 'NNP'), ('sy', 'NN'), ('cb', 'NN'), ('jpg', 'NN'), ('http', 'NN'), ('image', 'NN'), ('eu', 'NN'), ('ssl', 'JJ'), ('image', 'NN'), ('amazon', 'NN'), ('com', 'JJ'), ('image', 'NN'), ('g', 'NN'), ('gateway', 'JJ'), ('event', 'NN'), ('jupiterfallback', 'NN'), ('jupiter', 'NN'), ('bau', 'JJ'), ('pc', 'NN'), ('top', 'JJ'), ('card', 'NN'), ('grocery', 'NN'), ('x', 'NNP'), ('sy', 'NN'), ('cb', 'NN'), ('jpg', 'NN'), ('http', 'NN'), ('image', 'NN'), ('eu', 'NN'), ('ssl', 'JJ'), ('image', 'NN'), ('amazon', 'NN'), ('com', 'JJ'), ('image', 'NN'), ('g', 'NN'), ('img', 'NN'), ('cepc', 'NN'), ('covid', 'NN'), ('v', 'NN'), ('cepc', 'NN'), ('contingency', 'NN'), ('covid', 'NN'), ('gw', 'NN'), ('april', 'NN'), ('rush', 'NN'), ('dbqc', 'NN'), ('x', 'NNP'), ('sy', 'NN'), ('cb', 'NN'), ('jpg', 'NN'), ('http', 'NN'), ('image', 'NN'), ('eu', 'NN'), ('ssl', 'JJ'), ('image', 'NN'), ('amazon', 'NN'), ('com', 'JJ'), ('image', 'NN'), ('g', 'NN'), ('img', 'NN'), ('cepc', 'NN'), ('covid', 'NN'), ('v', 'NN'), ('cepc', 'NN'), ('contingency', 'NN'), ('covid', 'NN'), ('gw', 'NN'), ('april', 'NN'), ('rush', 'NN'), ('dbqc', 'NN'), ('x', 'NNP'), ('sy', 'NN'), ('cb', 'NN'), ('jpg', 'NN'), ('http', 'NN'), ('image', 'NN'), ('eu', 'NN'), ('ssl', 'JJ'), ('image', 'NN'), ('amazon', 'NN'), ('com', 'JJ'), ('image', 'NN'), ('g', 'NN'), ('img', 'NN'), ('cepc', 'NN'), ('covid', 'NN'), ('v', 'NN'), ('cepc', 'NN'), ('contingency', 'NN'), ('covid', 'NN'), ('gw', 'NN'), ('april', 'NN'), ('rush', 'NN'), ('dbqc', 'NN'), ('x', 'NNP'), ('sy', 'NN'), ('cb', 'NN'), ('jpg', 'NN'), ('http', 'NN'), ('image', 'NN'), ('eu', 'NN'), ('ssl', 'JJ'), ('image', 'NN'), ('amazon', 'NN'), ('com', 'JJ'), ('image', 'NN'), ('g', 'NN'), ('img', 'NN'), ('cepc', 'NN'), ('covid', 'NN'), ('v', 'NN'), ('cepc', 'NN'), ('contingency', 'NN'), ('covid', 'NN'), ('gw', 'NN'), ('april', 'NN'), ('rush', 'NN'), ('dbqc', 'NN'), ('x', 'NNP'), ('sy', 'NN'), ('cb', 'NN'), ('jpg', 'NN'), ('http', 'NN'), ('image', 'NN'), ('eu', 'NN'), ('ssl', 'JJ'), ('image', 'NN'), ('amazon', 'NN'), ('com', 'JJ'), ('image', 'NN'), ('g', 'NN'), ('img', 'VBZ'), ('home', 'NN'), ('bau', 'NN'), ('gwpc', 'NN'), ('xcm', 'NNP'), ('manual', 'JJ'), ('x', 'NNP'), ('x', 'NNP'), ('bd', 'VBD'), ('eee', 'JJ'), ('f', 'JJ'), ('e', 'NN'), ('e', 'NN'), ('e', 'NN'), ('f', 'NN'), ('f', 'NN'), ('jpg', 'NN'), ('lower', 'RBR'), ('ql', 'NN'), ('sy', 'JJ'), ('cb', 'NN'), ('jpg', 'NN'), ('http', 'NN'), ('image', 'NN'), ('eu', 'NN'), ('ssl', 'JJ'), ('image', 'NN'), ('amazon', 'NN'), ('com', 'JJ'), ('image', 'NN'), ('g', 'NN'), ('img', 'VBZ'), ('home', 'NN'), ('bau', 'NN'), ('gwpc', 'NN'), ('xcm', 'NNP'), ('manual', 'JJ'), ('x', 'NNP'), ('x', 'NNP'), ('e', 'VBZ'), ('dc', 'JJ'), ('fca', 'NN'), ('f', 'NN'), ('jpg', 'NN'), ('lower', 'RBR'), ('ql', 'NN'), ('sy', 'JJ'), ('cb', 'NN'), ('jpg', 'NN'), ('http', 'NN'), ('image', 'NN'), ('eu', 'NN'), ('ssl', 'JJ'), ('image', 'NN'), ('amazon', 'NN'), ('com', 'JJ'), ('image', 'NN'), ('g', 'NN'), ('img', 'VBZ'), ('home', 'NN'), ('bau', 'NN'), ('gwpc', 'NN'), ('xcm', 'NNP'), ('manual', 'JJ'), ('x', 'NNP'), ('x', 'NNP'), ('ccc', 'NN'), ('f', 'NN'), ('ea', 'NN'), ('cfb', 'NN'), ('f', 'NN'), ('e', 'NN'), ('jpg', 'NN'), ('lower', 'RBR'), ('ql', 'NN'), ('sy', 'JJ'), ('cb', 'NN'), ('jpg', 'NN'), ('http', 'NN'), ('image', 'NN'), ('eu', 'NN'), ('ssl', 'JJ'), ('image', 'NN'), ('amazon', 'NN'), ('com', 'JJ'), ('image', 'NN'), ('g', 'NN'), ('img', 'VBZ'), ('home', 'NN'), ('bau', 'NN'), ('gwpc', 'NN'), ('xcm', 'NNP'), ('manual', 'JJ'), ('x', 'NNP'), ('x', 'NNP'), ('bc', 'VBD'), ('e', 'JJ'), ('dc', 'NN'), ('aa', 'NN'), ('aae', 'NN'), ('fd', 'NN'), ('dacd', 'NN'), ('f', 'NN'), ('jpg', 'NN'), ('lower', 'RBR'), ('ql', 'NN'), ('sy', 'JJ'), ('cb', 'NN'), ('jpg', 'NN'), ('http', 'NN'), ('image', 'NN'), ('eu', 'NN'), ('ssl', 'JJ'), ('image', 'NN'), ('amazon', 'NN'), ('com', 'JJ'), ('image', 'NN'), ('g', 'NN'), ('img', 'NN'), ('amazonlaunchpad', 'VBZ'), ('gateway', 'RB'), ('june', 'JJ'), ('dhyana', 'NNS'), ('sy', 'VBP'), ('cb', 'JJ'), ('jpg', 'NN'), ('http', 'NN'), ('medium', 'NN'), ('amazon', 'NN'), ('com', 'NN'), ('image', 'NN'), ('g', 'JJ'), ('personalization', 'NN'), ('ybh', 'NN'), ('loading', 'VBG'), ('x', 'JJ'), ('gray', 'JJ'), ('cb', 'NN'), ('gif', 'NN')]), Tree('S', [('ref', 'NN'), ('nav', 'NN'), ('logo', 'NN'), ('customer', 'NN'), ('preference', 'NN'), ('edit', 'NN'), ('ie', 'NN'), ('utf', 'JJ'), ('preferencesreturnurl', 'NN'), ('f', 'NN'), ('ref', 'NN'), ('topnav', 'NN'), ('lang', 'NN'), ('www', 'VBD'), ('amazon', 'JJ'), ('ap', 'JJ'), ('signin', 'NN'), ('openid', 'NN'), ('pape', 'NN'), ('max', 'NN'), ('auth', 'NN'), ('age', 'NN'), ('openid', 'JJ'), ('return', 'NN'), ('http', 'NN'), ('f', 'NN'), ('fwww', 'NN'), ('amazon', 'NN'), ('f', 'NN'), ('f', 'NN'), ('encoding', 'VBG'), ('dutf', 'JJ'), ('ref', 'NN'), ('dnav', 'NN'), ('ya', 'NN'), ('signin', 'NN'), ('openid', 'NN'), ('identity', 'NN'), ('http', 'NN'), ('f', 'NN'), ('fspecs', 'JJ'), ('openid', 'JJ'), ('net', 'JJ'), ('fauth', 'NN'), ('f', 'NN'), ('fidentifier', 'NN'), ('select', 'JJ'), ('openid', 'JJ'), ('assoc', 'NN'), ('handle', 'NN'), ('inflex', 'JJ'), ('openid', 'NN'), ('mode', 'NN'), ('checkid', 'NN'), ('setup', 'NN'), ('openid', 'NN'), ('claimed', 'VBD'), ('id', 'JJ'), ('http', 'NN'), ('f', 'NN'), ('fspecs', 'JJ'), ('openid', 'JJ'), ('net', 'JJ'), ('fauth', 'NN'), ('f', 'NN'), ('fidentifier', 'NN'), ('select', 'JJ'), ('openid', 'NN'), ('n', 'JJ'), ('http', 'NN'), ('f', 'NN'), ('fspecs', 'JJ'), ('openid', 'JJ'), ('net', 'JJ'), ('fauth', 'NN'), ('f', 'NN'), ('gp', 'NN'), ('cs', 'NN'), ('order', 'NN'), ('history', 'NN'), ('ref', 'NN'), ('nav', 'NN'), ('order', 'NN'), ('first', 'RB'), ('www', 'VBZ'), ('amazon', 'JJ'), ('gp', 'JJ'), ('cart', 'NN'), ('view', 'NN'), ('html', 'VBP'), ('ref', 'NN'), ('nav', 'JJ'), ('cart', 'NN'), ('gp', 'NN'), ('site', 'NN'), ('directory', 'NN'), ('ref', 'NN'), ('nav', 'JJ'), ('em', 'NN'), ('j', 'NN'), ('disabled', 'VBD'), ('minitv', 'JJ'), ('ref', 'NN'), ('nav', 'NN'), ('avod', 'NN'), ('desktop', 'NN'), ('topnav', 'NN'), ('b', 'NN'), ('node', 'NN'), ('ld', 'NN'), ('azinsoanavdesktop', 'JJ'), ('ref', 'NN'), ('nav', 'JJ'), ('c', 'NN'), ('sell', 'NN'), ('gp', 'JJ'), ('bestseller', 'NN'), ('ref', 'NN'), ('nav', 'JJ'), ('c', 'NN'), ('bestseller', 'NN'), ('mobile', 'IN'), ('phone', 'NN'), ('b', 'NN'), ('ie', 'NN'), ('utf', 'JJ'), ('node', 'NN'), ('ref', 'NN'), ('nav', 'JJ'), ('c', 'NN'), ('mobile', 'JJ'), ('deal', 'NN'), ('ref', 'NN'), ('nav', 'NN'), ('c', 'NN'), ('gb', 'NN'), ('gp', 'NN'), ('help', 'NN'), ('customer', 'NN'), ('display', 'NN'), ('html', 'NN'), ('nodeid', 'JJ'), ('ref', 'NN'), ('nav', 'NN'), ('c', 'NN'), ('help', 'NN'), ('gp', 'VB'), ('new', 'JJ'), ('release', 'NN'), ('ref', 'NN'), ('nav', 'JJ'), ('c', 'NN'), ('newreleases', 'NNS'), ('prime', 'JJ'), ('ref', 'JJ'), ('nav', 'NN'), ('c', 'NN'), ('primelink', 'VBP'), ('nonmember', 'IN'), ('electronics', 'NNS'), ('b', 'VBP'), ('ie', 'JJ'), ('utf', 'JJ'), ('node', 'NN'), ('ref', 'NN'), ('nav', 'JJ'), ('c', 'NN'), ('electronics', 'NNS'), ('home', 'NN'), ('kitchen', 'NN'), ('b', 'NN'), ('ie', 'NN'), ('utf', 'JJ'), ('node', 'NN'), ('ref', 'NN'), ('nav', 'JJ'), ('c', 'NN'), ('home', 'NN'), ('gp', 'NN'), ('sva', 'JJ'), ('dashboard', 'NN'), ('ref', 'NN'), ('nav', 'JJ'), ('c', 'JJ'), ('apay', 'NN'), ('gcx', 'NN'), ('gfhz', 'NN'), ('ref', 'NN'), ('nav', 'JJ'), ('c', 'NN'), ('giftfinder', 'NN'), ('gp', 'NN'), ('browse', 'NN'), ('html', 'NN'), ('node', 'NN'), ('ref', 'NN'), ('nav', 'JJ'), ('c', 'NN'), ('fashion', 'NN'), ('computer', 'NN'), ('accessory', 'NN'), ('b', 'NN'), ('ie', 'NN'), ('utf', 'JJ'), ('node', 'NN'), ('ref', 'NN'), ('nav', 'JJ'), ('c', 'JJ'), ('pc', 'NN'), ('book', 'NN'), ('b', 'NN'), ('ie', 'NN'), ('utf', 'JJ'), ('node', 'NN'), ('ref', 'NN'), ('nav', 'JJ'), ('c', 'JJ'), ('book', 'NN'), ('amazon', 'NN'), ('coupon', 'NN'), ('b', 'NN'), ('encoding', 'VBG'), ('utf', 'JJ'), ('node', 'JJ'), ('ref', 'NN'), ('nav', 'JJ'), ('c', 'NN'), ('coupon', 'NN'), ('beauty', 'NN'), ('b', 'NN'), ('ie', 'NN'), ('utf', 'JJ'), ('node', 'NN'), ('ref', 'NN'), ('nav', 'JJ'), ('c', 'JJ'), ('beauty', 'NN'), ('toy', 'NN'), ('game', 'NN'), ('b', 'NN'), ('ie', 'NN'), ('utf', 'JJ'), ('node', 'NN'), ('ref', 'NN'), ('nav', 'JJ'), ('c', 'NN'), ('toy', 'NN'), ('sport', 'NN'), ('b', 'NN'), ('ie', 'NN'), ('utf', 'JJ'), ('node', 'NN'), ('ref', 'NN'), ('nav', 'JJ'), ('c', 'NN'), ('sport', 'NN'), ('car', 'NN'), ('motorbike', 'NN'), ('store', 'NN'), ('b', 'NN'), ('ie', 'NN'), ('utf', 'JJ'), ('node', 'NN'), ('ref', 'NN'), ('nav', 'JJ'), ('c', 'JJ'), ('automotive', 'JJ'), ('home', 'NN'), ('improvement', 'NN'), ('b', 'NN'), ('ie', 'NN'), ('utf', 'JJ'), ('node', 'NN'), ('ref', 'NN'), ('nav', 'JJ'), ('c', 'NN'), ('hi', 'NN'), ('gourmet', 'VBD'), ('specialty', 'NN'), ('food', 'NN'), ('b', 'NN'), ('ie', 'NN'), ('utf', 'JJ'), ('node', 'NN'), ('ref', 'NN'), ('nav', 'JJ'), ('c', 'JJ'), ('grocery', 'NN'), ('gift', 'NN'), ('card', 'NN'), ('store', 'NN'), ('b', 'NN'), ('ie', 'NN'), ('utf', 'JJ'), ('node', 'NN'), ('ref', 'NN'), ('nav', 'JJ'), ('c', 'JJ'), ('gc', 'NN'), ('health', 'NN'), ('personal', 'JJ'), ('care', 'NN'), ('b', 'NN'), ('ie', 'NN'), ('utf', 'JJ'), ('node', 'NN'), ('ref', 'NN'), ('nav', 'JJ'), ('c', 'NN'), ('hpc', 'NN'), ('baby', 'NN'), ('b', 'NN'), ('ie', 'NN'), ('utf', 'JJ'), ('node', 'NN'), ('ref', 'NN'), ('nav', 'JJ'), ('c', 'NN'), ('baby', 'NN'), ('video', 'NN'), ('game', 'NN'), ('b', 'NN'), ('ie', 'NN'), ('utf', 'JJ'), ('node', 'NN'), ('ref', 'NN'), ('nav', 'JJ'), ('c', 'NN'), ('video', 'NN'), ('game', 'NN'), ('pet', 'NN'), ('supply', 'NN'), ('b', 'NN'), ('ie', 'NN'), ('utf', 'JJ'), ('node', 'NN'), ('ref', 'NN'), ('nav', 'JJ'), ('c', 'NN'), ('pet', 'JJ'), ('auto', 'NN'), ('delivery', 'NN'), ('landing', 'VBG'), ('ref', 'NN'), ('nav', 'JJ'), ('c', 'NN'), ('sn', 'NN'), ('audible', 'JJ'), ('book', 'NN'), ('original', 'JJ'), ('b', 'NN'), ('ie', 'NN'), ('utf', 'JJ'), ('node', 'NN'), ('ref', 'NN'), ('nav', 'JJ'), ('c', 'NN'), ('audible', 'JJ'), ('b', 'NN'), ('node', 'NN'), ('ref', 'NN'), ('nav', 'JJ'), ('c', 'NN'), ('amazonbasics', 'NNS'), ('kindle', 'VBP'), ('ebooks', 'VBZ'), ('b', 'JJ'), ('ie', 'NN'), ('utf', 'JJ'), ('node', 'NN'), ('ref', 'NN'), ('nav', 'JJ'), ('c', 'NN'), ('kindle', 'VB'), ('book', 'NN'), ('l', 'NN'), ('encoding', 'VBG'), ('utf', 'JJ'), ('ref', 'NN'), ('nav', 'NN'), ('swm', 'NN'), ('swm', 'NN'), ('gd', 'NN'), ('pf', 'NN'), ('rd', 'NN'), ('p', 'NN'), ('e', 'NN'), ('b', 'NN'), ('bf', 'NN'), ('f', 'NN'), ('e', 'NN'), ('df', 'NN'), ('pf', 'NN'), ('rd', 'NN'), ('nav', 'JJ'), ('sitewide', 'NN'), ('msg', 'NN'), ('pf', 'NN'), ('rd', 'NN'), ('pf', 'NN'), ('rd', 'NN'), ('navbar', 'NN'), ('pf', 'NN'), ('rd', 'NN'), ('tjruun', 'NN'), ('kgv', 'NN'), ('pf', 'NN'), ('rd', 'NN'), ('r', 'NN'), ('jh', 'NN'), ('rgfb', 'NN'), ('zcsrq', 'NN'), ('b', 'NN'), ('encoding', 'VBG'), ('utf', 'JJ'), ('node', 'NN'), ('b', 'NN'), ('node', 'NN'), ('b', 'NN'), ('node', 'NN'), ('b', 'NN'), ('node', 'NN'), ('b', 'NN'), ('node', 'NN'), ('b', 'NN'), ('node', 'NN'), ('b', 'NN'), ('node', 'NN'), ('hidden', 'NN'), ('keywords', 'NNS'), ('b', 'VBP'), ('kthkk', 'NN'), ('cb', 'NN'), ('w', 'NN'), ('q', 'NN'), ('cb', 'NN'), ('jd', 'NN'), ('j', 'NN'), ('cb', 'NN'), ('j', 'NN'), ('fgq', 'NN'), ('cb', 'NN'), ('hnp', 'NN'), ('z', 'NN'), ('cb', 'NN'), ('yhvmk', 'NN'), ('cb', 'NN'), ('qqzzjk', 'NN'), ('cb', 'NN'), ('frjtz', 'NN'), ('cb', 'NN'), ('z', 'NN'), ('cb', 'NN'), ('xdbnscp', 'NNP'), ('cb', 'NN'), ('c', 'NN'), ('l', 'NN'), ('vc', 'NN'), ('ref', 'NN'), ('nb', 'JJ'), ('sb', 'NN'), ('no', 'DT'), ('hidden', 'JJ'), ('keywords', 'NNS'), ('b', 'VBP'), ('kthkk', 'NN'), ('cb', 'NN'), ('w', 'NN'), ('q', 'NN'), ('cb', 'NN'), ('jd', 'NN'), ('j', 'NN'), ('cb', 'NN'), ('j', 'NN'), ('fgq', 'NN'), ('cb', 'NN'), ('hnp', 'NN'), ('z', 'NN'), ('cb', 'NN'), ('yhvmk', 'NN'), ('cb', 'NN'), ('qqzzjk', 'NN'), ('cb', 'NN'), ('frjtz', 'NN'), ('cb', 'NN'), ('z', 'NN'), ('cb', 'NN'), ('xdbnscp', 'NNP'), ('cb', 'NN'), ('c', 'NN'), ('l', 'NN'), ('vc', 'NN'), ('ref', 'NN'), ('nb', 'JJ'), ('sb', 'NN'), ('no', 'DT'), ('b', 'NN'), ('node', 'NN'), ('b', 'NN'), ('node', 'NN'), ('b', 'NN'), ('node', 'NN'), ('b', 'NN'), ('node', 'NN'), ('b', 'NN'), ('node', 'NN'), ('b', 'NN'), ('ie', 'NN'), ('utf', 'JJ'), ('node', 'NN'), ('b', 'NN'), ('node', 'NN'), ('b', 'NN'), ('node', 'NN'), ('b', 'NN'), ('node', 'NN'), ('b', 'NN'), ('node', 'NN'), ('b', 'NN'), ('node', 'NN'), ('b', 'NN'), ('node', 'NN'), ('b', 'NN'), ('node', 'NN'), ('ref', 'NN'), ('inalgw', 'NN'), ('b', 'NN'), ('node', 'NN'), ('ref', 'NN'), ('inalgw', 'JJ'), ('gp', 'JJ'), ('history', 'NN'), ('gp', 'JJ'), ('history', 'NN'), ('www', 'NN'), ('aboutamazon', 'NN'), ('utm', 'JJ'), ('source', 'NN'), ('gateway', 'NN'), ('utm', 'JJ'), ('medium', 'NN'), ('footer', 'NN'), ('amazon', 'JJ'), ('job', 'NN'), ('press', 'NN'), ('aboutamazon', 'NN'), ('utm', 'JJ'), ('source', 'NN'), ('gateway', 'NN'), ('utm', 'JJ'), ('medium', 'NN'), ('footer', 'NN'), ('www', 'NN'), ('amazon', 'NN'), ('science', 'NN'), ('www', 'NN'), ('amazon', 'NN'), ('gp', 'NN'), ('redirect', 'VBP'), ('html', 'NN'), ('ref', 'NN'), ('footer', 'NN'), ('fb', 'NN'), ('location', 'NN'), ('www', 'NN'), ('facebook', 'NN'), ('com', 'NN'), ('amazonin', 'NN'), ('token', 'NN'), ('eac', 'NN'), ('bb', 'NN'), ('e', 'NN'), ('fd', 'NN'), ('e', 'NN'), ('www', 'NN'), ('amazon', 'NN'), ('gp', 'NN'), ('redirect', 'VBP'), ('html', 'NN'), ('ref', 'NN'), ('footer', 'NN'), ('twitter', 'NN'), ('location', 'NN'), ('twitter', 'NN'), ('com', 'NN'), ('amazonin', 'NN'), ('token', 'NN'), ('dfbfcb', 'NN'), ('e', 'NN'), ('ff', 'NN'), ('dc', 'NN'), ('f', 'NN'), ('b', 'NN'), ('www', 'NN'), ('amazon', 'NN'), ('gp', 'NN'), ('redirect', 'VBP'), ('html', 'NN'), ('location', 'NN'), ('www', 'NN'), ('instagram', 'NN'), ('com', 'NN'), ('amazondotin', 'NN'), ('token', 'JJ'), ('c', 'NN'), ('e', 'NN'), ('cb', 'NN'), ('b', 'NN'), ('f', 'NN'), ('e', 'NN'), ('df', 'NN'), ('bfc', 'NN'), ('source', 'NN'), ('standard', 'NN'), ('b', 'NN'), ('node', 'NN'), ('ld', 'NN'), ('azinsoanavdesktopfooter', 'NN'), ('c', 'VBP'), ('ref', 'NN'), ('nav', 'JJ'), ('footer', 'NN'), ('sell', 'VBP'), ('c', 'JJ'), ('accelerator', 'NN'), ('amazon', 'NN'), ('ref', 'NN'), ('map', 'NN'), ('b', 'NN'), ('b', 'NN'), ('gw', 'NN'), ('ft', 'NN'), ('brandservices', 'NNS'), ('amazon', 'VBP'), ('ref', 'JJ'), ('aoinabrlgnrfoot', 'NN'), ('ld', 'VBZ'), ('aoinabrlgnrfoot', 'RB'), ('sell', 'VB'), ('amazon', 'JJ'), ('grow', 'NN'), ('business', 'NN'), ('amazon', 'NN'), ('global', 'JJ'), ('selling', 'NN'), ('html', 'NN'), ('ld', 'NN'), ('azin', 'VBP'), ('footer', 'NN'), ('v', 'NN'), ('ref', 'NN'), ('azin', 'VBP'), ('footer', 'NN'), ('v', 'NN'), ('affiliate', 'NN'), ('program', 'NN'), ('amazon', 'NN'), ('utm', 'JJ'), ('campaign', 'NN'), ('assocshowcase', 'NN'), ('utm', 'JJ'), ('medium', 'NN'), ('footer', 'NN'), ('utm', 'JJ'), ('source', 'NN'), ('gw', 'NN'), ('ref', 'NN'), ('footer', 'NN'), ('assoc', 'NN'), ('service', 'NN'), ('amazon', 'NN'), ('service', 'NN'), ('fulfilment', 'NN'), ('amazon', 'NN'), ('benefit', 'NN'), ('html', 'NN'), ('ref', 'NN'), ('az', 'VBP'), ('footer', 'NN'), ('fba', 'NN'), ('ld', 'NN'), ('awrginfbafooter', 'NN'), ('advertising', 'NN'), ('amazon', 'NN'), ('ref', 'NN'), ('amz', 'NN'), ('www', 'NN'), ('amazonpay', 'NN'), ('merchant', 'NN'), ('gp', 'NN'), ('help', 'NN'), ('customer', 'NN'), ('display', 'NN'), ('html', 'NN'), ('nodeid', 'JJ'), ('gdfu', 'NN'), ('j', 'NN'), ('al', 'NN'), ('syhrd', 'NN'), ('ref', 'NN'), ('footer', 'NN'), ('covid', 'NN'), ('gp', 'NN'), ('cs', 'NN'), ('homepage', 'NN'), ('html', 'NN'), ('ref', 'NN'), ('footer', 'NN'), ('ya', 'NN'), ('gp', 'NN'), ('cs', 'NN'), ('return', 'NN'), ('homepage', 'NN'), ('html', 'VBD'), ('ref', 'JJ'), ('footer', 'NN'), ('hy', 'NN'), ('f', 'NN'), ('gp', 'NN'), ('help', 'NN'), ('customer', 'NN'), ('display', 'NN'), ('html', 'NN'), ('nodeid', 'JJ'), ('ref', 'NN'), ('footer', 'NN'), ('swc', 'NN'), ('gp', 'NN'), ('browse', 'NN'), ('html', 'NN'), ('node', 'NN'), ('ref', 'NN'), ('footer', 'NN'), ('mobapp', 'NN'), ('gp', 'NN'), ('help', 'NN'), ('customer', 'NN'), ('display', 'NN'), ('html', 'NN'), ('nodeid', 'JJ'), ('ref', 'NN'), ('footer', 'NN'), ('gw', 'NN'), ('b', 'NN'), ('ref', 'NN'), ('footer', 'NN'), ('logo', 'NN'), ('customer', 'NN'), ('preference', 'NN'), ('edit', 'NN'), ('ie', 'NN'), ('utf', 'JJ'), ('preferencesreturnurl', 'NN'), ('f', 'NN'), ('ref', 'NN'), ('footer', 'NN'), ('lang', 'NN'), ('www', 'VBD'), ('amazon', 'JJ'), ('com', 'NN'), ('au', 'NN'), ('ref', 'NN'), ('footer', 'NN'), ('au', 'NN'), ('www', 'NN'), ('amazon', 'NN'), ('com', 'NN'), ('br', 'NN'), ('ref', 'NN'), ('footer', 'NN'), ('br', 'NN'), ('www', 'NN'), ('amazon', 'NN'), ('ca', 'MD'), ('ref', 'VB'), ('footer', 'NN'), ('ca', 'MD'), ('www', 'VB'), ('amazon', 'JJ'), ('cn', 'NN'), ('ref', 'NN'), ('footer', 'NN'), ('cn', 'NN'), ('www', 'NN'), ('amazon', 'NN'), ('fr', 'NN'), ('ref', 'NN'), ('footer', 'NN'), ('fr', 'NN'), ('www', 'NN'), ('amazon', 'NN'), ('de', 'IN'), ('ref', 'FW'), ('footer', 'NN'), ('de', 'IN'), ('www', 'FW'), ('amazon', 'JJ'), ('ref', 'NN'), ('footer', 'NN'), ('www', 'NN'), ('amazon', 'NN'), ('co', 'NN'), ('jp', 'NN'), ('ref', 'NN'), ('footer', 'NN'), ('jp', 'NN'), ('www', 'NN'), ('amazon', 'NN'), ('com', 'NN'), ('mx', 'NN'), ('ref', 'NN'), ('footer', 'NN'), ('mx', 'NN'), ('www', 'NN'), ('amazon', 'NN'), ('nl', 'JJ'), ('ref', 'NN'), ('footer', 'NN'), ('nl', 'JJ'), ('www', 'NN'), ('amazon', 'NN'), ('pl', 'NN'), ('ref', 'NN'), ('footer', 'NN'), ('pl', 'NN'), ('www', 'NN'), ('amazon', 'NN'), ('sg', 'NN'), ('ref', 'NN'), ('footer', 'NN'), ('sg', 'NN'), ('www', 'NN'), ('amazon', 'NN'), ('e', 'NN'), ('ref', 'VBP'), ('footer', 'NN'), ('e', 'NN'), ('www', 'NN'), ('amazon', 'NN'), ('com', 'NN'), ('tr', 'NN'), ('ref', 'NN'), ('footer', 'NN'), ('tr', 'NN'), ('www', 'NN'), ('amazon', 'NN'), ('ae', 'NN'), ('ref', 'NN'), ('footer', 'NN'), ('ae', 'NN'), ('www', 'NN'), ('amazon', 'NN'), ('co', 'NN'), ('uk', 'JJ'), ('ref', 'NN'), ('footer', 'NN'), ('uk', 'JJ'), ('www', 'NN'), ('amazon', 'NN'), ('com', 'NN'), ('ref', 'NN'), ('footer', 'NN'), ('u', 'JJ'), ('www', 'NN'), ('abebooks', 'NNS'), ('com', 'VBP'), ('aws', 'JJ'), ('amazon', 'NN'), ('com', 'NN'), ('cloud', 'NN'), ('computing', 'VBG'), ('sc', 'JJ'), ('channel', 'NNS'), ('el', 'VBP'), ('sc', 'JJ'), ('campaign', 'NN'), ('amazonfooter', 'NN'), ('www', 'NN'), ('audible', 'JJ'), ('www', 'NN'), ('dpreview', 'NN'), ('com', 'NN'), ('www', 'NN'), ('imdb', 'NN'), ('com', 'NN'), ('www', 'NN'), ('shopbop', 'NN'), ('com', 'NN'), ('business', 'NN'), ('ref', 'NN'), ('footer', 'NN'), ('aingw', 'NN'), ('ref', 'NN'), ('footer', 'NN'), ('amznow', 'VBP'), ('music', 'NN'), ('prime', 'JJ'), ('ref', 'NN'), ('footer', 'NN'), ('apm', 'NN'), ('gp', 'NN'), ('help', 'NN'), ('customer', 'NN'), ('display', 'NN'), ('html', 'NN'), ('nodeid', 'JJ'), ('ref', 'NN'), ('footer', 'NN'), ('cou', 'NN'), ('gp', 'NN'), ('help', 'NN'), ('customer', 'NN'), ('display', 'NN'), ('html', 'NN'), ('nodeid', 'JJ'), ('ref', 'NN'), ('footer', 'NN'), ('privacy', 'NN'), ('gp', 'NN'), ('help', 'NN'), ('customer', 'NN'), ('display', 'NN'), ('html', 'NN'), ('nodeid', 'JJ'), ('ref', 'NN'), ('footer', 'NN'), ('iba', 'NN')])]\n",
            "--------------------------------------------------\n"
          ]
        },
        {
          "output_type": "stream",
          "name": "stderr",
          "text": [
            "[nltk_data] Downloading package maxent_ne_chunker to\n",
            "[nltk_data]     /root/nltk_data...\n",
            "[nltk_data]   Package maxent_ne_chunker is already up-to-date!\n",
            "[nltk_data] Downloading package words to /root/nltk_data...\n",
            "[nltk_data]   Package words is already up-to-date!\n"
          ]
        }
      ]
    },
    {
      "cell_type": "code",
      "source": [
        "import json\n",
        "\n",
        "# Store the NLP analysis results of all fields in a single variable\n",
        "combined_analysis = {}\n",
        "\n",
        "for field, analysis_result in nlp_analysis.items():\n",
        "    for analysis_type, result in analysis_result.items():\n",
        "        if analysis_type == \"Sentiment Scores\":\n",
        "            if analysis_type not in combined_analysis:\n",
        "                combined_analysis[analysis_type] = []\n",
        "            combined_analysis[analysis_type].append(result)\n",
        "        else:\n",
        "            if analysis_type not in combined_analysis:\n",
        "                combined_analysis[analysis_type] = []\n",
        "            combined_analysis[analysis_type].extend(result)\n",
        "\n",
        "# Calculate the average sentiment scores\n",
        "average_sentiment_scores = {}\n",
        "for sentiment_scores_list in combined_analysis[\"Sentiment Scores\"]:\n",
        "    for sentiment_type, sentiment_score in sentiment_scores_list.items():\n",
        "        if sentiment_type not in average_sentiment_scores:\n",
        "            average_sentiment_scores[sentiment_type] = 0\n",
        "        average_sentiment_scores[sentiment_type] += sentiment_score\n",
        "\n",
        "num_fields = len(preprocessed_data)\n",
        "for sentiment_type, sentiment_score in average_sentiment_scores.items():\n",
        "    average_sentiment_scores[sentiment_type] = sentiment_score / num_fields\n",
        "\n",
        "# Combine average sentiment scores and other analysis results\n",
        "combined_results = {\"Average Sentiment Scores\": average_sentiment_scores}\n",
        "for analysis_type, results in combined_analysis.items():\n",
        "    if analysis_type != \"Sentiment Scores\":\n",
        "        combined_results[analysis_type] = results\n",
        "\n",
        "# Save the combined results to a JSON file\n",
        "output_file = \"combined_analysis_results.json\"\n",
        "with open(output_file, \"w\") as json_file:\n",
        "    json.dump(combined_results, json_file, indent=4)\n",
        "\n",
        "print(\"Combined analysis results saved to\", output_file)\n"
      ],
      "metadata": {
        "colab": {
          "base_uri": "https://localhost:8080/"
        },
        "id": "BckWSJMlcc9G",
        "outputId": "dd912761-d9de-4d17-cc5c-30a555ce23f3"
      },
      "execution_count": null,
      "outputs": [
        {
          "output_type": "stream",
          "name": "stdout",
          "text": [
            "Combined analysis results saved to combined_analysis_results.json\n"
          ]
        }
      ]
    },
    {
      "cell_type": "code",
      "source": [
        "import json\n",
        "\n",
        "# Define the path to the JSON file\n",
        "json_file = \"combined_analysis_results.json\"\n",
        "\n",
        "# Load the JSON data\n",
        "with open(json_file) as file:\n",
        "    data = json.load(file)\n",
        "\n",
        "# Print the loaded data\n",
        "print(data)"
      ],
      "metadata": {
        "colab": {
          "base_uri": "https://localhost:8080/"
        },
        "id": "1QQt-MUPdAKN",
        "outputId": "2c6a20fa-9969-4cb6-ebf7-21408c0312d8"
      },
      "execution_count": null,
      "outputs": [
        {
          "output_type": "stream",
          "name": "stdout",
          "text": [
            "{'Average Sentiment Scores': {'neg': 0.006999999999999999, 'neu': 0.8552, 'pos': 0.1376, 'compound': 0.7430399999999999}, 'Most Common Words': [['https', 1], [':', 1], ['//www.amazon.in/', 1], ['amazon', 4], ['page', 4], ['personal', 3], ['home', 3], ['look', 3], ['back', 3], ['online', 2], ['gourmet', 2], ['tv', 2], ['fitness', 2], ['recently', 2], ['viewed', 2], ['item', 2], ['featured', 2], ['recommendation', 2], ['view', 2], ['edit', 2], ['browsing', 2], ['historyafter', 2], ['viewing', 2], ['product', 2], ['detail', 2], ['find', 2], ['easy', 2], ['way', 2], ['navigate', 2], ['interested', 2], ['million', 2], ['ad', 2], ['shopping', 1], ['site', 1], ['india', 1], ['shop', 1], ['mobile', 1], ['book', 1], ['watch', 1], ['shoe', 1], ['inskip', 1], ['main', 1], ['content', 1], ['inhelloselect', 1], ['addressallselect', 1], ['department', 1], ['want', 1], ['search', 1], ['inall', 1], ['categoriesalexa', 1], ['skillsamazon', 1], ['devicesamazon', 1], ['fashionamazon', 1], ['amazon', 1], ['online', 1], ['shopping', 1], ['india', 1], ['buy', 1], ['mobile', 1], ['laptop', 1], ['camera', 1], ['book', 1], ['watch', 1], ['apparel', 1], ['shoe', 1], ['e', 1], ['gift', 1], ['card', 1], ['free', 1], ['shipping', 1], ['cash', 1], ['delivery', 1], ['available', 1], ['image', 47], ['amazon', 20], ['x', 20], ['jpg', 20], ['http', 19], ['com', 19], ['g', 18], ['cb', 18], ['eu', 14], ['ssl', 14], ['sy', 14], ['img', 11], ['cepc', 8], ['covid', 8], ['bau', 7], ['f', 7], ['gw', 6], ['e', 6], ['medium', 5], ['v', 5], ['home', 5], ['event', 4], ['gateway', 4], ['contingency', 4], ['april', 4], ['rush', 4], ['dbqc', 4], ['gwpc', 4], ['xcm', 4], ['manual', 4], ['lower', 4], ['ql', 4], ['jupiterfallback', 3], ['jupiter', 3], ['pc', 3], ['top', 3], ['card', 3], ['png', 2], ['sprite', 2], ['desktop', 2], ['dc', 2], ['social', 1], ['share', 1], ['logo', 1], ['gno', 1], ['nav', 1], ['global', 1], ['reorg', 1], ['celnav', 1], ['pd', 1], ['ref', 82], ['b', 51], ['node', 45], ['footer', 41], ['nav', 38], ['amazon', 35], ['c', 35], ['www', 32], ['utf', 24], ['gp', 22], ['ie', 21], ['cb', 21], ['html', 17], ['f', 15], ['com', 13], ['openid', 10], ['customer', 9], ['e', 9], ['help', 8], ['display', 7], ['nodeid', 7], ['utm', 7], ['j', 6], ['pf', 6], ['rd', 6], ['ld', 5], ['http', 4], ['encoding', 4], ['book', 4], ['z', 4], ['source', 4], ['fspecs', 3], ['net', 3], ['fauth', 3], ['cs', 3], ['history', 3], ['sell', 3], ['home', 3], ['game', 3], ['audible', 3], ['l', 3], ['medium', 3], ['redirect', 3], ['location', 3], ['token', 3], ['gw', 3], ['logo', 2], ['preference', 2], ['edit', 2], ['preferencesreturnurl', 2]], 'Most Common 2-grams': [[['https', ':'], 1], [[':', '//www.amazon.in/'], 1], [['recently', 'viewed'], 2], [['viewed', 'item'], 2], [['item', 'featured'], 2], [['featured', 'recommendation'], 2], [['recommendation', 'view'], 2], [['view', 'edit'], 2], [['edit', 'browsing'], 2], [['browsing', 'historyafter'], 2], [['historyafter', 'viewing'], 2], [['viewing', 'product'], 2], [['product', 'detail'], 2], [['detail', 'page'], 2], [['page', 'look'], 2], [['look', 'find'], 2], [['find', 'easy'], 2], [['easy', 'way'], 2], [['way', 'navigate'], 2], [['navigate', 'back'], 2], [['back', 'page'], 2], [['page', 'interested'], 2], [['online', 'shopping'], 1], [['shopping', 'site'], 1], [['site', 'india'], 1], [['india', 'shop'], 1], [['shop', 'online'], 1], [['online', 'mobile'], 1], [['mobile', 'book'], 1], [['book', 'watch'], 1], [['watch', 'shoe'], 1], [['shoe', 'amazon'], 1], [['amazon', 'inskip'], 1], [['inskip', 'main'], 1], [['main', 'content'], 1], [['content', 'inhelloselect'], 1], [['inhelloselect', 'addressallselect'], 1], [['addressallselect', 'department'], 1], [['department', 'want'], 1], [['want', 'search'], 1], [['search', 'inall'], 1], [['inall', 'categoriesalexa'], 1], [['categoriesalexa', 'skillsamazon'], 1], [['skillsamazon', 'devicesamazon'], 1], [['devicesamazon', 'fashionamazon'], 1], [['fashionamazon', 'freshamazon'], 1], [['freshamazon', 'pharmacyappliancesapps'], 1], [['pharmacyappliancesapps', 'gamesbabybeautybookscar'], 1], [['gamesbabybeautybookscar', 'motorbikeclothing'], 1], [['motorbikeclothing', 'accessoriescollectiblescomputers'], 1], [['accessoriescollectiblescomputers', 'accessorieselectronicsfurnituregarden'], 1], [['accessorieselectronicsfurnituregarden', 'outdoorsgift'], 1], [['amazon', 'online'], 1], [['online', 'shopping'], 1], [['shopping', 'india'], 1], [['india', 'buy'], 1], [['buy', 'mobile'], 1], [['mobile', 'laptop'], 1], [['laptop', 'camera'], 1], [['camera', 'book'], 1], [['book', 'watch'], 1], [['watch', 'apparel'], 1], [['apparel', 'shoe'], 1], [['shoe', 'e'], 1], [['e', 'gift'], 1], [['gift', 'card'], 1], [['card', 'free'], 1], [['free', 'shipping'], 1], [['shipping', 'cash'], 1], [['cash', 'delivery'], 1], [['delivery', 'available'], 1], [['amazon', 'com'], 19], [['com', 'image'], 19], [['image', 'g'], 18], [['jpg', 'http'], 16], [['cb', 'jpg'], 15], [['http', 'image'], 14], [['image', 'eu'], 14], [['eu', 'ssl'], 14], [['ssl', 'image'], 14], [['image', 'amazon'], 14], [['sy', 'cb'], 14], [['g', 'img'], 11], [['x', 'sy'], 9], [['http', 'medium'], 5], [['medium', 'amazon'], 5], [['img', 'cepc'], 4], [['cepc', 'covid'], 4], [['covid', 'v'], 4], [['v', 'cepc'], 4], [['cepc', 'contingency'], 4], [['contingency', 'covid'], 4], [['covid', 'gw'], 4], [['gw', 'april'], 4], [['april', 'rush'], 4], [['rush', 'dbqc'], 4], [['dbqc', 'x'], 4], [['img', 'home'], 4], [['home', 'bau'], 4], [['bau', 'gwpc'], 4], [['gwpc', 'xcm'], 4], [['xcm', 'manual'], 4], [['manual', 'x'], 4], [['x', 'x'], 4], [['jpg', 'lower'], 4], [['lower', 'ql'], 4], [['ql', 'sy'], 4], [['g', 'gateway'], 3], [['gateway', 'event'], 3], [['event', 'jupiterfallback'], 3], [['jupiterfallback', 'jupiter'], 3], [['jupiter', 'bau'], 3], [['bau', 'pc'], 3], [['pc', 'top'], 3], [['top', 'card'], 3], [['f', 'jpg'], 3], [['cb', 'png'], 2], [['png', 'http'], 2], [['f', 'e'], 2], [['e', 'e'], 2], [['e', 'dc'], 2], [['ref', 'nav'], 37], [['ref', 'footer'], 34], [['nav', 'c'], 30], [['node', 'ref'], 24], [['www', 'amazon'], 23], [['b', 'node'], 22], [['ie', 'utf'], 21], [['utf', 'node'], 21], [['b', 'ie'], 19], [['node', 'b'], 18], [['gp', 'help'], 7], [['help', 'customer'], 7], [['customer', 'display'], 7], [['display', 'html'], 7], [['html', 'nodeid'], 7], [['html', 'ref'], 6], [['nodeid', 'ref'], 6], [['pf', 'rd'], 6], [['amazon', 'com'], 6], [['http', 'f'], 4], [['amazon', 'gp'], 4], [['z', 'cb'], 4], [['amazon', 'ref'], 4], [['f', 'fspecs'], 3], [['fspecs', 'openid'], 3], [['openid', 'net'], 3], [['net', 'fauth'], 3], [['fauth', 'f'], 3], [['gp', 'cs'], 3], [['encoding', 'utf'], 3], [['utm', 'source'], 3], [['utm', 'medium'], 3], [['medium', 'footer'], 3], [['gp', 'redirect'], 3], [['redirect', 'html'], 3], [['logo', 'customer'], 2], [['customer', 'preference'], 2], [['preference', 'edit'], 2], [['edit', 'ie'], 2], [['utf', 'preferencesreturnurl'], 2], [['preferencesreturnurl', 'f'], 2], [['f', 'ref'], 2], [['lang', 'www'], 2], [['signin', 'openid'], 2], [['f', 'fidentifier'], 2], [['fidentifier', 'select'], 2], [['select', 'openid'], 2], [['f', 'gp'], 2], [['node', 'ld'], 2], [['prime', 'ref'], 2]], 'Tokens': ['https', ':', '//www.amazon.in/', 'online', 'shopping', 'site', 'india', 'shop', 'online', 'mobile', 'book', 'watch', 'shoe', 'amazon', 'inskip', 'main', 'content', 'inhelloselect', 'addressallselect', 'department', 'want', 'search', 'inall', 'categoriesalexa', 'skillsamazon', 'devicesamazon', 'fashionamazon', 'freshamazon', 'pharmacyappliancesapps', 'gamesbabybeautybookscar', 'motorbikeclothing', 'accessoriescollectiblescomputers', 'accessorieselectronicsfurnituregarden', 'outdoorsgift', 'cardsgrocery', 'gourmet', 'foodshealth', 'personal', 'carehome', 'kitchenindustrial', 'scientificjewellerykindle', 'storeluggage', 'bagsluxury', 'beautymovies', 'tv', 'showsmusicmusical', 'instrumentsoffice', 'productspet', 'suppliesprime', 'videoshoes', 'handbagssoftwaresports', 'fitness', 'outdoorssubscribe', 'savetools', 'home', 'improvementtoys', 'gamesunder', 'video', 'gameswatchessearch', 'amazon', 'inenhello', 'sign', 'inaccount', 'listsreturns', 'orderscartallamazon', 'minitvsellbest', 'sellersmobilestoday', 'dealscustomer', 'servicenew', 'releasesprimeelectronicshome', 'kitchenamazon', 'paygift', 'ideasfashioncomputersbookscouponsbeauty', 'personal', 'caretoys', 'gamessports', 'fitness', 'outdoorscar', 'motorbikehome', 'improvementgrocery', 'gourmet', 'foodsgift', 'cardshealth', 'household', 'personal', 'carebabyvideo', 'gamespet', 'suppliessubscribe', 'saveaudibleamazonbasicskindle', 'ebooksprevious', 'slidenext', 'slidemakeup', 'productssee', 'morenew', 'look', 'new', 'seasonshop', 'fashiondo', 'homesee', 'moresmart', 'gadget', 'amazonshop', 'nowvalue', 'bazaarshop', 'daily', 'essentialswork', 'home', 'essentialsrouterslaptopskeyboards', 'mouse', 'moreheadphonessee', 'morerevamp', 'home', 'stylebedsheets', 'curtain', 'morehome', 'decorationhome', 'storagelighting', 'solutionsexplore', 'allinnovations', 'emerging', 'indian', 'brandsexplore', 'startupsyour', 'recently', 'viewed', 'item', 'featured', 'recommendation', 'view', 'edit', 'browsing', 'historyafter', 'viewing', 'product', 'detail', 'page', 'look', 'find', 'easy', 'way', 'navigate', 'back', 'page', 'interested', 'recently', 'viewed', 'item', 'featured', 'recommendation', 'view', 'edit', 'browsing', 'historyafter', 'viewing', 'product', 'detail', 'page', 'look', 'find', 'easy', 'way', 'navigate', 'back', 'page', 'interested', 'back', 'topget', 'know', 'usabout', 'uscareerspress', 'releasesamazon', 'scienceconnect', 'usfacebooktwitterinstagrammake', 'money', 'ussell', 'amazonsell', 'amazon', 'acceleratorprotect', 'build', 'brandamazon', 'global', 'sellingbecome', 'affiliatefulfilment', 'amazonadvertise', 'productsamazon', 'pay', 'merchantslet', 'u', 'help', 'youcovid', 'amazonyour', 'accountreturns', 'centre', 'purchase', 'protectionamazon', 'app', 'downloadhelpenglishaustraliabrazilcanadachinafrancegermanyitalyjapanmexiconetherlandspolandsingaporespainturkeyunited', 'arab', 'emiratesunited', 'kingdomunited', 'statesabebooksbooks', 'art', 'collectiblesamazon', 'web', 'servicesscalable', 'cloudcomputing', 'servicesaudibledownloadaudio', 'booksdpreviewdigitalphotographyimdbmovies', 'tv', 'celebritiesshopbopdesignerfashion', 'brandsamazon', 'businesseverything', 'foryour', 'businessprime', 'hour', 'deliveryon', 'everyday', 'itemsamazon', 'prime', 'music', 'million', 'song', 'ad', 'freeover', 'million', 'podcast', 'episodesconditions', 'use', 'saleprivacy', 'noticeinterest', 'based', 'ad', 'amazon', 'com', 'inc', 'affiliate', 'amazon', 'online', 'shopping', 'india', 'buy', 'mobile', 'laptop', 'camera', 'book', 'watch', 'apparel', 'shoe', 'e', 'gift', 'card', 'free', 'shipping', 'cash', 'delivery', 'available', 'http', 'medium', 'amazon', 'com', 'image', 'g', 'social', 'share', 'amazon', 'logo', 'cb', 'png', 'http', 'medium', 'amazon', 'com', 'image', 'g', 'gno', 'sprite', 'nav', 'sprite', 'global', 'x', 'reorg', 'celnav', 'cb', 'png', 'http', 'medium', 'amazon', 'com', 'image', 'g', 'event', 'pd', 'gw', 'swm', 'x', 'launch', 'v', 'cb', 'jpg', 'http', 'medium', 'amazon', 'com', 'image', 'id', 'jjpm', 'l', 'sx', 'jpg', 'http', 'image', 'eu', 'ssl', 'image', 'amazon', 'com', 'image', 'g', 'img', 'beauty', 'gw', 'desktop', 'make', 'cc', 'desktop', 'x', 'sy', 'cb', 'jpg', 'http', 'image', 'eu', 'ssl', 'image', 'amazon', 'com', 'image', 'g', 'gateway', 'event', 'jupiterfallback', 'jupiter', 'bau', 'pc', 'top', 'card', 'fashion', 'x', 'sy', 'cb', 'jpg', 'http', 'image', 'eu', 'ssl', 'image', 'amazon', 'com', 'image', 'g', 'gateway', 'event', 'jupiterfallback', 'jupiter', 'bau', 'pc', 'top', 'card', 'home', 'x', 'sy', 'cb', 'jpg', 'http', 'image', 'eu', 'ssl', 'image', 'amazon', 'com', 'image', 'g', 'img', 'amazondevices', 'neel', 'march', 'x', 'sy', 'cb', 'jpg', 'http', 'image', 'eu', 'ssl', 'image', 'amazon', 'com', 'image', 'g', 'gateway', 'event', 'jupiterfallback', 'jupiter', 'bau', 'pc', 'top', 'card', 'grocery', 'x', 'sy', 'cb', 'jpg', 'http', 'image', 'eu', 'ssl', 'image', 'amazon', 'com', 'image', 'g', 'img', 'cepc', 'covid', 'v', 'cepc', 'contingency', 'covid', 'gw', 'april', 'rush', 'dbqc', 'x', 'sy', 'cb', 'jpg', 'http', 'image', 'eu', 'ssl', 'image', 'amazon', 'com', 'image', 'g', 'img', 'cepc', 'covid', 'v', 'cepc', 'contingency', 'covid', 'gw', 'april', 'rush', 'dbqc', 'x', 'sy', 'cb', 'jpg', 'http', 'image', 'eu', 'ssl', 'image', 'amazon', 'com', 'image', 'g', 'img', 'cepc', 'covid', 'v', 'cepc', 'contingency', 'covid', 'gw', 'april', 'rush', 'dbqc', 'x', 'sy', 'cb', 'jpg', 'http', 'image', 'eu', 'ssl', 'image', 'amazon', 'com', 'image', 'g', 'img', 'cepc', 'covid', 'v', 'cepc', 'contingency', 'covid', 'gw', 'april', 'rush', 'dbqc', 'x', 'sy', 'cb', 'jpg', 'http', 'image', 'eu', 'ssl', 'image', 'amazon', 'com', 'image', 'g', 'img', 'home', 'bau', 'gwpc', 'xcm', 'manual', 'x', 'x', 'bd', 'eee', 'f', 'e', 'e', 'e', 'f', 'f', 'jpg', 'lower', 'ql', 'sy', 'cb', 'jpg', 'http', 'image', 'eu', 'ssl', 'image', 'amazon', 'com', 'image', 'g', 'img', 'home', 'bau', 'gwpc', 'xcm', 'manual', 'x', 'x', 'e', 'dc', 'fca', 'f', 'jpg', 'lower', 'ql', 'sy', 'cb', 'jpg', 'http', 'image', 'eu', 'ssl', 'image', 'amazon', 'com', 'image', 'g', 'img', 'home', 'bau', 'gwpc', 'xcm', 'manual', 'x', 'x', 'ccc', 'f', 'ea', 'cfb', 'f', 'e', 'jpg', 'lower', 'ql', 'sy', 'cb', 'jpg', 'http', 'image', 'eu', 'ssl', 'image', 'amazon', 'com', 'image', 'g', 'img', 'home', 'bau', 'gwpc', 'xcm', 'manual', 'x', 'x', 'bc', 'e', 'dc', 'aa', 'aae', 'fd', 'dacd', 'f', 'jpg', 'lower', 'ql', 'sy', 'cb', 'jpg', 'http', 'image', 'eu', 'ssl', 'image', 'amazon', 'com', 'image', 'g', 'img', 'amazonlaunchpad', 'gateway', 'june', 'dhyana', 'sy', 'cb', 'jpg', 'http', 'medium', 'amazon', 'com', 'image', 'g', 'personalization', 'ybh', 'loading', 'x', 'gray', 'cb', 'gif', 'ref', 'nav', 'logo', 'customer', 'preference', 'edit', 'ie', 'utf', 'preferencesreturnurl', 'f', 'ref', 'topnav', 'lang', 'www', 'amazon', 'ap', 'signin', 'openid', 'pape', 'max', 'auth', 'age', 'openid', 'return', 'http', 'f', 'fwww', 'amazon', 'f', 'f', 'encoding', 'dutf', 'ref', 'dnav', 'ya', 'signin', 'openid', 'identity', 'http', 'f', 'fspecs', 'openid', 'net', 'fauth', 'f', 'fidentifier', 'select', 'openid', 'assoc', 'handle', 'inflex', 'openid', 'mode', 'checkid', 'setup', 'openid', 'claimed', 'id', 'http', 'f', 'fspecs', 'openid', 'net', 'fauth', 'f', 'fidentifier', 'select', 'openid', 'n', 'http', 'f', 'fspecs', 'openid', 'net', 'fauth', 'f', 'gp', 'cs', 'order', 'history', 'ref', 'nav', 'order', 'first', 'www', 'amazon', 'gp', 'cart', 'view', 'html', 'ref', 'nav', 'cart', 'gp', 'site', 'directory', 'ref', 'nav', 'em', 'j', 'disabled', 'minitv', 'ref', 'nav', 'avod', 'desktop', 'topnav', 'b', 'node', 'ld', 'azinsoanavdesktop', 'ref', 'nav', 'c', 'sell', 'gp', 'bestseller', 'ref', 'nav', 'c', 'bestseller', 'mobile', 'phone', 'b', 'ie', 'utf', 'node', 'ref', 'nav', 'c', 'mobile', 'deal', 'ref', 'nav', 'c', 'gb', 'gp', 'help', 'customer', 'display', 'html', 'nodeid', 'ref', 'nav', 'c', 'help', 'gp', 'new', 'release', 'ref', 'nav', 'c', 'newreleases', 'prime', 'ref', 'nav', 'c', 'primelink', 'nonmember', 'electronics', 'b', 'ie', 'utf', 'node', 'ref', 'nav', 'c', 'electronics', 'home', 'kitchen', 'b', 'ie', 'utf', 'node', 'ref', 'nav', 'c', 'home', 'gp', 'sva', 'dashboard', 'ref', 'nav', 'c', 'apay', 'gcx', 'gfhz', 'ref', 'nav', 'c', 'giftfinder', 'gp', 'browse', 'html', 'node', 'ref', 'nav', 'c', 'fashion', 'computer', 'accessory', 'b', 'ie', 'utf', 'node', 'ref', 'nav', 'c', 'pc', 'book', 'b', 'ie', 'utf', 'node', 'ref', 'nav', 'c', 'book', 'amazon', 'coupon', 'b', 'encoding', 'utf', 'node', 'ref', 'nav', 'c', 'coupon', 'beauty', 'b', 'ie', 'utf', 'node', 'ref', 'nav', 'c', 'beauty', 'toy', 'game', 'b', 'ie', 'utf', 'node', 'ref', 'nav', 'c', 'toy', 'sport', 'b', 'ie', 'utf', 'node', 'ref', 'nav', 'c', 'sport', 'car', 'motorbike', 'store', 'b', 'ie', 'utf', 'node', 'ref', 'nav', 'c', 'automotive', 'home', 'improvement', 'b', 'ie', 'utf', 'node', 'ref', 'nav', 'c', 'hi', 'gourmet', 'specialty', 'food', 'b', 'ie', 'utf', 'node', 'ref', 'nav', 'c', 'grocery', 'gift', 'card', 'store', 'b', 'ie', 'utf', 'node', 'ref', 'nav', 'c', 'gc', 'health', 'personal', 'care', 'b', 'ie', 'utf', 'node', 'ref', 'nav', 'c', 'hpc', 'baby', 'b', 'ie', 'utf', 'node', 'ref', 'nav', 'c', 'baby', 'video', 'game', 'b', 'ie', 'utf', 'node', 'ref', 'nav', 'c', 'video', 'game', 'pet', 'supply', 'b', 'ie', 'utf', 'node', 'ref', 'nav', 'c', 'pet', 'auto', 'delivery', 'landing', 'ref', 'nav', 'c', 'sn', 'audible', 'book', 'original', 'b', 'ie', 'utf', 'node', 'ref', 'nav', 'c', 'audible', 'b', 'node', 'ref', 'nav', 'c', 'amazonbasics', 'kindle', 'ebooks', 'b', 'ie', 'utf', 'node', 'ref', 'nav', 'c', 'kindle', 'book', 'l', 'encoding', 'utf', 'ref', 'nav', 'swm', 'swm', 'gd', 'pf', 'rd', 'p', 'e', 'b', 'bf', 'f', 'e', 'df', 'pf', 'rd', 'nav', 'sitewide', 'msg', 'pf', 'rd', 'pf', 'rd', 'navbar', 'pf', 'rd', 'tjruun', 'kgv', 'pf', 'rd', 'r', 'jh', 'rgfb', 'zcsrq', 'b', 'encoding', 'utf', 'node', 'b', 'node', 'b', 'node', 'b', 'node', 'b', 'node', 'b', 'node', 'b', 'node', 'hidden', 'keywords', 'b', 'kthkk', 'cb', 'w', 'q', 'cb', 'jd', 'j', 'cb', 'j', 'fgq', 'cb', 'hnp', 'z', 'cb', 'yhvmk', 'cb', 'qqzzjk', 'cb', 'frjtz', 'cb', 'z', 'cb', 'xdbnscp', 'cb', 'c', 'l', 'vc', 'ref', 'nb', 'sb', 'no', 'hidden', 'keywords', 'b', 'kthkk', 'cb', 'w', 'q', 'cb', 'jd', 'j', 'cb', 'j', 'fgq', 'cb', 'hnp', 'z', 'cb', 'yhvmk', 'cb', 'qqzzjk', 'cb', 'frjtz', 'cb', 'z', 'cb', 'xdbnscp', 'cb', 'c', 'l', 'vc', 'ref', 'nb', 'sb', 'no', 'b', 'node', 'b', 'node', 'b', 'node', 'b', 'node', 'b', 'node', 'b', 'ie', 'utf', 'node', 'b', 'node', 'b', 'node', 'b', 'node', 'b', 'node', 'b', 'node', 'b', 'node', 'b', 'node', 'ref', 'inalgw', 'b', 'node', 'ref', 'inalgw', 'gp', 'history', 'gp', 'history', 'www', 'aboutamazon', 'utm', 'source', 'gateway', 'utm', 'medium', 'footer', 'amazon', 'job', 'press', 'aboutamazon', 'utm', 'source', 'gateway', 'utm', 'medium', 'footer', 'www', 'amazon', 'science', 'www', 'amazon', 'gp', 'redirect', 'html', 'ref', 'footer', 'fb', 'location', 'www', 'facebook', 'com', 'amazonin', 'token', 'eac', 'bb', 'e', 'fd', 'e', 'www', 'amazon', 'gp', 'redirect', 'html', 'ref', 'footer', 'twitter', 'location', 'twitter', 'com', 'amazonin', 'token', 'dfbfcb', 'e', 'ff', 'dc', 'f', 'b', 'www', 'amazon', 'gp', 'redirect', 'html', 'location', 'www', 'instagram', 'com', 'amazondotin', 'token', 'c', 'e', 'cb', 'b', 'f', 'e', 'df', 'bfc', 'source', 'standard', 'b', 'node', 'ld', 'azinsoanavdesktopfooter', 'c', 'ref', 'nav', 'footer', 'sell', 'c', 'accelerator', 'amazon', 'ref', 'map', 'b', 'b', 'gw', 'ft', 'brandservices', 'amazon', 'ref', 'aoinabrlgnrfoot', 'ld', 'aoinabrlgnrfoot', 'sell', 'amazon', 'grow', 'business', 'amazon', 'global', 'selling', 'html', 'ld', 'azin', 'footer', 'v', 'ref', 'azin', 'footer', 'v', 'affiliate', 'program', 'amazon', 'utm', 'campaign', 'assocshowcase', 'utm', 'medium', 'footer', 'utm', 'source', 'gw', 'ref', 'footer', 'assoc', 'service', 'amazon', 'service', 'fulfilment', 'amazon', 'benefit', 'html', 'ref', 'az', 'footer', 'fba', 'ld', 'awrginfbafooter', 'advertising', 'amazon', 'ref', 'amz', 'www', 'amazonpay', 'merchant', 'gp', 'help', 'customer', 'display', 'html', 'nodeid', 'gdfu', 'j', 'al', 'syhrd', 'ref', 'footer', 'covid', 'gp', 'cs', 'homepage', 'html', 'ref', 'footer', 'ya', 'gp', 'cs', 'return', 'homepage', 'html', 'ref', 'footer', 'hy', 'f', 'gp', 'help', 'customer', 'display', 'html', 'nodeid', 'ref', 'footer', 'swc', 'gp', 'browse', 'html', 'node', 'ref', 'footer', 'mobapp', 'gp', 'help', 'customer', 'display', 'html', 'nodeid', 'ref', 'footer', 'gw', 'b', 'ref', 'footer', 'logo', 'customer', 'preference', 'edit', 'ie', 'utf', 'preferencesreturnurl', 'f', 'ref', 'footer', 'lang', 'www', 'amazon', 'com', 'au', 'ref', 'footer', 'au', 'www', 'amazon', 'com', 'br', 'ref', 'footer', 'br', 'www', 'amazon', 'ca', 'ref', 'footer', 'ca', 'www', 'amazon', 'cn', 'ref', 'footer', 'cn', 'www', 'amazon', 'fr', 'ref', 'footer', 'fr', 'www', 'amazon', 'de', 'ref', 'footer', 'de', 'www', 'amazon', 'ref', 'footer', 'www', 'amazon', 'co', 'jp', 'ref', 'footer', 'jp', 'www', 'amazon', 'com', 'mx', 'ref', 'footer', 'mx', 'www', 'amazon', 'nl', 'ref', 'footer', 'nl', 'www', 'amazon', 'pl', 'ref', 'footer', 'pl', 'www', 'amazon', 'sg', 'ref', 'footer', 'sg', 'www', 'amazon', 'e', 'ref', 'footer', 'e', 'www', 'amazon', 'com', 'tr', 'ref', 'footer', 'tr', 'www', 'amazon', 'ae', 'ref', 'footer', 'ae', 'www', 'amazon', 'co', 'uk', 'ref', 'footer', 'uk', 'www', 'amazon', 'com', 'ref', 'footer', 'u', 'www', 'abebooks', 'com', 'aws', 'amazon', 'com', 'cloud', 'computing', 'sc', 'channel', 'el', 'sc', 'campaign', 'amazonfooter', 'www', 'audible', 'www', 'dpreview', 'com', 'www', 'imdb', 'com', 'www', 'shopbop', 'com', 'business', 'ref', 'footer', 'aingw', 'ref', 'footer', 'amznow', 'music', 'prime', 'ref', 'footer', 'apm', 'gp', 'help', 'customer', 'display', 'html', 'nodeid', 'ref', 'footer', 'cou', 'gp', 'help', 'customer', 'display', 'html', 'nodeid', 'ref', 'footer', 'privacy', 'gp', 'help', 'customer', 'display', 'html', 'nodeid', 'ref', 'footer', 'iba'], 'Sentences': ['https://www.amazon.in/', 'online shopping site india shop online mobile book watch shoe amazon inskip main content inhelloselect addressallselect department want search inall categoriesalexa skillsamazon devicesamazon fashionamazon freshamazon pharmacyappliancesapps gamesbabybeautybookscar motorbikeclothing accessoriescollectiblescomputers accessorieselectronicsfurnituregarden outdoorsgift cardsgrocery gourmet foodshealth personal carehome kitchenindustrial scientificjewellerykindle storeluggage bagsluxury beautymovies tv showsmusicmusical instrumentsoffice productspet suppliesprime videoshoes handbagssoftwaresports fitness outdoorssubscribe savetools home improvementtoys gamesunder video gameswatchessearch amazon inenhello sign inaccount listsreturns orderscartallamazon minitvsellbest sellersmobilestoday dealscustomer servicenew releasesprimeelectronicshome kitchenamazon paygift ideasfashioncomputersbookscouponsbeauty personal caretoys gamessports fitness outdoorscar motorbikehome improvementgrocery gourmet foodsgift cardshealth household personal carebabyvideo gamespet suppliessubscribe saveaudibleamazonbasicskindle ebooksprevious slidenext slidemakeup productssee morenew look new seasonshop fashiondo homesee moresmart gadget amazonshop nowvalue bazaarshop daily essentialswork home essentialsrouterslaptopskeyboards mouse moreheadphonessee morerevamp home stylebedsheets curtain morehome decorationhome storagelighting solutionsexplore allinnovations emerging indian brandsexplore startupsyour recently viewed item featured recommendation view edit browsing historyafter viewing product detail page look find easy way navigate back page interested recently viewed item featured recommendation view edit browsing historyafter viewing product detail page look find easy way navigate back page interested back topget know usabout uscareerspress releasesamazon scienceconnect usfacebooktwitterinstagrammake money ussell amazonsell amazon acceleratorprotect build brandamazon global sellingbecome affiliatefulfilment amazonadvertise productsamazon pay merchantslet u help youcovid amazonyour accountreturns centre purchase protectionamazon app downloadhelpenglishaustraliabrazilcanadachinafrancegermanyitalyjapanmexiconetherlandspolandsingaporespainturkeyunited arab emiratesunited kingdomunited statesabebooksbooks art collectiblesamazon web servicesscalable cloudcomputing servicesaudibledownloadaudio booksdpreviewdigitalphotographyimdbmovies tv celebritiesshopbopdesignerfashion brandsamazon businesseverything foryour businessprime hour deliveryon everyday itemsamazon prime music million song ad freeover million podcast episodesconditions use saleprivacy noticeinterest based ad amazon com inc affiliate', 'amazon online shopping india buy mobile laptop camera book watch apparel shoe e gift card free shipping cash delivery available', 'http medium amazon com image g social share amazon logo cb png http medium amazon com image g gno sprite nav sprite global x reorg celnav cb png http medium amazon com image g event pd gw swm x launch v cb jpg http medium amazon com image id jjpm l sx jpg http image eu ssl image amazon com image g img beauty gw desktop make cc desktop x sy cb jpg http image eu ssl image amazon com image g gateway event jupiterfallback jupiter bau pc top card fashion x sy cb jpg http image eu ssl image amazon com image g gateway event jupiterfallback jupiter bau pc top card home x sy cb jpg http image eu ssl image amazon com image g img amazondevices neel march x sy cb jpg http image eu ssl image amazon com image g gateway event jupiterfallback jupiter bau pc top card grocery x sy cb jpg http image eu ssl image amazon com image g img cepc covid v cepc contingency covid gw april rush dbqc x sy cb jpg http image eu ssl image amazon com image g img cepc covid v cepc contingency covid gw april rush dbqc x sy cb jpg http image eu ssl image amazon com image g img cepc covid v cepc contingency covid gw april rush dbqc x sy cb jpg http image eu ssl image amazon com image g img cepc covid v cepc contingency covid gw april rush dbqc x sy cb jpg http image eu ssl image amazon com image g img home bau gwpc xcm manual x x bd eee f e e e f f jpg lower ql sy cb jpg http image eu ssl image amazon com image g img home bau gwpc xcm manual x x e dc fca f jpg lower ql sy cb jpg http image eu ssl image amazon com image g img home bau gwpc xcm manual x x ccc f ea cfb f e jpg lower ql sy cb jpg http image eu ssl image amazon com image g img home bau gwpc xcm manual x x bc e dc aa aae fd dacd f jpg lower ql sy cb jpg http image eu ssl image amazon com image g img amazonlaunchpad gateway june dhyana sy cb jpg http medium amazon com image g personalization ybh loading x gray cb gif', 'ref nav logo customer preference edit ie utf preferencesreturnurl f ref topnav lang www amazon ap signin openid pape max auth age openid return http f fwww amazon f f encoding dutf ref dnav ya signin openid identity http f fspecs openid net fauth f fidentifier select openid assoc handle inflex openid mode checkid setup openid claimed id http f fspecs openid net fauth f fidentifier select openid n http f fspecs openid net fauth f gp cs order history ref nav order first www amazon gp cart view html ref nav cart gp site directory ref nav em j disabled minitv ref nav avod desktop topnav b node ld azinsoanavdesktop ref nav c sell gp bestseller ref nav c bestseller mobile phone b ie utf node ref nav c mobile deal ref nav c gb gp help customer display html nodeid ref nav c help gp new release ref nav c newreleases prime ref nav c primelink nonmember electronics b ie utf node ref nav c electronics home kitchen b ie utf node ref nav c home gp sva dashboard ref nav c apay gcx gfhz ref nav c giftfinder gp browse html node ref nav c fashion computer accessory b ie utf node ref nav c pc book b ie utf node ref nav c book amazon coupon b encoding utf node ref nav c coupon beauty b ie utf node ref nav c beauty toy game b ie utf node ref nav c toy sport b ie utf node ref nav c sport car motorbike store b ie utf node ref nav c automotive home improvement b ie utf node ref nav c hi gourmet specialty food b ie utf node ref nav c grocery gift card store b ie utf node ref nav c gc health personal care b ie utf node ref nav c hpc baby b ie utf node ref nav c baby video game b ie utf node ref nav c video game pet supply b ie utf node ref nav c pet auto delivery landing ref nav c sn audible book original b ie utf node ref nav c audible b node ref nav c amazonbasics kindle ebooks b ie utf node ref nav c kindle book l encoding utf ref nav swm swm gd pf rd p e b bf f e df pf rd nav sitewide msg pf rd pf rd navbar pf rd tjruun kgv pf rd r jh rgfb zcsrq  b encoding utf node  b node b node b node b node b node b node hidden keywords b kthkk cb w q cb jd j cb j fgq cb hnp z cb yhvmk cb qqzzjk cb frjtz cb z cb xdbnscp cb c l vc ref nb sb no hidden keywords b kthkk cb w q cb jd j cb j fgq cb hnp z cb yhvmk cb qqzzjk cb frjtz cb z cb xdbnscp cb c l vc ref nb sb no b node b node b node b node b node b ie utf node b node b node b node b node b node b node b node ref inalgw b node ref inalgw gp history gp history  www aboutamazon utm source gateway utm medium footer amazon job press aboutamazon utm source gateway utm medium footer www amazon science www amazon gp redirect html ref footer fb location www facebook com amazonin token eac bb e fd e www amazon gp redirect html ref footer twitter location twitter com amazonin token dfbfcb e ff dc f b www amazon gp redirect html location www instagram com amazondotin token c e cb b f e df bfc source standard b node ld azinsoanavdesktopfooter c ref nav footer sell c accelerator amazon ref map b b gw ft brandservices amazon ref aoinabrlgnrfoot ld aoinabrlgnrfoot sell amazon grow business amazon global selling html ld azin footer v ref azin footer v affiliate program amazon utm campaign assocshowcase utm medium footer utm source gw ref footer assoc service amazon service fulfilment amazon benefit html ref az footer fba ld awrginfbafooter advertising amazon ref amz www amazonpay merchant gp help customer display html nodeid gdfu j al syhrd ref footer covid gp cs homepage html ref footer ya gp cs return homepage html ref footer hy f gp help customer display html nodeid ref footer swc gp browse html node ref footer mobapp gp help customer display html nodeid ref footer gw b ref footer logo customer preference edit ie utf preferencesreturnurl f ref footer lang www amazon com au ref footer au www amazon com br ref footer br www amazon ca ref footer ca www amazon cn ref footer cn www amazon fr ref footer fr www amazon de ref footer de www amazon ref footer www amazon co jp ref footer jp www amazon com mx ref footer mx www amazon nl ref footer nl www amazon pl ref footer pl www amazon sg ref footer sg www amazon e ref footer e www amazon com tr ref footer tr www amazon ae ref footer ae www amazon co uk ref footer uk www amazon com ref footer u www abebooks com aws amazon com cloud computing sc channel el sc campaign amazonfooter www audible www dpreview com www imdb com www shopbop com business ref footer aingw ref footer amznow music prime ref footer apm gp help customer display html nodeid ref footer cou gp help customer display html nodeid ref footer privacy gp help customer display html nodeid ref footer iba'], 'POS Tags': [['https', 'NN'], [':', ':'], ['//www.amazon.in/', 'NN'], ['online', 'NN'], ['shopping', 'NN'], ['site', 'NN'], ['india', 'NN'], ['shop', 'NN'], ['online', 'VBP'], ['mobile', 'JJ'], ['book', 'NN'], ['watch', 'NN'], ['shoe', 'NN'], ['amazon', 'NN'], ['inskip', 'NN'], ['main', 'JJ'], ['content', 'NN'], ['inhelloselect', 'NN'], ['addressallselect', 'VBP'], ['department', 'NN'], ['want', 'VBP'], ['search', 'NN'], ['inall', 'NN'], ['categoriesalexa', 'NN'], ['skillsamazon', 'NN'], ['devicesamazon', 'NN'], ['fashionamazon', 'NN'], ['freshamazon', 'NN'], ['pharmacyappliancesapps', 'NN'], ['gamesbabybeautybookscar', 'NN'], ['motorbikeclothing', 'VBG'], ['accessoriescollectiblescomputers', 'NNS'], ['accessorieselectronicsfurnituregarden', 'JJ'], ['outdoorsgift', 'NN'], ['cardsgrocery', 'NN'], ['gourmet', 'NN'], ['foodshealth', 'NN'], ['personal', 'JJ'], ['carehome', 'NN'], ['kitchenindustrial', 'JJ'], ['scientificjewellerykindle', 'JJ'], ['storeluggage', 'NN'], ['bagsluxury', 'NN'], ['beautymovies', 'NNS'], ['tv', 'VBP'], ['showsmusicmusical', 'JJ'], ['instrumentsoffice', 'NN'], ['productspet', 'NN'], ['suppliesprime', 'NN'], ['videoshoes', 'NNS'], ['handbagssoftwaresports', 'VBZ'], ['fitness', 'NN'], ['outdoorssubscribe', 'NN'], ['savetools', 'VBZ'], ['home', 'NN'], ['improvementtoys', 'NNS'], ['gamesunder', 'VBP'], ['video', 'NN'], ['gameswatchessearch', 'NN'], ['amazon', 'NN'], ['inenhello', 'JJ'], ['sign', 'NN'], ['inaccount', 'NN'], ['listsreturns', 'VBZ'], ['orderscartallamazon', 'JJ'], ['minitvsellbest', 'JJS'], ['sellersmobilestoday', 'JJ'], ['dealscustomer', 'NN'], ['servicenew', 'VBD'], ['releasesprimeelectronicshome', 'JJ'], ['kitchenamazon', 'NN'], ['paygift', 'NN'], ['ideasfashioncomputersbookscouponsbeauty', 'JJ'], ['personal', 'JJ'], ['caretoys', 'NNS'], ['gamessports', 'NNS'], ['fitness', 'NN'], ['outdoorscar', 'NN'], ['motorbikehome', 'JJ'], ['improvementgrocery', 'NN'], ['gourmet', 'NN'], ['foodsgift', 'NN'], ['cardshealth', 'NN'], ['household', 'VBD'], ['personal', 'JJ'], ['carebabyvideo', 'NN'], ['gamespet', 'NN'], ['suppliessubscribe', 'NN'], ['saveaudibleamazonbasicskindle', 'VBP'], ['ebooksprevious', 'JJ'], ['slidenext', 'JJ'], ['slidemakeup', 'NN'], ['productssee', 'VBP'], ['morenew', 'JJ'], ['look', 'VBP'], ['new', 'JJ'], ['seasonshop', 'NN'], ['fashiondo', 'NN'], ['homesee', 'VBP'], ['moresmart', 'JJ'], ['gadget', 'NN'], ['amazonshop', 'NN'], ['nowvalue', 'JJ'], ['bazaarshop', 'NN'], ['daily', 'JJ'], ['essentialswork', 'NN'], ['home', 'NN'], ['essentialsrouterslaptopskeyboards', 'NNS'], ['mouse', 'VBP'], ['moreheadphonessee', 'NN'], ['morerevamp', 'NN'], ['home', 'NN'], ['stylebedsheets', 'NNS'], ['curtain', 'VBP'], ['morehome', 'JJ'], ['decorationhome', 'NN'], ['storagelighting', 'VBG'], ['solutionsexplore', 'NN'], ['allinnovations', 'NNS'], ['emerging', 'VBG'], ['indian', 'JJ'], ['brandsexplore', 'RB'], ['startupsyour', 'VBP'], ['recently', 'RB'], ['viewed', 'VBN'], ['item', 'NN'], ['featured', 'JJ'], ['recommendation', 'NN'], ['view', 'NN'], ['edit', 'NN'], ['browsing', 'VBG'], ['historyafter', 'NN'], ['viewing', 'VBG'], ['product', 'NN'], ['detail', 'NN'], ['page', 'NN'], ['look', 'NN'], ['find', 'VBP'], ['easy', 'JJ'], ['way', 'NN'], ['navigate', 'JJ'], ['back', 'RB'], ['page', 'NN'], ['interested', 'JJ'], ['recently', 'RB'], ['viewed', 'VBN'], ['item', 'NN'], ['featured', 'JJ'], ['recommendation', 'NN'], ['view', 'NN'], ['edit', 'NN'], ['browsing', 'VBG'], ['historyafter', 'NN'], ['viewing', 'VBG'], ['product', 'NN'], ['detail', 'NN'], ['page', 'NN'], ['look', 'NN'], ['find', 'VBP'], ['easy', 'JJ'], ['way', 'NN'], ['navigate', 'JJ'], ['back', 'RB'], ['page', 'NN'], ['interested', 'JJ'], ['back', 'RB'], ['topget', 'NN'], ['know', 'VBP'], ['usabout', 'IN'], ['uscareerspress', 'JJ'], ['releasesamazon', 'NN'], ['scienceconnect', 'JJ'], ['usfacebooktwitterinstagrammake', 'JJ'], ['money', 'NN'], ['ussell', 'NN'], ['amazonsell', 'RB'], ['amazon', 'RB'], ['acceleratorprotect', 'JJ'], ['build', 'NN'], ['brandamazon', 'NN'], ['global', 'JJ'], ['sellingbecome', 'JJ'], ['affiliatefulfilment', 'NN'], ['amazonadvertise', 'NN'], ['productsamazon', 'NN'], ['pay', 'NN'], ['merchantslet', 'NN'], ['u', 'JJ'], ['help', 'NN'], ['youcovid', 'VB'], ['amazonyour', 'JJ'], ['accountreturns', 'NNS'], ['centre', 'JJ'], ['purchase', 'NN'], ['protectionamazon', 'NN'], ['app', 'RB'], ['downloadhelpenglishaustraliabrazilcanadachinafrancegermanyitalyjapanmexiconetherlandspolandsingaporespainturkeyunited', 'VBD'], ['arab', 'JJ'], ['emiratesunited', 'VBN'], ['kingdomunited', 'VBD'], ['statesabebooksbooks', 'JJ'], ['art', 'NN'], ['collectiblesamazon', 'NN'], ['web', 'NN'], ['servicesscalable', 'JJ'], ['cloudcomputing', 'NN'], ['servicesaudibledownloadaudio', 'NN'], ['booksdpreviewdigitalphotographyimdbmovies', 'NNS'], ['tv', 'VBP'], ['celebritiesshopbopdesignerfashion', 'NN'], ['brandsamazon', 'NN'], ['businesseverything', 'VBG'], ['foryour', 'JJ'], ['businessprime', 'JJ'], ['hour', 'NN'], ['deliveryon', 'NN'], ['everyday', 'JJ'], ['itemsamazon', 'JJ'], ['prime', 'JJ'], ['music', 'NN'], ['million', 'CD'], ['song', 'NN'], ['ad', 'NN'], ['freeover', 'NN'], ['million', 'CD'], ['podcast', 'NN'], ['episodesconditions', 'NNS'], ['use', 'VBP'], ['saleprivacy', 'NN'], ['noticeinterest', 'JJS'], ['based', 'VBN'], ['ad', 'NN'], ['amazon', 'NN'], ['com', 'NN'], ['inc', 'NN'], ['affiliate', 'NN'], ['amazon', 'JJ'], ['online', 'NN'], ['shopping', 'NN'], ['india', 'JJ'], ['buy', 'NN'], ['mobile', 'JJ'], ['laptop', 'JJ'], ['camera', 'NN'], ['book', 'NN'], ['watch', 'NN'], ['apparel', 'NN'], ['shoe', 'NN'], ['e', 'VBP'], ['gift', 'NN'], ['card', 'NN'], ['free', 'JJ'], ['shipping', 'NN'], ['cash', 'NN'], ['delivery', 'NN'], ['available', 'JJ'], ['http', 'NN'], ['medium', 'NN'], ['amazon', 'NN'], ['com', 'NN'], ['image', 'NN'], ['g', 'NN'], ['social', 'JJ'], ['share', 'NN'], ['amazon', 'JJ'], ['logo', 'NN'], ['cb', 'NN'], ['png', 'NN'], ['http', 'NN'], ['medium', 'NN'], ['amazon', 'NN'], ['com', 'NN'], ['image', 'NN'], ['g', 'NN'], ['gno', 'VBZ'], ['sprite', 'JJ'], ['nav', 'JJ'], ['sprite', 'NN'], ['global', 'JJ'], ['x', 'NN'], ['reorg', 'NN'], ['celnav', 'NN'], ['cb', 'NN'], ['png', 'NN'], ['http', 'NN'], ['medium', 'NN'], ['amazon', 'NN'], ['com', 'NN'], ['image', 'NN'], ['g', 'JJ'], ['event', 'NN'], ['pd', 'NN'], ['gw', 'NN'], ['swm', 'NN'], ['x', 'NNP'], ['launch', 'NN'], ['v', 'NN'], ['cb', 'NN'], ['jpg', 'NN'], ['http', 'NN'], ['medium', 'NN'], ['amazon', 'NN'], ['com', 'NN'], ['image', 'NN'], ['id', 'NN'], ['jjpm', 'NN'], ['l', 'NN'], ['sx', 'NN'], ['jpg', 'NN'], ['http', 'NN'], ['image', 'NN'], ['eu', 'NN'], ['ssl', 'JJ'], ['image', 'NN'], ['amazon', 'NN'], ['com', 'JJ'], ['image', 'NN'], ['g', 'NN'], ['img', 'JJ'], ['beauty', 'NN'], ['gw', 'NN'], ['desktop', 'NN'], ['make', 'VBP'], ['cc', 'NN'], ['desktop', 'NN'], ['x', 'NNP'], ['sy', 'NN'], ['cb', 'NN'], ['jpg', 'NN'], ['http', 'NN'], ['image', 'NN'], ['eu', 'NN'], ['ssl', 'JJ'], ['image', 'NN'], ['amazon', 'NN'], ['com', 'JJ'], ['image', 'NN'], ['g', 'NN'], ['gateway', 'JJ'], ['event', 'NN'], ['jupiterfallback', 'NN'], ['jupiter', 'NN'], ['bau', 'JJ'], ['pc', 'NN'], ['top', 'JJ'], ['card', 'NN'], ['fashion', 'NN'], ['x', 'NNP'], ['sy', 'NN'], ['cb', 'NN'], ['jpg', 'NN'], ['http', 'NN'], ['image', 'NN'], ['eu', 'NN'], ['ssl', 'JJ'], ['image', 'NN'], ['amazon', 'NN'], ['com', 'JJ'], ['image', 'NN'], ['g', 'NN'], ['gateway', 'JJ'], ['event', 'NN'], ['jupiterfallback', 'NN'], ['jupiter', 'NN'], ['bau', 'JJ'], ['pc', 'NN'], ['top', 'JJ'], ['card', 'NN'], ['home', 'NN'], ['x', 'NNP'], ['sy', 'NN'], ['cb', 'NN'], ['jpg', 'NN'], ['http', 'NN'], ['image', 'NN'], ['eu', 'NN'], ['ssl', 'JJ'], ['image', 'NN'], ['amazon', 'NN'], ['com', 'JJ'], ['image', 'NN'], ['g', 'NN'], ['img', 'NN'], ['amazondevices', 'NNS'], ['neel', 'VBP'], ['march', 'JJ'], ['x', 'NNP'], ['sy', 'NN'], ['cb', 'NN'], ['jpg', 'NN'], ['http', 'NN'], ['image', 'NN'], ['eu', 'NN'], ['ssl', 'JJ'], ['image', 'NN'], ['amazon', 'NN'], ['com', 'JJ'], ['image', 'NN'], ['g', 'NN'], ['gateway', 'JJ'], ['event', 'NN'], ['jupiterfallback', 'NN'], ['jupiter', 'NN'], ['bau', 'JJ'], ['pc', 'NN'], ['top', 'JJ'], ['card', 'NN'], ['grocery', 'NN'], ['x', 'NNP'], ['sy', 'NN'], ['cb', 'NN'], ['jpg', 'NN'], ['http', 'NN'], ['image', 'NN'], ['eu', 'NN'], ['ssl', 'JJ'], ['image', 'NN'], ['amazon', 'NN'], ['com', 'JJ'], ['image', 'NN'], ['g', 'NN'], ['img', 'NN'], ['cepc', 'NN'], ['covid', 'NN'], ['v', 'NN'], ['cepc', 'NN'], ['contingency', 'NN'], ['covid', 'NN'], ['gw', 'NN'], ['april', 'NN'], ['rush', 'NN'], ['dbqc', 'NN'], ['x', 'NNP'], ['sy', 'NN'], ['cb', 'NN'], ['jpg', 'NN'], ['http', 'NN'], ['image', 'NN'], ['eu', 'NN'], ['ssl', 'JJ'], ['image', 'NN'], ['amazon', 'NN'], ['com', 'JJ'], ['image', 'NN'], ['g', 'NN'], ['img', 'NN'], ['cepc', 'NN'], ['covid', 'NN'], ['v', 'NN'], ['cepc', 'NN'], ['contingency', 'NN'], ['covid', 'NN'], ['gw', 'NN'], ['april', 'NN'], ['rush', 'NN'], ['dbqc', 'NN'], ['x', 'NNP'], ['sy', 'NN'], ['cb', 'NN'], ['jpg', 'NN'], ['http', 'NN'], ['image', 'NN'], ['eu', 'NN'], ['ssl', 'JJ'], ['image', 'NN'], ['amazon', 'NN'], ['com', 'JJ'], ['image', 'NN'], ['g', 'NN'], ['img', 'NN'], ['cepc', 'NN'], ['covid', 'NN'], ['v', 'NN'], ['cepc', 'NN'], ['contingency', 'NN'], ['covid', 'NN'], ['gw', 'NN'], ['april', 'NN'], ['rush', 'NN'], ['dbqc', 'NN'], ['x', 'NNP'], ['sy', 'NN'], ['cb', 'NN'], ['jpg', 'NN'], ['http', 'NN'], ['image', 'NN'], ['eu', 'NN'], ['ssl', 'JJ'], ['image', 'NN'], ['amazon', 'NN'], ['com', 'JJ'], ['image', 'NN'], ['g', 'NN'], ['img', 'NN'], ['cepc', 'NN'], ['covid', 'NN'], ['v', 'NN'], ['cepc', 'NN'], ['contingency', 'NN'], ['covid', 'NN'], ['gw', 'NN'], ['april', 'NN'], ['rush', 'NN'], ['dbqc', 'NN'], ['x', 'NNP'], ['sy', 'NN'], ['cb', 'NN'], ['jpg', 'NN'], ['http', 'NN'], ['image', 'NN'], ['eu', 'NN'], ['ssl', 'JJ'], ['image', 'NN'], ['amazon', 'NN'], ['com', 'JJ'], ['image', 'NN'], ['g', 'NN'], ['img', 'VBZ'], ['home', 'NN'], ['bau', 'NN'], ['gwpc', 'NN'], ['xcm', 'NNP'], ['manual', 'JJ'], ['x', 'NNP'], ['x', 'NNP'], ['bd', 'VBD'], ['eee', 'JJ'], ['f', 'JJ'], ['e', 'NN'], ['e', 'NN'], ['e', 'NN'], ['f', 'NN'], ['f', 'NN'], ['jpg', 'NN'], ['lower', 'RBR'], ['ql', 'NN'], ['sy', 'JJ'], ['cb', 'NN'], ['jpg', 'NN'], ['http', 'NN'], ['image', 'NN'], ['eu', 'NN'], ['ssl', 'JJ'], ['image', 'NN'], ['amazon', 'NN'], ['com', 'JJ'], ['image', 'NN'], ['g', 'NN'], ['img', 'VBZ'], ['home', 'NN'], ['bau', 'NN'], ['gwpc', 'NN'], ['xcm', 'NNP'], ['manual', 'JJ'], ['x', 'NNP'], ['x', 'NNP'], ['e', 'VBZ'], ['dc', 'JJ'], ['fca', 'NN'], ['f', 'NN'], ['jpg', 'NN'], ['lower', 'RBR'], ['ql', 'NN'], ['sy', 'JJ'], ['cb', 'NN'], ['jpg', 'NN'], ['http', 'NN'], ['image', 'NN'], ['eu', 'NN'], ['ssl', 'JJ'], ['image', 'NN'], ['amazon', 'NN'], ['com', 'JJ'], ['image', 'NN'], ['g', 'NN'], ['img', 'VBZ'], ['home', 'NN'], ['bau', 'NN'], ['gwpc', 'NN'], ['xcm', 'NNP'], ['manual', 'JJ'], ['x', 'NNP'], ['x', 'NNP'], ['ccc', 'NN'], ['f', 'NN'], ['ea', 'NN'], ['cfb', 'NN'], ['f', 'NN'], ['e', 'NN'], ['jpg', 'NN'], ['lower', 'RBR'], ['ql', 'NN'], ['sy', 'JJ'], ['cb', 'NN'], ['jpg', 'NN'], ['http', 'NN'], ['image', 'NN'], ['eu', 'NN'], ['ssl', 'JJ'], ['image', 'NN'], ['amazon', 'NN'], ['com', 'JJ'], ['image', 'NN'], ['g', 'NN'], ['img', 'VBZ'], ['home', 'NN'], ['bau', 'NN'], ['gwpc', 'NN'], ['xcm', 'NNP'], ['manual', 'JJ'], ['x', 'NNP'], ['x', 'NNP'], ['bc', 'VBD'], ['e', 'JJ'], ['dc', 'NN'], ['aa', 'NN'], ['aae', 'NN'], ['fd', 'NN'], ['dacd', 'NN'], ['f', 'NN'], ['jpg', 'NN'], ['lower', 'RBR'], ['ql', 'NN'], ['sy', 'JJ'], ['cb', 'NN'], ['jpg', 'NN'], ['http', 'NN'], ['image', 'NN'], ['eu', 'NN'], ['ssl', 'JJ'], ['image', 'NN'], ['amazon', 'NN'], ['com', 'JJ'], ['image', 'NN'], ['g', 'NN'], ['img', 'NN'], ['amazonlaunchpad', 'VBZ'], ['gateway', 'RB'], ['june', 'JJ'], ['dhyana', 'NNS'], ['sy', 'VBP'], ['cb', 'JJ'], ['jpg', 'NN'], ['http', 'NN'], ['medium', 'NN'], ['amazon', 'NN'], ['com', 'NN'], ['image', 'NN'], ['g', 'JJ'], ['personalization', 'NN'], ['ybh', 'NN'], ['loading', 'VBG'], ['x', 'JJ'], ['gray', 'JJ'], ['cb', 'NN'], ['gif', 'NN'], ['ref', 'NN'], ['nav', 'NN'], ['logo', 'NN'], ['customer', 'NN'], ['preference', 'NN'], ['edit', 'NN'], ['ie', 'NN'], ['utf', 'JJ'], ['preferencesreturnurl', 'NN'], ['f', 'NN'], ['ref', 'NN'], ['topnav', 'NN'], ['lang', 'NN'], ['www', 'VBD'], ['amazon', 'JJ'], ['ap', 'JJ'], ['signin', 'NN'], ['openid', 'NN'], ['pape', 'NN'], ['max', 'NN'], ['auth', 'NN'], ['age', 'NN'], ['openid', 'JJ'], ['return', 'NN'], ['http', 'NN'], ['f', 'NN'], ['fwww', 'NN'], ['amazon', 'NN'], ['f', 'NN'], ['f', 'NN'], ['encoding', 'VBG'], ['dutf', 'JJ'], ['ref', 'NN'], ['dnav', 'NN'], ['ya', 'NN'], ['signin', 'NN'], ['openid', 'NN'], ['identity', 'NN'], ['http', 'NN'], ['f', 'NN'], ['fspecs', 'JJ'], ['openid', 'JJ'], ['net', 'JJ'], ['fauth', 'NN'], ['f', 'NN'], ['fidentifier', 'NN'], ['select', 'JJ'], ['openid', 'JJ'], ['assoc', 'NN'], ['handle', 'NN'], ['inflex', 'JJ'], ['openid', 'NN'], ['mode', 'NN'], ['checkid', 'NN'], ['setup', 'NN'], ['openid', 'NN'], ['claimed', 'VBD'], ['id', 'JJ'], ['http', 'NN'], ['f', 'NN'], ['fspecs', 'JJ'], ['openid', 'JJ'], ['net', 'JJ'], ['fauth', 'NN'], ['f', 'NN'], ['fidentifier', 'NN'], ['select', 'JJ'], ['openid', 'NN'], ['n', 'JJ'], ['http', 'NN'], ['f', 'NN'], ['fspecs', 'JJ'], ['openid', 'JJ'], ['net', 'JJ'], ['fauth', 'NN'], ['f', 'NN'], ['gp', 'NN'], ['cs', 'NN'], ['order', 'NN'], ['history', 'NN'], ['ref', 'NN'], ['nav', 'NN'], ['order', 'NN'], ['first', 'RB'], ['www', 'VBZ'], ['amazon', 'JJ'], ['gp', 'JJ'], ['cart', 'NN'], ['view', 'NN'], ['html', 'VBP'], ['ref', 'NN'], ['nav', 'JJ'], ['cart', 'NN'], ['gp', 'NN'], ['site', 'NN'], ['directory', 'NN'], ['ref', 'NN'], ['nav', 'JJ'], ['em', 'NN'], ['j', 'NN'], ['disabled', 'VBD'], ['minitv', 'JJ'], ['ref', 'NN'], ['nav', 'NN'], ['avod', 'NN'], ['desktop', 'NN'], ['topnav', 'NN'], ['b', 'NN'], ['node', 'NN'], ['ld', 'NN'], ['azinsoanavdesktop', 'JJ'], ['ref', 'NN'], ['nav', 'JJ'], ['c', 'NN'], ['sell', 'NN'], ['gp', 'JJ'], ['bestseller', 'NN'], ['ref', 'NN'], ['nav', 'JJ'], ['c', 'NN'], ['bestseller', 'NN'], ['mobile', 'IN'], ['phone', 'NN'], ['b', 'NN'], ['ie', 'NN'], ['utf', 'JJ'], ['node', 'NN'], ['ref', 'NN'], ['nav', 'JJ'], ['c', 'NN'], ['mobile', 'JJ'], ['deal', 'NN'], ['ref', 'NN'], ['nav', 'NN'], ['c', 'NN'], ['gb', 'NN'], ['gp', 'NN'], ['help', 'NN'], ['customer', 'NN'], ['display', 'NN'], ['html', 'NN'], ['nodeid', 'JJ'], ['ref', 'NN'], ['nav', 'NN'], ['c', 'NN'], ['help', 'NN'], ['gp', 'VB'], ['new', 'JJ'], ['release', 'NN'], ['ref', 'NN'], ['nav', 'JJ'], ['c', 'NN'], ['newreleases', 'NNS'], ['prime', 'JJ'], ['ref', 'JJ'], ['nav', 'NN'], ['c', 'NN'], ['primelink', 'VBP'], ['nonmember', 'IN'], ['electronics', 'NNS'], ['b', 'VBP'], ['ie', 'JJ'], ['utf', 'JJ'], ['node', 'NN'], ['ref', 'NN'], ['nav', 'JJ'], ['c', 'NN'], ['electronics', 'NNS'], ['home', 'NN'], ['kitchen', 'NN'], ['b', 'NN'], ['ie', 'NN'], ['utf', 'JJ'], ['node', 'NN'], ['ref', 'NN'], ['nav', 'JJ'], ['c', 'NN'], ['home', 'NN'], ['gp', 'NN'], ['sva', 'JJ'], ['dashboard', 'NN'], ['ref', 'NN'], ['nav', 'JJ'], ['c', 'JJ'], ['apay', 'NN'], ['gcx', 'NN'], ['gfhz', 'NN'], ['ref', 'NN'], ['nav', 'JJ'], ['c', 'NN'], ['giftfinder', 'NN'], ['gp', 'NN'], ['browse', 'NN'], ['html', 'NN'], ['node', 'NN'], ['ref', 'NN'], ['nav', 'JJ'], ['c', 'NN'], ['fashion', 'NN'], ['computer', 'NN'], ['accessory', 'NN'], ['b', 'NN'], ['ie', 'NN'], ['utf', 'JJ'], ['node', 'NN'], ['ref', 'NN'], ['nav', 'JJ'], ['c', 'JJ'], ['pc', 'NN'], ['book', 'NN'], ['b', 'NN'], ['ie', 'NN'], ['utf', 'JJ'], ['node', 'NN'], ['ref', 'NN'], ['nav', 'JJ'], ['c', 'JJ'], ['book', 'NN'], ['amazon', 'NN'], ['coupon', 'NN'], ['b', 'NN'], ['encoding', 'VBG'], ['utf', 'JJ'], ['node', 'JJ'], ['ref', 'NN'], ['nav', 'JJ'], ['c', 'NN'], ['coupon', 'NN'], ['beauty', 'NN'], ['b', 'NN'], ['ie', 'NN'], ['utf', 'JJ'], ['node', 'NN'], ['ref', 'NN'], ['nav', 'JJ'], ['c', 'JJ'], ['beauty', 'NN'], ['toy', 'NN'], ['game', 'NN'], ['b', 'NN'], ['ie', 'NN'], ['utf', 'JJ'], ['node', 'NN'], ['ref', 'NN'], ['nav', 'JJ'], ['c', 'NN'], ['toy', 'NN'], ['sport', 'NN'], ['b', 'NN'], ['ie', 'NN'], ['utf', 'JJ'], ['node', 'NN'], ['ref', 'NN'], ['nav', 'JJ'], ['c', 'NN'], ['sport', 'NN'], ['car', 'NN'], ['motorbike', 'NN'], ['store', 'NN'], ['b', 'NN'], ['ie', 'NN'], ['utf', 'JJ'], ['node', 'NN'], ['ref', 'NN'], ['nav', 'JJ'], ['c', 'JJ'], ['automotive', 'JJ'], ['home', 'NN'], ['improvement', 'NN'], ['b', 'NN'], ['ie', 'NN'], ['utf', 'JJ'], ['node', 'NN'], ['ref', 'NN'], ['nav', 'JJ'], ['c', 'NN'], ['hi', 'NN'], ['gourmet', 'VBD'], ['specialty', 'NN'], ['food', 'NN'], ['b', 'NN'], ['ie', 'NN'], ['utf', 'JJ'], ['node', 'NN'], ['ref', 'NN'], ['nav', 'JJ'], ['c', 'JJ'], ['grocery', 'NN'], ['gift', 'NN'], ['card', 'NN'], ['store', 'NN'], ['b', 'NN'], ['ie', 'NN'], ['utf', 'JJ'], ['node', 'NN'], ['ref', 'NN'], ['nav', 'JJ'], ['c', 'JJ'], ['gc', 'NN'], ['health', 'NN'], ['personal', 'JJ'], ['care', 'NN'], ['b', 'NN'], ['ie', 'NN'], ['utf', 'JJ'], ['node', 'NN'], ['ref', 'NN'], ['nav', 'JJ'], ['c', 'NN'], ['hpc', 'NN'], ['baby', 'NN'], ['b', 'NN'], ['ie', 'NN'], ['utf', 'JJ'], ['node', 'NN'], ['ref', 'NN'], ['nav', 'JJ'], ['c', 'NN'], ['baby', 'NN'], ['video', 'NN'], ['game', 'NN'], ['b', 'NN'], ['ie', 'NN'], ['utf', 'JJ'], ['node', 'NN'], ['ref', 'NN'], ['nav', 'JJ'], ['c', 'NN'], ['video', 'NN'], ['game', 'NN'], ['pet', 'NN'], ['supply', 'NN'], ['b', 'NN'], ['ie', 'NN'], ['utf', 'JJ'], ['node', 'NN'], ['ref', 'NN'], ['nav', 'JJ'], ['c', 'NN'], ['pet', 'JJ'], ['auto', 'NN'], ['delivery', 'NN'], ['landing', 'VBG'], ['ref', 'NN'], ['nav', 'JJ'], ['c', 'NN'], ['sn', 'NN'], ['audible', 'JJ'], ['book', 'NN'], ['original', 'JJ'], ['b', 'NN'], ['ie', 'NN'], ['utf', 'JJ'], ['node', 'NN'], ['ref', 'NN'], ['nav', 'JJ'], ['c', 'NN'], ['audible', 'JJ'], ['b', 'NN'], ['node', 'NN'], ['ref', 'NN'], ['nav', 'JJ'], ['c', 'NN'], ['amazonbasics', 'NNS'], ['kindle', 'VBP'], ['ebooks', 'VBZ'], ['b', 'JJ'], ['ie', 'NN'], ['utf', 'JJ'], ['node', 'NN'], ['ref', 'NN'], ['nav', 'JJ'], ['c', 'NN'], ['kindle', 'VB'], ['book', 'NN'], ['l', 'NN'], ['encoding', 'VBG'], ['utf', 'JJ'], ['ref', 'NN'], ['nav', 'NN'], ['swm', 'NN'], ['swm', 'NN'], ['gd', 'NN'], ['pf', 'NN'], ['rd', 'NN'], ['p', 'NN'], ['e', 'NN'], ['b', 'NN'], ['bf', 'NN'], ['f', 'NN'], ['e', 'NN'], ['df', 'NN'], ['pf', 'NN'], ['rd', 'NN'], ['nav', 'JJ'], ['sitewide', 'NN'], ['msg', 'NN'], ['pf', 'NN'], ['rd', 'NN'], ['pf', 'NN'], ['rd', 'NN'], ['navbar', 'NN'], ['pf', 'NN'], ['rd', 'NN'], ['tjruun', 'NN'], ['kgv', 'NN'], ['pf', 'NN'], ['rd', 'NN'], ['r', 'NN'], ['jh', 'NN'], ['rgfb', 'NN'], ['zcsrq', 'NN'], ['b', 'NN'], ['encoding', 'VBG'], ['utf', 'JJ'], ['node', 'NN'], ['b', 'NN'], ['node', 'NN'], ['b', 'NN'], ['node', 'NN'], ['b', 'NN'], ['node', 'NN'], ['b', 'NN'], ['node', 'NN'], ['b', 'NN'], ['node', 'NN'], ['b', 'NN'], ['node', 'NN'], ['hidden', 'NN'], ['keywords', 'NNS'], ['b', 'VBP'], ['kthkk', 'NN'], ['cb', 'NN'], ['w', 'NN'], ['q', 'NN'], ['cb', 'NN'], ['jd', 'NN'], ['j', 'NN'], ['cb', 'NN'], ['j', 'NN'], ['fgq', 'NN'], ['cb', 'NN'], ['hnp', 'NN'], ['z', 'NN'], ['cb', 'NN'], ['yhvmk', 'NN'], ['cb', 'NN'], ['qqzzjk', 'NN'], ['cb', 'NN'], ['frjtz', 'NN'], ['cb', 'NN'], ['z', 'NN'], ['cb', 'NN'], ['xdbnscp', 'NNP'], ['cb', 'NN'], ['c', 'NN'], ['l', 'NN'], ['vc', 'NN'], ['ref', 'NN'], ['nb', 'JJ'], ['sb', 'NN'], ['no', 'DT'], ['hidden', 'JJ'], ['keywords', 'NNS'], ['b', 'VBP'], ['kthkk', 'NN'], ['cb', 'NN'], ['w', 'NN'], ['q', 'NN'], ['cb', 'NN'], ['jd', 'NN'], ['j', 'NN'], ['cb', 'NN'], ['j', 'NN'], ['fgq', 'NN'], ['cb', 'NN'], ['hnp', 'NN'], ['z', 'NN'], ['cb', 'NN'], ['yhvmk', 'NN'], ['cb', 'NN'], ['qqzzjk', 'NN'], ['cb', 'NN'], ['frjtz', 'NN'], ['cb', 'NN'], ['z', 'NN'], ['cb', 'NN'], ['xdbnscp', 'NNP'], ['cb', 'NN'], ['c', 'NN'], ['l', 'NN'], ['vc', 'NN'], ['ref', 'NN'], ['nb', 'JJ'], ['sb', 'NN'], ['no', 'DT'], ['b', 'NN'], ['node', 'NN'], ['b', 'NN'], ['node', 'NN'], ['b', 'NN'], ['node', 'NN'], ['b', 'NN'], ['node', 'NN'], ['b', 'NN'], ['node', 'NN'], ['b', 'NN'], ['ie', 'NN'], ['utf', 'JJ'], ['node', 'NN'], ['b', 'NN'], ['node', 'NN'], ['b', 'NN'], ['node', 'NN'], ['b', 'NN'], ['node', 'NN'], ['b', 'NN'], ['node', 'NN'], ['b', 'NN'], ['node', 'NN'], ['b', 'NN'], ['node', 'NN'], ['b', 'NN'], ['node', 'NN'], ['ref', 'NN'], ['inalgw', 'NN'], ['b', 'NN'], ['node', 'NN'], ['ref', 'NN'], ['inalgw', 'JJ'], ['gp', 'JJ'], ['history', 'NN'], ['gp', 'JJ'], ['history', 'NN'], ['www', 'NN'], ['aboutamazon', 'NN'], ['utm', 'JJ'], ['source', 'NN'], ['gateway', 'NN'], ['utm', 'JJ'], ['medium', 'NN'], ['footer', 'NN'], ['amazon', 'JJ'], ['job', 'NN'], ['press', 'NN'], ['aboutamazon', 'NN'], ['utm', 'JJ'], ['source', 'NN'], ['gateway', 'NN'], ['utm', 'JJ'], ['medium', 'NN'], ['footer', 'NN'], ['www', 'NN'], ['amazon', 'NN'], ['science', 'NN'], ['www', 'NN'], ['amazon', 'NN'], ['gp', 'NN'], ['redirect', 'VBP'], ['html', 'NN'], ['ref', 'NN'], ['footer', 'NN'], ['fb', 'NN'], ['location', 'NN'], ['www', 'NN'], ['facebook', 'NN'], ['com', 'NN'], ['amazonin', 'NN'], ['token', 'NN'], ['eac', 'NN'], ['bb', 'NN'], ['e', 'NN'], ['fd', 'NN'], ['e', 'NN'], ['www', 'NN'], ['amazon', 'NN'], ['gp', 'NN'], ['redirect', 'VBP'], ['html', 'NN'], ['ref', 'NN'], ['footer', 'NN'], ['twitter', 'NN'], ['location', 'NN'], ['twitter', 'NN'], ['com', 'NN'], ['amazonin', 'NN'], ['token', 'NN'], ['dfbfcb', 'NN'], ['e', 'NN'], ['ff', 'NN'], ['dc', 'NN'], ['f', 'NN'], ['b', 'NN'], ['www', 'NN'], ['amazon', 'NN'], ['gp', 'NN'], ['redirect', 'VBP'], ['html', 'NN'], ['location', 'NN'], ['www', 'NN'], ['instagram', 'NN'], ['com', 'NN'], ['amazondotin', 'NN'], ['token', 'JJ'], ['c', 'NN'], ['e', 'NN'], ['cb', 'NN'], ['b', 'NN'], ['f', 'NN'], ['e', 'NN'], ['df', 'NN'], ['bfc', 'NN'], ['source', 'NN'], ['standard', 'NN'], ['b', 'NN'], ['node', 'NN'], ['ld', 'NN'], ['azinsoanavdesktopfooter', 'NN'], ['c', 'VBP'], ['ref', 'NN'], ['nav', 'JJ'], ['footer', 'NN'], ['sell', 'VBP'], ['c', 'JJ'], ['accelerator', 'NN'], ['amazon', 'NN'], ['ref', 'NN'], ['map', 'NN'], ['b', 'NN'], ['b', 'NN'], ['gw', 'NN'], ['ft', 'NN'], ['brandservices', 'NNS'], ['amazon', 'VBP'], ['ref', 'JJ'], ['aoinabrlgnrfoot', 'NN'], ['ld', 'VBZ'], ['aoinabrlgnrfoot', 'RB'], ['sell', 'VB'], ['amazon', 'JJ'], ['grow', 'NN'], ['business', 'NN'], ['amazon', 'NN'], ['global', 'JJ'], ['selling', 'NN'], ['html', 'NN'], ['ld', 'NN'], ['azin', 'VBP'], ['footer', 'NN'], ['v', 'NN'], ['ref', 'NN'], ['azin', 'VBP'], ['footer', 'NN'], ['v', 'NN'], ['affiliate', 'NN'], ['program', 'NN'], ['amazon', 'NN'], ['utm', 'JJ'], ['campaign', 'NN'], ['assocshowcase', 'NN'], ['utm', 'JJ'], ['medium', 'NN'], ['footer', 'NN'], ['utm', 'JJ'], ['source', 'NN'], ['gw', 'NN'], ['ref', 'NN'], ['footer', 'NN'], ['assoc', 'NN'], ['service', 'NN'], ['amazon', 'NN'], ['service', 'NN'], ['fulfilment', 'NN'], ['amazon', 'NN'], ['benefit', 'NN'], ['html', 'NN'], ['ref', 'NN'], ['az', 'VBP'], ['footer', 'NN'], ['fba', 'NN'], ['ld', 'NN'], ['awrginfbafooter', 'NN'], ['advertising', 'NN'], ['amazon', 'NN'], ['ref', 'NN'], ['amz', 'NN'], ['www', 'NN'], ['amazonpay', 'NN'], ['merchant', 'NN'], ['gp', 'NN'], ['help', 'NN'], ['customer', 'NN'], ['display', 'NN'], ['html', 'NN'], ['nodeid', 'JJ'], ['gdfu', 'NN'], ['j', 'NN'], ['al', 'NN'], ['syhrd', 'NN'], ['ref', 'NN'], ['footer', 'NN'], ['covid', 'NN'], ['gp', 'NN'], ['cs', 'NN'], ['homepage', 'NN'], ['html', 'NN'], ['ref', 'NN'], ['footer', 'NN'], ['ya', 'NN'], ['gp', 'NN'], ['cs', 'NN'], ['return', 'NN'], ['homepage', 'NN'], ['html', 'VBD'], ['ref', 'JJ'], ['footer', 'NN'], ['hy', 'NN'], ['f', 'NN'], ['gp', 'NN'], ['help', 'NN'], ['customer', 'NN'], ['display', 'NN'], ['html', 'NN'], ['nodeid', 'JJ'], ['ref', 'NN'], ['footer', 'NN'], ['swc', 'NN'], ['gp', 'NN'], ['browse', 'NN'], ['html', 'NN'], ['node', 'NN'], ['ref', 'NN'], ['footer', 'NN'], ['mobapp', 'NN'], ['gp', 'NN'], ['help', 'NN'], ['customer', 'NN'], ['display', 'NN'], ['html', 'NN'], ['nodeid', 'JJ'], ['ref', 'NN'], ['footer', 'NN'], ['gw', 'NN'], ['b', 'NN'], ['ref', 'NN'], ['footer', 'NN'], ['logo', 'NN'], ['customer', 'NN'], ['preference', 'NN'], ['edit', 'NN'], ['ie', 'NN'], ['utf', 'JJ'], ['preferencesreturnurl', 'NN'], ['f', 'NN'], ['ref', 'NN'], ['footer', 'NN'], ['lang', 'NN'], ['www', 'VBD'], ['amazon', 'JJ'], ['com', 'NN'], ['au', 'NN'], ['ref', 'NN'], ['footer', 'NN'], ['au', 'NN'], ['www', 'NN'], ['amazon', 'NN'], ['com', 'NN'], ['br', 'NN'], ['ref', 'NN'], ['footer', 'NN'], ['br', 'NN'], ['www', 'NN'], ['amazon', 'NN'], ['ca', 'MD'], ['ref', 'VB'], ['footer', 'NN'], ['ca', 'MD'], ['www', 'VB'], ['amazon', 'JJ'], ['cn', 'NN'], ['ref', 'NN'], ['footer', 'NN'], ['cn', 'NN'], ['www', 'NN'], ['amazon', 'NN'], ['fr', 'NN'], ['ref', 'NN'], ['footer', 'NN'], ['fr', 'NN'], ['www', 'NN'], ['amazon', 'NN'], ['de', 'IN'], ['ref', 'FW'], ['footer', 'NN'], ['de', 'IN'], ['www', 'FW'], ['amazon', 'JJ'], ['ref', 'NN'], ['footer', 'NN'], ['www', 'NN'], ['amazon', 'NN'], ['co', 'NN'], ['jp', 'NN'], ['ref', 'NN'], ['footer', 'NN'], ['jp', 'NN'], ['www', 'NN'], ['amazon', 'NN'], ['com', 'NN'], ['mx', 'NN'], ['ref', 'NN'], ['footer', 'NN'], ['mx', 'NN'], ['www', 'NN'], ['amazon', 'NN'], ['nl', 'JJ'], ['ref', 'NN'], ['footer', 'NN'], ['nl', 'JJ'], ['www', 'NN'], ['amazon', 'NN'], ['pl', 'NN'], ['ref', 'NN'], ['footer', 'NN'], ['pl', 'NN'], ['www', 'NN'], ['amazon', 'NN'], ['sg', 'NN'], ['ref', 'NN'], ['footer', 'NN'], ['sg', 'NN'], ['www', 'NN'], ['amazon', 'NN'], ['e', 'NN'], ['ref', 'VBP'], ['footer', 'NN'], ['e', 'NN'], ['www', 'NN'], ['amazon', 'NN'], ['com', 'NN'], ['tr', 'NN'], ['ref', 'NN'], ['footer', 'NN'], ['tr', 'NN'], ['www', 'NN'], ['amazon', 'NN'], ['ae', 'NN'], ['ref', 'NN'], ['footer', 'NN'], ['ae', 'NN'], ['www', 'NN'], ['amazon', 'NN'], ['co', 'NN'], ['uk', 'JJ'], ['ref', 'NN'], ['footer', 'NN'], ['uk', 'JJ'], ['www', 'NN'], ['amazon', 'NN'], ['com', 'NN'], ['ref', 'NN'], ['footer', 'NN'], ['u', 'JJ'], ['www', 'NN'], ['abebooks', 'NNS'], ['com', 'VBP'], ['aws', 'JJ'], ['amazon', 'NN'], ['com', 'NN'], ['cloud', 'NN'], ['computing', 'VBG'], ['sc', 'JJ'], ['channel', 'NNS'], ['el', 'VBP'], ['sc', 'JJ'], ['campaign', 'NN'], ['amazonfooter', 'NN'], ['www', 'NN'], ['audible', 'JJ'], ['www', 'NN'], ['dpreview', 'NN'], ['com', 'NN'], ['www', 'NN'], ['imdb', 'NN'], ['com', 'NN'], ['www', 'NN'], ['shopbop', 'NN'], ['com', 'NN'], ['business', 'NN'], ['ref', 'NN'], ['footer', 'NN'], ['aingw', 'NN'], ['ref', 'NN'], ['footer', 'NN'], ['amznow', 'VBP'], ['music', 'NN'], ['prime', 'JJ'], ['ref', 'NN'], ['footer', 'NN'], ['apm', 'NN'], ['gp', 'NN'], ['help', 'NN'], ['customer', 'NN'], ['display', 'NN'], ['html', 'NN'], ['nodeid', 'JJ'], ['ref', 'NN'], ['footer', 'NN'], ['cou', 'NN'], ['gp', 'NN'], ['help', 'NN'], ['customer', 'NN'], ['display', 'NN'], ['html', 'NN'], ['nodeid', 'JJ'], ['ref', 'NN'], ['footer', 'NN'], ['privacy', 'NN'], ['gp', 'NN'], ['help', 'NN'], ['customer', 'NN'], ['display', 'NN'], ['html', 'NN'], ['nodeid', 'JJ'], ['ref', 'NN'], ['footer', 'NN'], ['iba', 'NN']], 'NER Tags': [['https', 'NN'], [':', ':'], ['//www.amazon.in/', 'NN'], ['online', 'NN'], ['shopping', 'NN'], ['site', 'NN'], ['india', 'NN'], ['shop', 'NN'], ['online', 'VBP'], ['mobile', 'JJ'], ['book', 'NN'], ['watch', 'NN'], ['shoe', 'NN'], ['amazon', 'NN'], ['inskip', 'NN'], ['main', 'JJ'], ['content', 'NN'], ['inhelloselect', 'NN'], ['addressallselect', 'VBP'], ['department', 'NN'], ['want', 'VBP'], ['search', 'NN'], ['inall', 'NN'], ['categoriesalexa', 'NN'], ['skillsamazon', 'NN'], ['devicesamazon', 'NN'], ['fashionamazon', 'NN'], ['freshamazon', 'NN'], ['pharmacyappliancesapps', 'NN'], ['gamesbabybeautybookscar', 'NN'], ['motorbikeclothing', 'VBG'], ['accessoriescollectiblescomputers', 'NNS'], ['accessorieselectronicsfurnituregarden', 'JJ'], ['outdoorsgift', 'NN'], ['cardsgrocery', 'NN'], ['gourmet', 'NN'], ['foodshealth', 'NN'], ['personal', 'JJ'], ['carehome', 'NN'], ['kitchenindustrial', 'JJ'], ['scientificjewellerykindle', 'JJ'], ['storeluggage', 'NN'], ['bagsluxury', 'NN'], ['beautymovies', 'NNS'], ['tv', 'VBP'], ['showsmusicmusical', 'JJ'], ['instrumentsoffice', 'NN'], ['productspet', 'NN'], ['suppliesprime', 'NN'], ['videoshoes', 'NNS'], ['handbagssoftwaresports', 'VBZ'], ['fitness', 'NN'], ['outdoorssubscribe', 'NN'], ['savetools', 'VBZ'], ['home', 'NN'], ['improvementtoys', 'NNS'], ['gamesunder', 'VBP'], ['video', 'NN'], ['gameswatchessearch', 'NN'], ['amazon', 'NN'], ['inenhello', 'JJ'], ['sign', 'NN'], ['inaccount', 'NN'], ['listsreturns', 'VBZ'], ['orderscartallamazon', 'JJ'], ['minitvsellbest', 'JJS'], ['sellersmobilestoday', 'JJ'], ['dealscustomer', 'NN'], ['servicenew', 'VBD'], ['releasesprimeelectronicshome', 'JJ'], ['kitchenamazon', 'NN'], ['paygift', 'NN'], ['ideasfashioncomputersbookscouponsbeauty', 'JJ'], ['personal', 'JJ'], ['caretoys', 'NNS'], ['gamessports', 'NNS'], ['fitness', 'NN'], ['outdoorscar', 'NN'], ['motorbikehome', 'JJ'], ['improvementgrocery', 'NN'], ['gourmet', 'NN'], ['foodsgift', 'NN'], ['cardshealth', 'NN'], ['household', 'VBD'], ['personal', 'JJ'], ['carebabyvideo', 'NN'], ['gamespet', 'NN'], ['suppliessubscribe', 'NN'], ['saveaudibleamazonbasicskindle', 'VBP'], ['ebooksprevious', 'JJ'], ['slidenext', 'JJ'], ['slidemakeup', 'NN'], ['productssee', 'VBP'], ['morenew', 'JJ'], ['look', 'VBP'], ['new', 'JJ'], ['seasonshop', 'NN'], ['fashiondo', 'NN'], ['homesee', 'VBP'], ['moresmart', 'JJ'], ['gadget', 'NN'], ['amazonshop', 'NN'], ['nowvalue', 'JJ'], ['bazaarshop', 'NN'], ['daily', 'JJ'], ['essentialswork', 'NN'], ['home', 'NN'], ['essentialsrouterslaptopskeyboards', 'NNS'], ['mouse', 'VBP'], ['moreheadphonessee', 'NN'], ['morerevamp', 'NN'], ['home', 'NN'], ['stylebedsheets', 'NNS'], ['curtain', 'VBP'], ['morehome', 'JJ'], ['decorationhome', 'NN'], ['storagelighting', 'VBG'], ['solutionsexplore', 'NN'], ['allinnovations', 'NNS'], ['emerging', 'VBG'], ['indian', 'JJ'], ['brandsexplore', 'RB'], ['startupsyour', 'VBP'], ['recently', 'RB'], ['viewed', 'VBN'], ['item', 'NN'], ['featured', 'JJ'], ['recommendation', 'NN'], ['view', 'NN'], ['edit', 'NN'], ['browsing', 'VBG'], ['historyafter', 'NN'], ['viewing', 'VBG'], ['product', 'NN'], ['detail', 'NN'], ['page', 'NN'], ['look', 'NN'], ['find', 'VBP'], ['easy', 'JJ'], ['way', 'NN'], ['navigate', 'JJ'], ['back', 'RB'], ['page', 'NN'], ['interested', 'JJ'], ['recently', 'RB'], ['viewed', 'VBN'], ['item', 'NN'], ['featured', 'JJ'], ['recommendation', 'NN'], ['view', 'NN'], ['edit', 'NN'], ['browsing', 'VBG'], ['historyafter', 'NN'], ['viewing', 'VBG'], ['product', 'NN'], ['detail', 'NN'], ['page', 'NN'], ['look', 'NN'], ['find', 'VBP'], ['easy', 'JJ'], ['way', 'NN'], ['navigate', 'JJ'], ['back', 'RB'], ['page', 'NN'], ['interested', 'JJ'], ['back', 'RB'], ['topget', 'NN'], ['know', 'VBP'], ['usabout', 'IN'], ['uscareerspress', 'JJ'], ['releasesamazon', 'NN'], ['scienceconnect', 'JJ'], ['usfacebooktwitterinstagrammake', 'JJ'], ['money', 'NN'], ['ussell', 'NN'], ['amazonsell', 'RB'], ['amazon', 'RB'], ['acceleratorprotect', 'JJ'], ['build', 'NN'], ['brandamazon', 'NN'], ['global', 'JJ'], ['sellingbecome', 'JJ'], ['affiliatefulfilment', 'NN'], ['amazonadvertise', 'NN'], ['productsamazon', 'NN'], ['pay', 'NN'], ['merchantslet', 'NN'], ['u', 'JJ'], ['help', 'NN'], ['youcovid', 'VB'], ['amazonyour', 'JJ'], ['accountreturns', 'NNS'], ['centre', 'JJ'], ['purchase', 'NN'], ['protectionamazon', 'NN'], ['app', 'RB'], ['downloadhelpenglishaustraliabrazilcanadachinafrancegermanyitalyjapanmexiconetherlandspolandsingaporespainturkeyunited', 'VBD'], ['arab', 'JJ'], ['emiratesunited', 'VBN'], ['kingdomunited', 'VBD'], ['statesabebooksbooks', 'JJ'], ['art', 'NN'], ['collectiblesamazon', 'NN'], ['web', 'NN'], ['servicesscalable', 'JJ'], ['cloudcomputing', 'NN'], ['servicesaudibledownloadaudio', 'NN'], ['booksdpreviewdigitalphotographyimdbmovies', 'NNS'], ['tv', 'VBP'], ['celebritiesshopbopdesignerfashion', 'NN'], ['brandsamazon', 'NN'], ['businesseverything', 'VBG'], ['foryour', 'JJ'], ['businessprime', 'JJ'], ['hour', 'NN'], ['deliveryon', 'NN'], ['everyday', 'JJ'], ['itemsamazon', 'JJ'], ['prime', 'JJ'], ['music', 'NN'], ['million', 'CD'], ['song', 'NN'], ['ad', 'NN'], ['freeover', 'NN'], ['million', 'CD'], ['podcast', 'NN'], ['episodesconditions', 'NNS'], ['use', 'VBP'], ['saleprivacy', 'NN'], ['noticeinterest', 'JJS'], ['based', 'VBN'], ['ad', 'NN'], ['amazon', 'NN'], ['com', 'NN'], ['inc', 'NN'], ['affiliate', 'NN'], ['amazon', 'JJ'], ['online', 'NN'], ['shopping', 'NN'], ['india', 'JJ'], ['buy', 'NN'], ['mobile', 'JJ'], ['laptop', 'JJ'], ['camera', 'NN'], ['book', 'NN'], ['watch', 'NN'], ['apparel', 'NN'], ['shoe', 'NN'], ['e', 'VBP'], ['gift', 'NN'], ['card', 'NN'], ['free', 'JJ'], ['shipping', 'NN'], ['cash', 'NN'], ['delivery', 'NN'], ['available', 'JJ'], ['http', 'NN'], ['medium', 'NN'], ['amazon', 'NN'], ['com', 'NN'], ['image', 'NN'], ['g', 'NN'], ['social', 'JJ'], ['share', 'NN'], ['amazon', 'JJ'], ['logo', 'NN'], ['cb', 'NN'], ['png', 'NN'], ['http', 'NN'], ['medium', 'NN'], ['amazon', 'NN'], ['com', 'NN'], ['image', 'NN'], ['g', 'NN'], ['gno', 'VBZ'], ['sprite', 'JJ'], ['nav', 'JJ'], ['sprite', 'NN'], ['global', 'JJ'], ['x', 'NN'], ['reorg', 'NN'], ['celnav', 'NN'], ['cb', 'NN'], ['png', 'NN'], ['http', 'NN'], ['medium', 'NN'], ['amazon', 'NN'], ['com', 'NN'], ['image', 'NN'], ['g', 'JJ'], ['event', 'NN'], ['pd', 'NN'], ['gw', 'NN'], ['swm', 'NN'], ['x', 'NNP'], ['launch', 'NN'], ['v', 'NN'], ['cb', 'NN'], ['jpg', 'NN'], ['http', 'NN'], ['medium', 'NN'], ['amazon', 'NN'], ['com', 'NN'], ['image', 'NN'], ['id', 'NN'], ['jjpm', 'NN'], ['l', 'NN'], ['sx', 'NN'], ['jpg', 'NN'], ['http', 'NN'], ['image', 'NN'], ['eu', 'NN'], ['ssl', 'JJ'], ['image', 'NN'], ['amazon', 'NN'], ['com', 'JJ'], ['image', 'NN'], ['g', 'NN'], ['img', 'JJ'], ['beauty', 'NN'], ['gw', 'NN'], ['desktop', 'NN'], ['make', 'VBP'], ['cc', 'NN'], ['desktop', 'NN'], ['x', 'NNP'], ['sy', 'NN'], ['cb', 'NN'], ['jpg', 'NN'], ['http', 'NN'], ['image', 'NN'], ['eu', 'NN'], ['ssl', 'JJ'], ['image', 'NN'], ['amazon', 'NN'], ['com', 'JJ'], ['image', 'NN'], ['g', 'NN'], ['gateway', 'JJ'], ['event', 'NN'], ['jupiterfallback', 'NN'], ['jupiter', 'NN'], ['bau', 'JJ'], ['pc', 'NN'], ['top', 'JJ'], ['card', 'NN'], ['fashion', 'NN'], ['x', 'NNP'], ['sy', 'NN'], ['cb', 'NN'], ['jpg', 'NN'], ['http', 'NN'], ['image', 'NN'], ['eu', 'NN'], ['ssl', 'JJ'], ['image', 'NN'], ['amazon', 'NN'], ['com', 'JJ'], ['image', 'NN'], ['g', 'NN'], ['gateway', 'JJ'], ['event', 'NN'], ['jupiterfallback', 'NN'], ['jupiter', 'NN'], ['bau', 'JJ'], ['pc', 'NN'], ['top', 'JJ'], ['card', 'NN'], ['home', 'NN'], ['x', 'NNP'], ['sy', 'NN'], ['cb', 'NN'], ['jpg', 'NN'], ['http', 'NN'], ['image', 'NN'], ['eu', 'NN'], ['ssl', 'JJ'], ['image', 'NN'], ['amazon', 'NN'], ['com', 'JJ'], ['image', 'NN'], ['g', 'NN'], ['img', 'NN'], ['amazondevices', 'NNS'], ['neel', 'VBP'], ['march', 'JJ'], ['x', 'NNP'], ['sy', 'NN'], ['cb', 'NN'], ['jpg', 'NN'], ['http', 'NN'], ['image', 'NN'], ['eu', 'NN'], ['ssl', 'JJ'], ['image', 'NN'], ['amazon', 'NN'], ['com', 'JJ'], ['image', 'NN'], ['g', 'NN'], ['gateway', 'JJ'], ['event', 'NN'], ['jupiterfallback', 'NN'], ['jupiter', 'NN'], ['bau', 'JJ'], ['pc', 'NN'], ['top', 'JJ'], ['card', 'NN'], ['grocery', 'NN'], ['x', 'NNP'], ['sy', 'NN'], ['cb', 'NN'], ['jpg', 'NN'], ['http', 'NN'], ['image', 'NN'], ['eu', 'NN'], ['ssl', 'JJ'], ['image', 'NN'], ['amazon', 'NN'], ['com', 'JJ'], ['image', 'NN'], ['g', 'NN'], ['img', 'NN'], ['cepc', 'NN'], ['covid', 'NN'], ['v', 'NN'], ['cepc', 'NN'], ['contingency', 'NN'], ['covid', 'NN'], ['gw', 'NN'], ['april', 'NN'], ['rush', 'NN'], ['dbqc', 'NN'], ['x', 'NNP'], ['sy', 'NN'], ['cb', 'NN'], ['jpg', 'NN'], ['http', 'NN'], ['image', 'NN'], ['eu', 'NN'], ['ssl', 'JJ'], ['image', 'NN'], ['amazon', 'NN'], ['com', 'JJ'], ['image', 'NN'], ['g', 'NN'], ['img', 'NN'], ['cepc', 'NN'], ['covid', 'NN'], ['v', 'NN'], ['cepc', 'NN'], ['contingency', 'NN'], ['covid', 'NN'], ['gw', 'NN'], ['april', 'NN'], ['rush', 'NN'], ['dbqc', 'NN'], ['x', 'NNP'], ['sy', 'NN'], ['cb', 'NN'], ['jpg', 'NN'], ['http', 'NN'], ['image', 'NN'], ['eu', 'NN'], ['ssl', 'JJ'], ['image', 'NN'], ['amazon', 'NN'], ['com', 'JJ'], ['image', 'NN'], ['g', 'NN'], ['img', 'NN'], ['cepc', 'NN'], ['covid', 'NN'], ['v', 'NN'], ['cepc', 'NN'], ['contingency', 'NN'], ['covid', 'NN'], ['gw', 'NN'], ['april', 'NN'], ['rush', 'NN'], ['dbqc', 'NN'], ['x', 'NNP'], ['sy', 'NN'], ['cb', 'NN'], ['jpg', 'NN'], ['http', 'NN'], ['image', 'NN'], ['eu', 'NN'], ['ssl', 'JJ'], ['image', 'NN'], ['amazon', 'NN'], ['com', 'JJ'], ['image', 'NN'], ['g', 'NN'], ['img', 'NN'], ['cepc', 'NN'], ['covid', 'NN'], ['v', 'NN'], ['cepc', 'NN'], ['contingency', 'NN'], ['covid', 'NN'], ['gw', 'NN'], ['april', 'NN'], ['rush', 'NN'], ['dbqc', 'NN'], ['x', 'NNP'], ['sy', 'NN'], ['cb', 'NN'], ['jpg', 'NN'], ['http', 'NN'], ['image', 'NN'], ['eu', 'NN'], ['ssl', 'JJ'], ['image', 'NN'], ['amazon', 'NN'], ['com', 'JJ'], ['image', 'NN'], ['g', 'NN'], ['img', 'VBZ'], ['home', 'NN'], ['bau', 'NN'], ['gwpc', 'NN'], ['xcm', 'NNP'], ['manual', 'JJ'], ['x', 'NNP'], ['x', 'NNP'], ['bd', 'VBD'], ['eee', 'JJ'], ['f', 'JJ'], ['e', 'NN'], ['e', 'NN'], ['e', 'NN'], ['f', 'NN'], ['f', 'NN'], ['jpg', 'NN'], ['lower', 'RBR'], ['ql', 'NN'], ['sy', 'JJ'], ['cb', 'NN'], ['jpg', 'NN'], ['http', 'NN'], ['image', 'NN'], ['eu', 'NN'], ['ssl', 'JJ'], ['image', 'NN'], ['amazon', 'NN'], ['com', 'JJ'], ['image', 'NN'], ['g', 'NN'], ['img', 'VBZ'], ['home', 'NN'], ['bau', 'NN'], ['gwpc', 'NN'], ['xcm', 'NNP'], ['manual', 'JJ'], ['x', 'NNP'], ['x', 'NNP'], ['e', 'VBZ'], ['dc', 'JJ'], ['fca', 'NN'], ['f', 'NN'], ['jpg', 'NN'], ['lower', 'RBR'], ['ql', 'NN'], ['sy', 'JJ'], ['cb', 'NN'], ['jpg', 'NN'], ['http', 'NN'], ['image', 'NN'], ['eu', 'NN'], ['ssl', 'JJ'], ['image', 'NN'], ['amazon', 'NN'], ['com', 'JJ'], ['image', 'NN'], ['g', 'NN'], ['img', 'VBZ'], ['home', 'NN'], ['bau', 'NN'], ['gwpc', 'NN'], ['xcm', 'NNP'], ['manual', 'JJ'], ['x', 'NNP'], ['x', 'NNP'], ['ccc', 'NN'], ['f', 'NN'], ['ea', 'NN'], ['cfb', 'NN'], ['f', 'NN'], ['e', 'NN'], ['jpg', 'NN'], ['lower', 'RBR'], ['ql', 'NN'], ['sy', 'JJ'], ['cb', 'NN'], ['jpg', 'NN'], ['http', 'NN'], ['image', 'NN'], ['eu', 'NN'], ['ssl', 'JJ'], ['image', 'NN'], ['amazon', 'NN'], ['com', 'JJ'], ['image', 'NN'], ['g', 'NN'], ['img', 'VBZ'], ['home', 'NN'], ['bau', 'NN'], ['gwpc', 'NN'], ['xcm', 'NNP'], ['manual', 'JJ'], ['x', 'NNP'], ['x', 'NNP'], ['bc', 'VBD'], ['e', 'JJ'], ['dc', 'NN'], ['aa', 'NN'], ['aae', 'NN'], ['fd', 'NN'], ['dacd', 'NN'], ['f', 'NN'], ['jpg', 'NN'], ['lower', 'RBR'], ['ql', 'NN'], ['sy', 'JJ'], ['cb', 'NN'], ['jpg', 'NN'], ['http', 'NN'], ['image', 'NN'], ['eu', 'NN'], ['ssl', 'JJ'], ['image', 'NN'], ['amazon', 'NN'], ['com', 'JJ'], ['image', 'NN'], ['g', 'NN'], ['img', 'NN'], ['amazonlaunchpad', 'VBZ'], ['gateway', 'RB'], ['june', 'JJ'], ['dhyana', 'NNS'], ['sy', 'VBP'], ['cb', 'JJ'], ['jpg', 'NN'], ['http', 'NN'], ['medium', 'NN'], ['amazon', 'NN'], ['com', 'NN'], ['image', 'NN'], ['g', 'JJ'], ['personalization', 'NN'], ['ybh', 'NN'], ['loading', 'VBG'], ['x', 'JJ'], ['gray', 'JJ'], ['cb', 'NN'], ['gif', 'NN'], ['ref', 'NN'], ['nav', 'NN'], ['logo', 'NN'], ['customer', 'NN'], ['preference', 'NN'], ['edit', 'NN'], ['ie', 'NN'], ['utf', 'JJ'], ['preferencesreturnurl', 'NN'], ['f', 'NN'], ['ref', 'NN'], ['topnav', 'NN'], ['lang', 'NN'], ['www', 'VBD'], ['amazon', 'JJ'], ['ap', 'JJ'], ['signin', 'NN'], ['openid', 'NN'], ['pape', 'NN'], ['max', 'NN'], ['auth', 'NN'], ['age', 'NN'], ['openid', 'JJ'], ['return', 'NN'], ['http', 'NN'], ['f', 'NN'], ['fwww', 'NN'], ['amazon', 'NN'], ['f', 'NN'], ['f', 'NN'], ['encoding', 'VBG'], ['dutf', 'JJ'], ['ref', 'NN'], ['dnav', 'NN'], ['ya', 'NN'], ['signin', 'NN'], ['openid', 'NN'], ['identity', 'NN'], ['http', 'NN'], ['f', 'NN'], ['fspecs', 'JJ'], ['openid', 'JJ'], ['net', 'JJ'], ['fauth', 'NN'], ['f', 'NN'], ['fidentifier', 'NN'], ['select', 'JJ'], ['openid', 'JJ'], ['assoc', 'NN'], ['handle', 'NN'], ['inflex', 'JJ'], ['openid', 'NN'], ['mode', 'NN'], ['checkid', 'NN'], ['setup', 'NN'], ['openid', 'NN'], ['claimed', 'VBD'], ['id', 'JJ'], ['http', 'NN'], ['f', 'NN'], ['fspecs', 'JJ'], ['openid', 'JJ'], ['net', 'JJ'], ['fauth', 'NN'], ['f', 'NN'], ['fidentifier', 'NN'], ['select', 'JJ'], ['openid', 'NN'], ['n', 'JJ'], ['http', 'NN'], ['f', 'NN'], ['fspecs', 'JJ'], ['openid', 'JJ'], ['net', 'JJ'], ['fauth', 'NN'], ['f', 'NN'], ['gp', 'NN'], ['cs', 'NN'], ['order', 'NN'], ['history', 'NN'], ['ref', 'NN'], ['nav', 'NN'], ['order', 'NN'], ['first', 'RB'], ['www', 'VBZ'], ['amazon', 'JJ'], ['gp', 'JJ'], ['cart', 'NN'], ['view', 'NN'], ['html', 'VBP'], ['ref', 'NN'], ['nav', 'JJ'], ['cart', 'NN'], ['gp', 'NN'], ['site', 'NN'], ['directory', 'NN'], ['ref', 'NN'], ['nav', 'JJ'], ['em', 'NN'], ['j', 'NN'], ['disabled', 'VBD'], ['minitv', 'JJ'], ['ref', 'NN'], ['nav', 'NN'], ['avod', 'NN'], ['desktop', 'NN'], ['topnav', 'NN'], ['b', 'NN'], ['node', 'NN'], ['ld', 'NN'], ['azinsoanavdesktop', 'JJ'], ['ref', 'NN'], ['nav', 'JJ'], ['c', 'NN'], ['sell', 'NN'], ['gp', 'JJ'], ['bestseller', 'NN'], ['ref', 'NN'], ['nav', 'JJ'], ['c', 'NN'], ['bestseller', 'NN'], ['mobile', 'IN'], ['phone', 'NN'], ['b', 'NN'], ['ie', 'NN'], ['utf', 'JJ'], ['node', 'NN'], ['ref', 'NN'], ['nav', 'JJ'], ['c', 'NN'], ['mobile', 'JJ'], ['deal', 'NN'], ['ref', 'NN'], ['nav', 'NN'], ['c', 'NN'], ['gb', 'NN'], ['gp', 'NN'], ['help', 'NN'], ['customer', 'NN'], ['display', 'NN'], ['html', 'NN'], ['nodeid', 'JJ'], ['ref', 'NN'], ['nav', 'NN'], ['c', 'NN'], ['help', 'NN'], ['gp', 'VB'], ['new', 'JJ'], ['release', 'NN'], ['ref', 'NN'], ['nav', 'JJ'], ['c', 'NN'], ['newreleases', 'NNS'], ['prime', 'JJ'], ['ref', 'JJ'], ['nav', 'NN'], ['c', 'NN'], ['primelink', 'VBP'], ['nonmember', 'IN'], ['electronics', 'NNS'], ['b', 'VBP'], ['ie', 'JJ'], ['utf', 'JJ'], ['node', 'NN'], ['ref', 'NN'], ['nav', 'JJ'], ['c', 'NN'], ['electronics', 'NNS'], ['home', 'NN'], ['kitchen', 'NN'], ['b', 'NN'], ['ie', 'NN'], ['utf', 'JJ'], ['node', 'NN'], ['ref', 'NN'], ['nav', 'JJ'], ['c', 'NN'], ['home', 'NN'], ['gp', 'NN'], ['sva', 'JJ'], ['dashboard', 'NN'], ['ref', 'NN'], ['nav', 'JJ'], ['c', 'JJ'], ['apay', 'NN'], ['gcx', 'NN'], ['gfhz', 'NN'], ['ref', 'NN'], ['nav', 'JJ'], ['c', 'NN'], ['giftfinder', 'NN'], ['gp', 'NN'], ['browse', 'NN'], ['html', 'NN'], ['node', 'NN'], ['ref', 'NN'], ['nav', 'JJ'], ['c', 'NN'], ['fashion', 'NN'], ['computer', 'NN'], ['accessory', 'NN'], ['b', 'NN'], ['ie', 'NN'], ['utf', 'JJ'], ['node', 'NN'], ['ref', 'NN'], ['nav', 'JJ'], ['c', 'JJ'], ['pc', 'NN'], ['book', 'NN'], ['b', 'NN'], ['ie', 'NN'], ['utf', 'JJ'], ['node', 'NN'], ['ref', 'NN'], ['nav', 'JJ'], ['c', 'JJ'], ['book', 'NN'], ['amazon', 'NN'], ['coupon', 'NN'], ['b', 'NN'], ['encoding', 'VBG'], ['utf', 'JJ'], ['node', 'JJ'], ['ref', 'NN'], ['nav', 'JJ'], ['c', 'NN'], ['coupon', 'NN'], ['beauty', 'NN'], ['b', 'NN'], ['ie', 'NN'], ['utf', 'JJ'], ['node', 'NN'], ['ref', 'NN'], ['nav', 'JJ'], ['c', 'JJ'], ['beauty', 'NN'], ['toy', 'NN'], ['game', 'NN'], ['b', 'NN'], ['ie', 'NN'], ['utf', 'JJ'], ['node', 'NN'], ['ref', 'NN'], ['nav', 'JJ'], ['c', 'NN'], ['toy', 'NN'], ['sport', 'NN'], ['b', 'NN'], ['ie', 'NN'], ['utf', 'JJ'], ['node', 'NN'], ['ref', 'NN'], ['nav', 'JJ'], ['c', 'NN'], ['sport', 'NN'], ['car', 'NN'], ['motorbike', 'NN'], ['store', 'NN'], ['b', 'NN'], ['ie', 'NN'], ['utf', 'JJ'], ['node', 'NN'], ['ref', 'NN'], ['nav', 'JJ'], ['c', 'JJ'], ['automotive', 'JJ'], ['home', 'NN'], ['improvement', 'NN'], ['b', 'NN'], ['ie', 'NN'], ['utf', 'JJ'], ['node', 'NN'], ['ref', 'NN'], ['nav', 'JJ'], ['c', 'NN'], ['hi', 'NN'], ['gourmet', 'VBD'], ['specialty', 'NN'], ['food', 'NN'], ['b', 'NN'], ['ie', 'NN'], ['utf', 'JJ'], ['node', 'NN'], ['ref', 'NN'], ['nav', 'JJ'], ['c', 'JJ'], ['grocery', 'NN'], ['gift', 'NN'], ['card', 'NN'], ['store', 'NN'], ['b', 'NN'], ['ie', 'NN'], ['utf', 'JJ'], ['node', 'NN'], ['ref', 'NN'], ['nav', 'JJ'], ['c', 'JJ'], ['gc', 'NN'], ['health', 'NN'], ['personal', 'JJ'], ['care', 'NN'], ['b', 'NN'], ['ie', 'NN'], ['utf', 'JJ'], ['node', 'NN'], ['ref', 'NN'], ['nav', 'JJ'], ['c', 'NN'], ['hpc', 'NN'], ['baby', 'NN'], ['b', 'NN'], ['ie', 'NN'], ['utf', 'JJ'], ['node', 'NN'], ['ref', 'NN'], ['nav', 'JJ'], ['c', 'NN'], ['baby', 'NN'], ['video', 'NN'], ['game', 'NN'], ['b', 'NN'], ['ie', 'NN'], ['utf', 'JJ'], ['node', 'NN'], ['ref', 'NN'], ['nav', 'JJ'], ['c', 'NN'], ['video', 'NN'], ['game', 'NN'], ['pet', 'NN'], ['supply', 'NN'], ['b', 'NN'], ['ie', 'NN'], ['utf', 'JJ'], ['node', 'NN'], ['ref', 'NN'], ['nav', 'JJ'], ['c', 'NN'], ['pet', 'JJ'], ['auto', 'NN'], ['delivery', 'NN'], ['landing', 'VBG'], ['ref', 'NN'], ['nav', 'JJ'], ['c', 'NN'], ['sn', 'NN'], ['audible', 'JJ'], ['book', 'NN'], ['original', 'JJ'], ['b', 'NN'], ['ie', 'NN'], ['utf', 'JJ'], ['node', 'NN'], ['ref', 'NN'], ['nav', 'JJ'], ['c', 'NN'], ['audible', 'JJ'], ['b', 'NN'], ['node', 'NN'], ['ref', 'NN'], ['nav', 'JJ'], ['c', 'NN'], ['amazonbasics', 'NNS'], ['kindle', 'VBP'], ['ebooks', 'VBZ'], ['b', 'JJ'], ['ie', 'NN'], ['utf', 'JJ'], ['node', 'NN'], ['ref', 'NN'], ['nav', 'JJ'], ['c', 'NN'], ['kindle', 'VB'], ['book', 'NN'], ['l', 'NN'], ['encoding', 'VBG'], ['utf', 'JJ'], ['ref', 'NN'], ['nav', 'NN'], ['swm', 'NN'], ['swm', 'NN'], ['gd', 'NN'], ['pf', 'NN'], ['rd', 'NN'], ['p', 'NN'], ['e', 'NN'], ['b', 'NN'], ['bf', 'NN'], ['f', 'NN'], ['e', 'NN'], ['df', 'NN'], ['pf', 'NN'], ['rd', 'NN'], ['nav', 'JJ'], ['sitewide', 'NN'], ['msg', 'NN'], ['pf', 'NN'], ['rd', 'NN'], ['pf', 'NN'], ['rd', 'NN'], ['navbar', 'NN'], ['pf', 'NN'], ['rd', 'NN'], ['tjruun', 'NN'], ['kgv', 'NN'], ['pf', 'NN'], ['rd', 'NN'], ['r', 'NN'], ['jh', 'NN'], ['rgfb', 'NN'], ['zcsrq', 'NN'], ['b', 'NN'], ['encoding', 'VBG'], ['utf', 'JJ'], ['node', 'NN'], ['b', 'NN'], ['node', 'NN'], ['b', 'NN'], ['node', 'NN'], ['b', 'NN'], ['node', 'NN'], ['b', 'NN'], ['node', 'NN'], ['b', 'NN'], ['node', 'NN'], ['b', 'NN'], ['node', 'NN'], ['hidden', 'NN'], ['keywords', 'NNS'], ['b', 'VBP'], ['kthkk', 'NN'], ['cb', 'NN'], ['w', 'NN'], ['q', 'NN'], ['cb', 'NN'], ['jd', 'NN'], ['j', 'NN'], ['cb', 'NN'], ['j', 'NN'], ['fgq', 'NN'], ['cb', 'NN'], ['hnp', 'NN'], ['z', 'NN'], ['cb', 'NN'], ['yhvmk', 'NN'], ['cb', 'NN'], ['qqzzjk', 'NN'], ['cb', 'NN'], ['frjtz', 'NN'], ['cb', 'NN'], ['z', 'NN'], ['cb', 'NN'], ['xdbnscp', 'NNP'], ['cb', 'NN'], ['c', 'NN'], ['l', 'NN'], ['vc', 'NN'], ['ref', 'NN'], ['nb', 'JJ'], ['sb', 'NN'], ['no', 'DT'], ['hidden', 'JJ'], ['keywords', 'NNS'], ['b', 'VBP'], ['kthkk', 'NN'], ['cb', 'NN'], ['w', 'NN'], ['q', 'NN'], ['cb', 'NN'], ['jd', 'NN'], ['j', 'NN'], ['cb', 'NN'], ['j', 'NN'], ['fgq', 'NN'], ['cb', 'NN'], ['hnp', 'NN'], ['z', 'NN'], ['cb', 'NN'], ['yhvmk', 'NN'], ['cb', 'NN'], ['qqzzjk', 'NN'], ['cb', 'NN'], ['frjtz', 'NN'], ['cb', 'NN'], ['z', 'NN'], ['cb', 'NN'], ['xdbnscp', 'NNP'], ['cb', 'NN'], ['c', 'NN'], ['l', 'NN'], ['vc', 'NN'], ['ref', 'NN'], ['nb', 'JJ'], ['sb', 'NN'], ['no', 'DT'], ['b', 'NN'], ['node', 'NN'], ['b', 'NN'], ['node', 'NN'], ['b', 'NN'], ['node', 'NN'], ['b', 'NN'], ['node', 'NN'], ['b', 'NN'], ['node', 'NN'], ['b', 'NN'], ['ie', 'NN'], ['utf', 'JJ'], ['node', 'NN'], ['b', 'NN'], ['node', 'NN'], ['b', 'NN'], ['node', 'NN'], ['b', 'NN'], ['node', 'NN'], ['b', 'NN'], ['node', 'NN'], ['b', 'NN'], ['node', 'NN'], ['b', 'NN'], ['node', 'NN'], ['b', 'NN'], ['node', 'NN'], ['ref', 'NN'], ['inalgw', 'NN'], ['b', 'NN'], ['node', 'NN'], ['ref', 'NN'], ['inalgw', 'JJ'], ['gp', 'JJ'], ['history', 'NN'], ['gp', 'JJ'], ['history', 'NN'], ['www', 'NN'], ['aboutamazon', 'NN'], ['utm', 'JJ'], ['source', 'NN'], ['gateway', 'NN'], ['utm', 'JJ'], ['medium', 'NN'], ['footer', 'NN'], ['amazon', 'JJ'], ['job', 'NN'], ['press', 'NN'], ['aboutamazon', 'NN'], ['utm', 'JJ'], ['source', 'NN'], ['gateway', 'NN'], ['utm', 'JJ'], ['medium', 'NN'], ['footer', 'NN'], ['www', 'NN'], ['amazon', 'NN'], ['science', 'NN'], ['www', 'NN'], ['amazon', 'NN'], ['gp', 'NN'], ['redirect', 'VBP'], ['html', 'NN'], ['ref', 'NN'], ['footer', 'NN'], ['fb', 'NN'], ['location', 'NN'], ['www', 'NN'], ['facebook', 'NN'], ['com', 'NN'], ['amazonin', 'NN'], ['token', 'NN'], ['eac', 'NN'], ['bb', 'NN'], ['e', 'NN'], ['fd', 'NN'], ['e', 'NN'], ['www', 'NN'], ['amazon', 'NN'], ['gp', 'NN'], ['redirect', 'VBP'], ['html', 'NN'], ['ref', 'NN'], ['footer', 'NN'], ['twitter', 'NN'], ['location', 'NN'], ['twitter', 'NN'], ['com', 'NN'], ['amazonin', 'NN'], ['token', 'NN'], ['dfbfcb', 'NN'], ['e', 'NN'], ['ff', 'NN'], ['dc', 'NN'], ['f', 'NN'], ['b', 'NN'], ['www', 'NN'], ['amazon', 'NN'], ['gp', 'NN'], ['redirect', 'VBP'], ['html', 'NN'], ['location', 'NN'], ['www', 'NN'], ['instagram', 'NN'], ['com', 'NN'], ['amazondotin', 'NN'], ['token', 'JJ'], ['c', 'NN'], ['e', 'NN'], ['cb', 'NN'], ['b', 'NN'], ['f', 'NN'], ['e', 'NN'], ['df', 'NN'], ['bfc', 'NN'], ['source', 'NN'], ['standard', 'NN'], ['b', 'NN'], ['node', 'NN'], ['ld', 'NN'], ['azinsoanavdesktopfooter', 'NN'], ['c', 'VBP'], ['ref', 'NN'], ['nav', 'JJ'], ['footer', 'NN'], ['sell', 'VBP'], ['c', 'JJ'], ['accelerator', 'NN'], ['amazon', 'NN'], ['ref', 'NN'], ['map', 'NN'], ['b', 'NN'], ['b', 'NN'], ['gw', 'NN'], ['ft', 'NN'], ['brandservices', 'NNS'], ['amazon', 'VBP'], ['ref', 'JJ'], ['aoinabrlgnrfoot', 'NN'], ['ld', 'VBZ'], ['aoinabrlgnrfoot', 'RB'], ['sell', 'VB'], ['amazon', 'JJ'], ['grow', 'NN'], ['business', 'NN'], ['amazon', 'NN'], ['global', 'JJ'], ['selling', 'NN'], ['html', 'NN'], ['ld', 'NN'], ['azin', 'VBP'], ['footer', 'NN'], ['v', 'NN'], ['ref', 'NN'], ['azin', 'VBP'], ['footer', 'NN'], ['v', 'NN'], ['affiliate', 'NN'], ['program', 'NN'], ['amazon', 'NN'], ['utm', 'JJ'], ['campaign', 'NN'], ['assocshowcase', 'NN'], ['utm', 'JJ'], ['medium', 'NN'], ['footer', 'NN'], ['utm', 'JJ'], ['source', 'NN'], ['gw', 'NN'], ['ref', 'NN'], ['footer', 'NN'], ['assoc', 'NN'], ['service', 'NN'], ['amazon', 'NN'], ['service', 'NN'], ['fulfilment', 'NN'], ['amazon', 'NN'], ['benefit', 'NN'], ['html', 'NN'], ['ref', 'NN'], ['az', 'VBP'], ['footer', 'NN'], ['fba', 'NN'], ['ld', 'NN'], ['awrginfbafooter', 'NN'], ['advertising', 'NN'], ['amazon', 'NN'], ['ref', 'NN'], ['amz', 'NN'], ['www', 'NN'], ['amazonpay', 'NN'], ['merchant', 'NN'], ['gp', 'NN'], ['help', 'NN'], ['customer', 'NN'], ['display', 'NN'], ['html', 'NN'], ['nodeid', 'JJ'], ['gdfu', 'NN'], ['j', 'NN'], ['al', 'NN'], ['syhrd', 'NN'], ['ref', 'NN'], ['footer', 'NN'], ['covid', 'NN'], ['gp', 'NN'], ['cs', 'NN'], ['homepage', 'NN'], ['html', 'NN'], ['ref', 'NN'], ['footer', 'NN'], ['ya', 'NN'], ['gp', 'NN'], ['cs', 'NN'], ['return', 'NN'], ['homepage', 'NN'], ['html', 'VBD'], ['ref', 'JJ'], ['footer', 'NN'], ['hy', 'NN'], ['f', 'NN'], ['gp', 'NN'], ['help', 'NN'], ['customer', 'NN'], ['display', 'NN'], ['html', 'NN'], ['nodeid', 'JJ'], ['ref', 'NN'], ['footer', 'NN'], ['swc', 'NN'], ['gp', 'NN'], ['browse', 'NN'], ['html', 'NN'], ['node', 'NN'], ['ref', 'NN'], ['footer', 'NN'], ['mobapp', 'NN'], ['gp', 'NN'], ['help', 'NN'], ['customer', 'NN'], ['display', 'NN'], ['html', 'NN'], ['nodeid', 'JJ'], ['ref', 'NN'], ['footer', 'NN'], ['gw', 'NN'], ['b', 'NN'], ['ref', 'NN'], ['footer', 'NN'], ['logo', 'NN'], ['customer', 'NN'], ['preference', 'NN'], ['edit', 'NN'], ['ie', 'NN'], ['utf', 'JJ'], ['preferencesreturnurl', 'NN'], ['f', 'NN'], ['ref', 'NN'], ['footer', 'NN'], ['lang', 'NN'], ['www', 'VBD'], ['amazon', 'JJ'], ['com', 'NN'], ['au', 'NN'], ['ref', 'NN'], ['footer', 'NN'], ['au', 'NN'], ['www', 'NN'], ['amazon', 'NN'], ['com', 'NN'], ['br', 'NN'], ['ref', 'NN'], ['footer', 'NN'], ['br', 'NN'], ['www', 'NN'], ['amazon', 'NN'], ['ca', 'MD'], ['ref', 'VB'], ['footer', 'NN'], ['ca', 'MD'], ['www', 'VB'], ['amazon', 'JJ'], ['cn', 'NN'], ['ref', 'NN'], ['footer', 'NN'], ['cn', 'NN'], ['www', 'NN'], ['amazon', 'NN'], ['fr', 'NN'], ['ref', 'NN'], ['footer', 'NN'], ['fr', 'NN'], ['www', 'NN'], ['amazon', 'NN'], ['de', 'IN'], ['ref', 'FW'], ['footer', 'NN'], ['de', 'IN'], ['www', 'FW'], ['amazon', 'JJ'], ['ref', 'NN'], ['footer', 'NN'], ['www', 'NN'], ['amazon', 'NN'], ['co', 'NN'], ['jp', 'NN'], ['ref', 'NN'], ['footer', 'NN'], ['jp', 'NN'], ['www', 'NN'], ['amazon', 'NN'], ['com', 'NN'], ['mx', 'NN'], ['ref', 'NN'], ['footer', 'NN'], ['mx', 'NN'], ['www', 'NN'], ['amazon', 'NN'], ['nl', 'JJ'], ['ref', 'NN'], ['footer', 'NN'], ['nl', 'JJ'], ['www', 'NN'], ['amazon', 'NN'], ['pl', 'NN'], ['ref', 'NN'], ['footer', 'NN'], ['pl', 'NN'], ['www', 'NN'], ['amazon', 'NN'], ['sg', 'NN'], ['ref', 'NN'], ['footer', 'NN'], ['sg', 'NN'], ['www', 'NN'], ['amazon', 'NN'], ['e', 'NN'], ['ref', 'VBP'], ['footer', 'NN'], ['e', 'NN'], ['www', 'NN'], ['amazon', 'NN'], ['com', 'NN'], ['tr', 'NN'], ['ref', 'NN'], ['footer', 'NN'], ['tr', 'NN'], ['www', 'NN'], ['amazon', 'NN'], ['ae', 'NN'], ['ref', 'NN'], ['footer', 'NN'], ['ae', 'NN'], ['www', 'NN'], ['amazon', 'NN'], ['co', 'NN'], ['uk', 'JJ'], ['ref', 'NN'], ['footer', 'NN'], ['uk', 'JJ'], ['www', 'NN'], ['amazon', 'NN'], ['com', 'NN'], ['ref', 'NN'], ['footer', 'NN'], ['u', 'JJ'], ['www', 'NN'], ['abebooks', 'NNS'], ['com', 'VBP'], ['aws', 'JJ'], ['amazon', 'NN'], ['com', 'NN'], ['cloud', 'NN'], ['computing', 'VBG'], ['sc', 'JJ'], ['channel', 'NNS'], ['el', 'VBP'], ['sc', 'JJ'], ['campaign', 'NN'], ['amazonfooter', 'NN'], ['www', 'NN'], ['audible', 'JJ'], ['www', 'NN'], ['dpreview', 'NN'], ['com', 'NN'], ['www', 'NN'], ['imdb', 'NN'], ['com', 'NN'], ['www', 'NN'], ['shopbop', 'NN'], ['com', 'NN'], ['business', 'NN'], ['ref', 'NN'], ['footer', 'NN'], ['aingw', 'NN'], ['ref', 'NN'], ['footer', 'NN'], ['amznow', 'VBP'], ['music', 'NN'], ['prime', 'JJ'], ['ref', 'NN'], ['footer', 'NN'], ['apm', 'NN'], ['gp', 'NN'], ['help', 'NN'], ['customer', 'NN'], ['display', 'NN'], ['html', 'NN'], ['nodeid', 'JJ'], ['ref', 'NN'], ['footer', 'NN'], ['cou', 'NN'], ['gp', 'NN'], ['help', 'NN'], ['customer', 'NN'], ['display', 'NN'], ['html', 'NN'], ['nodeid', 'JJ'], ['ref', 'NN'], ['footer', 'NN'], ['privacy', 'NN'], ['gp', 'NN'], ['help', 'NN'], ['customer', 'NN'], ['display', 'NN'], ['html', 'NN'], ['nodeid', 'JJ'], ['ref', 'NN'], ['footer', 'NN'], ['iba', 'NN']]}\n"
          ]
        }
      ]
    },
    {
      "cell_type": "code",
      "source": [
        "import json\n",
        "\n",
        "# Load the combined analysis results from the JSON file\n",
        "json_file = \"combined_analysis_results.json\"\n",
        "with open(json_file) as file:\n",
        "    combined_analysis = json.load(file)\n",
        "\n",
        "# Extract the desired fields\n",
        "top_keywords = combined_analysis[\"Top Keywords\"]\n",
        "top_phrases = combined_analysis[\"Top Phrases\"]\n",
        "named_entities = combined_analysis[\"Named Entities\"]\n",
        "\n",
        "# Print the extracted fields\n",
        "print(\"Top Keywords:\")\n",
        "print(top_keywords)\n",
        "print(\"-\" * 50)\n",
        "\n",
        "print(\"Top Phrases:\")\n",
        "print(top_phrases)\n",
        "print(\"-\" * 50)\n",
        "\n",
        "print(\"Named Entities:\")\n",
        "print(named_entities)\n",
        "print(\"-\" * 50)\n"
      ],
      "metadata": {
        "id": "Sj8vInT8fC_9",
        "outputId": "3ec256b2-7097-49dd-adc3-18cd53a162f8",
        "colab": {
          "base_uri": "https://localhost:8080/",
          "height": 235
        }
      },
      "execution_count": null,
      "outputs": [
        {
          "output_type": "error",
          "ename": "KeyError",
          "evalue": "ignored",
          "traceback": [
            "\u001b[0;31m---------------------------------------------------------------------------\u001b[0m",
            "\u001b[0;31mKeyError\u001b[0m                                  Traceback (most recent call last)",
            "\u001b[0;32m<ipython-input-41-cf07a3e9b4ed>\u001b[0m in \u001b[0;36m<cell line: 9>\u001b[0;34m()\u001b[0m\n\u001b[1;32m      7\u001b[0m \u001b[0;34m\u001b[0m\u001b[0m\n\u001b[1;32m      8\u001b[0m \u001b[0;31m# Extract the desired fields\u001b[0m\u001b[0;34m\u001b[0m\u001b[0;34m\u001b[0m\u001b[0m\n\u001b[0;32m----> 9\u001b[0;31m \u001b[0mtop_keywords\u001b[0m \u001b[0;34m=\u001b[0m \u001b[0mcombined_analysis\u001b[0m\u001b[0;34m[\u001b[0m\u001b[0;34m\"Top Keywords\"\u001b[0m\u001b[0;34m]\u001b[0m\u001b[0;34m\u001b[0m\u001b[0;34m\u001b[0m\u001b[0m\n\u001b[0m\u001b[1;32m     10\u001b[0m \u001b[0mtop_phrases\u001b[0m \u001b[0;34m=\u001b[0m \u001b[0mcombined_analysis\u001b[0m\u001b[0;34m[\u001b[0m\u001b[0;34m\"Top Phrases\"\u001b[0m\u001b[0;34m]\u001b[0m\u001b[0;34m\u001b[0m\u001b[0;34m\u001b[0m\u001b[0m\n\u001b[1;32m     11\u001b[0m \u001b[0mnamed_entities\u001b[0m \u001b[0;34m=\u001b[0m \u001b[0mcombined_analysis\u001b[0m\u001b[0;34m[\u001b[0m\u001b[0;34m\"Named Entities\"\u001b[0m\u001b[0;34m]\u001b[0m\u001b[0;34m\u001b[0m\u001b[0;34m\u001b[0m\u001b[0m\n",
            "\u001b[0;31mKeyError\u001b[0m: 'Top Keywords'"
          ]
        }
      ]
    },
    {
      "cell_type": "code",
      "source": [
        "from nltk import FreqDist, ngrams\n",
        "from nltk.corpus import stopwords\n",
        "\n",
        "# Define the number of words in a phrase\n",
        "phrase_length = 2\n",
        "\n",
        "# Define stopwords to be ignored during phrase extraction\n",
        "stopwords = set(stopwords.words('english'))\n",
        "\n",
        "# Extract keywords\n",
        "keywords = word_tokenize(cleaned_content)\n",
        "keyword_freq = FreqDist(keywords)\n",
        "top_keywords = keyword_freq.most_common(10)  # Extract top 10 most frequent keywords\n",
        "\n",
        "# Extract important phrases\n",
        "phrase_freq = FreqDist()\n",
        "phrases = ngrams(tokens, phrase_length)\n",
        "for phrase in phrases:\n",
        "    if all(word not in stopwords for word in phrase):\n",
        "        phrase_freq[tuple(phrase)] += 1\n",
        "\n",
        "top_phrases = phrase_freq.most_common(10)  # Extract top 10 important phrases\n",
        "\n",
        "# Extract named entities (remaining code remains the same)\n",
        "entities = [entity for entity in ner_tags if hasattr(entity, 'label')]\n",
        "named_entities = [ne[0] for entity in entities for ne in entity.leaves()]\n",
        "\n",
        "# Create a dictionary to store the extracted features\n",
        "extracted_features = {\n",
        "    \"Top Keywords\": top_keywords,\n",
        "    \"Top Phrases\": top_phrases,\n",
        "    \"Named Entities\": named_entities\n",
        "}\n",
        "\n",
        "# Specify the file path\n",
        "output_file_path = \"output.json\"\n",
        "\n",
        "# Save the dictionary as JSON\n",
        "with open(output_file_path, \"w\") as f:\n",
        "    json.dump(extracted_features, f)\n",
        "\n",
        "print(\"Output data saved to:\", output_file_path)"
      ],
      "metadata": {
        "colab": {
          "base_uri": "https://localhost:8080/",
          "height": 53
        },
        "id": "xz-F3dZb5vSB",
        "outputId": "8844393a-b2c8-45a4-b75c-92bd521a4ef3"
      },
      "execution_count": null,
      "outputs": [
        {
          "output_type": "stream",
          "name": "stdout",
          "text": [
            "Output data saved to: output.json\n"
          ]
        },
        {
          "output_type": "execute_result",
          "data": {
            "text/plain": [
              "'# Print the extracted features\\nfor feature, values in extracted_features.items():\\n    print(feature + \":\")\\n    for value in values:\\n        print(value)\\n    print() '"
            ],
            "application/vnd.google.colaboratory.intrinsic+json": {
              "type": "string"
            }
          },
          "metadata": {},
          "execution_count": 7
        }
      ]
    },
    {
      "cell_type": "code",
      "source": [
        "import json\n",
        "\n",
        "# Define the path to the JSON file\n",
        "json_file = \"output.json\"\n",
        "\n",
        "# Load the JSON data\n",
        "with open(json_file) as file:\n",
        "    data = json.load(file)\n",
        "\n",
        "# Print the loaded data\n",
        "print(data)"
      ],
      "metadata": {
        "colab": {
          "base_uri": "https://localhost:8080/"
        },
        "id": "suev1WBQ7NTs",
        "outputId": "38b98fdf-d4fb-453a-e4db-409c9a336d22"
      },
      "execution_count": null,
      "outputs": [
        {
          "output_type": "stream",
          "name": "stdout",
          "text": [
            "{'Top Keywords': [['amazon', 4], ['page', 4], ['personal', 3], ['home', 3], ['look', 3], ['back', 3], ['online', 2], ['gourmet', 2], ['tv', 2], ['fitness', 2]], 'Top Phrases': [[['recently', 'viewed'], 2], [['viewed', 'item'], 2], [['item', 'featured'], 2], [['featured', 'recommendation'], 2], [['recommendation', 'view'], 2], [['view', 'edit'], 2], [['edit', 'browsing'], 2], [['browsing', 'historyafter'], 2], [['historyafter', 'viewing'], 2], [['viewing', 'product'], 2]], 'Named Entities': []}\n"
          ]
        }
      ]
    },
    {
      "cell_type": "code",
      "source": [
        "import json\n",
        "from sklearn.feature_extraction.text import TfidfVectorizer\n",
        "\n",
        "# Read data from JSON file\n",
        "with open('output.json', 'r') as file:\n",
        "    data = json.load(file)\n",
        "\n",
        "# Extract keywords and phrases from the data\n",
        "keywords = data['Top Keywords']\n",
        "phrases = data['Top Phrases']\n",
        "\n",
        "# Flatten the list of keywords and phrases\n",
        "keywords = [word for sublist in keywords for word in sublist]\n",
        "phrases = [phrase for sublist in phrases for phrase in sublist]\n",
        "\n",
        "# Convert the keywords and phrases to string type\n",
        "keywords = [str(word) for word in keywords]\n",
        "phrases = [str(phrase) for phrase in phrases]\n",
        "\n",
        "# Combine keywords and phrases\n",
        "combined_data = keywords + phrases\n",
        "\n",
        "# Create a TF-IDF vectorizer\n",
        "vectorizer = TfidfVectorizer()\n",
        "\n",
        "# Fit and transform the combined data to obtain the TF-IDF representation\n",
        "tfidf_matrix = vectorizer.fit_transform(combined_data)\n",
        "\n",
        "# Get the feature names (keywords) from the vectorizer\n",
        "feature_names = vectorizer.get_feature_names_out()\n",
        "\n",
        "# List to store documents with keywords\n",
        "documents_with_keywords = []\n",
        "\n",
        "# Iterate over the documents\n",
        "for i, doc in enumerate(combined_data):\n",
        "    feature_index = tfidf_matrix[i, :].nonzero()[1]\n",
        "    if len(feature_index) > 0:\n",
        "        # Document contains keywords, add it to the list\n",
        "        documents_with_keywords.append(doc)\n",
        "\n",
        "# Update combined_data with the filtered documents\n",
        "combined_data = documents_with_keywords\n",
        "\n",
        "# Update tfidf_matrix with the filtered documents\n",
        "tfidf_matrix = vectorizer.transform(combined_data)\n",
        "\n",
        "# Get the feature names (keywords) from the vectorizer\n",
        "feature_names = vectorizer.get_feature_names_out()\n",
        "\n",
        "# List to store the top keywords for each document\n",
        "top_keywords_per_document = []\n",
        "\n",
        "# Print the top keywords with highest TF-IDF scores\n",
        "num_keywords = 10  # Number of top keywords to extract\n",
        "for i, doc in enumerate(combined_data):\n",
        "    feature_index = tfidf_matrix[i, :].nonzero()[1]\n",
        "    tfidf_scores = zip(feature_index, [tfidf_matrix[i, x] for x in feature_index])\n",
        "    sorted_tfidf_scores = sorted(tfidf_scores, key=lambda x: x[1], reverse=True)\n",
        "    top_keywords = [feature_names[i] for i, _ in sorted_tfidf_scores[:num_keywords]]\n",
        "    top_keywords_per_document.append(top_keywords)\n",
        "\n",
        "# Save the output to a JSON file\n",
        "output = {'Top Keywords per Document': top_keywords_per_document}\n",
        "\n",
        "with open('keyword_extraction_output.json', 'w') as file:\n",
        "    json.dump(output, file)\n",
        "\n",
        "print(\"Keyword extraction completed. Output saved to keyword_extraction_output.json.\")"
      ],
      "metadata": {
        "colab": {
          "base_uri": "https://localhost:8080/"
        },
        "id": "gkNu36DBSmzh",
        "outputId": "be6a50b5-e96f-4dc8-d65e-f0968f20f697"
      },
      "execution_count": null,
      "outputs": [
        {
          "output_type": "stream",
          "name": "stdout",
          "text": [
            "Keyword extraction completed. Output saved to keyword_extraction_output.json.\n"
          ]
        }
      ]
    },
    {
      "cell_type": "code",
      "source": [
        "import json\n",
        "\n",
        "# Specify the path to your JSON file\n",
        "json_file_path = 'keyword_extraction_output.json'  # Replace with the actual path to your JSON file\n",
        "\n",
        "# Read the JSON file\n",
        "with open(json_file_path, 'r') as file:\n",
        "    json_data = json.load(file)\n",
        "\n",
        "json_data['ad_extensions'] = [\n",
        "    {\n",
        "      \"extension_id\": 1,\n",
        "      \"extension_text\": \"Discover the best deals on shoes and accessories. Shop now!\",\n",
        "      \"category\":\"site extensions\"\n",
        "    },\n",
        "    {\n",
        "      \"extension_id\": 2,\n",
        "      \"extension_text\": \"Upgrade your gaming experience with our latest collection. Buy now!\",\n",
        "      \"category\":\"location extension\"\n",
        "    },\n",
        "    {\n",
        "      \"extension_id\": 3,\n",
        "      \"extension_text\": \"Upgrade your gaming experience with our latest collection. Buy now!\",\n",
        "      \"category\":\"call extension\"\n",
        "    },\n",
        "    {\n",
        "      \"extension_id\": 4,\n",
        "      \"extension_text\": \"Upgrade your gaming experience with our latest collection. Buy now!\",\n",
        "      \"category\":\"callout extension\"\n",
        "    },\n",
        "    {\n",
        "      \"extension_id\": 5,\n",
        "      \"extension_text\": \"Get fit and stay healthy with our fitness equipment. Shop today!\",\n",
        "      \"category\":\"service extensions\"\n",
        "    }\n",
        "  ]\n",
        "with open(json_file_path, 'w') as file:\n",
        "    json.dump(json_data, file, indent=4)"
      ],
      "metadata": {
        "id": "5Urq5Bssayiu"
      },
      "execution_count": null,
      "outputs": []
    },
    {
      "cell_type": "code",
      "source": [
        "import json\n",
        "\n",
        "# Define the path to the JSON file\n",
        "json_file = \"keyword_extraction_output.json\"\n",
        "\n",
        "# Load the JSON data\n",
        "with open(json_file) as file:\n",
        "    data = json.load(file)\n",
        "\n",
        "# Print the loaded data\n",
        "print(data)"
      ],
      "metadata": {
        "colab": {
          "base_uri": "https://localhost:8080/"
        },
        "id": "BD7wW0DIVA3g",
        "outputId": "0647e30b-c777-42b5-85fc-6a0051120493"
      },
      "execution_count": null,
      "outputs": [
        {
          "output_type": "stream",
          "name": "stdout",
          "text": [
            "{'Top Keywords per Document': [['amazon'], ['page'], ['personal'], ['home'], ['look'], ['back'], ['online'], ['gourmet'], ['tv'], ['fitness'], ['recently', 'viewed'], ['viewed', 'item'], ['item', 'featured'], ['recommendation', 'featured'], ['view', 'recommendation'], ['view', 'edit'], ['edit', 'browsing'], ['historyafter', 'browsing'], ['viewing', 'historyafter'], ['product', 'viewing']], 'ad_extensions': [{'extension_id': 1, 'extension_text': 'Discover the best deals on shoes and accessories. Shop now!', 'category': 'site extensions'}, {'extension_id': 2, 'extension_text': 'Upgrade your gaming experience with our latest collection. Buy now!', 'category': 'location extension'}, {'extension_id': 3, 'extension_text': 'Upgrade your gaming experience with our latest collection. Buy now!', 'category': 'call extension'}, {'extension_id': 4, 'extension_text': 'Upgrade your gaming experience with our latest collection. Buy now!', 'category': 'callout extension'}, {'extension_id': 5, 'extension_text': 'Get fit and stay healthy with our fitness equipment. Shop today!', 'category': 'service extensions'}]}\n"
          ]
        }
      ]
    },
    {
      "cell_type": "code",
      "source": [
        "import json\n",
        "\n",
        "# Read data from JSON file\n",
        "with open('keyword_extraction_output.json', 'r') as file:\n",
        "    data = json.load(file)\n",
        "\n",
        "# Extract ad extensions and keywords from the data\n",
        "ad_extensions = data['ad_extensions']\n",
        "keywords = data['Top Keywords per Document']\n",
        "\n",
        "# Prepare the data in the desired format for training the model\n",
        "X = keywords  # Input features (keywords)\n",
        "y = ad_extensions  # Output labels (ad extensions)\n",
        "\n",
        "# Print the first few examples\n",
        "for i in range(5):\n",
        "    print(f\"Example {i+1}:\")\n",
        "    print(\"Keywords:\", X[i])\n",
        "    print(\"Ad Extension:\", y[i])\n",
        "    print()\n",
        "\n",
        "# Further processing or splitting into training/testing sets can be done as needed\n"
      ],
      "metadata": {
        "colab": {
          "base_uri": "https://localhost:8080/"
        },
        "id": "wAcLYOzpbp-8",
        "outputId": "c63b1608-f3c9-4a30-fb68-8db6f387689a"
      },
      "execution_count": null,
      "outputs": [
        {
          "output_type": "stream",
          "name": "stdout",
          "text": [
            "Example 1:\n",
            "Keywords: ['amazon']\n",
            "Ad Extension: {'extension_id': 1, 'extension_text': 'Discover the best deals on shoes and accessories. Shop now!', 'category': 'site extensions'}\n",
            "\n",
            "Example 2:\n",
            "Keywords: ['page']\n",
            "Ad Extension: {'extension_id': 2, 'extension_text': 'Upgrade your gaming experience with our latest collection. Buy now!', 'category': 'location extension'}\n",
            "\n",
            "Example 3:\n",
            "Keywords: ['personal']\n",
            "Ad Extension: {'extension_id': 3, 'extension_text': 'Upgrade your gaming experience with our latest collection. Buy now!', 'category': 'call extension'}\n",
            "\n",
            "Example 4:\n",
            "Keywords: ['home']\n",
            "Ad Extension: {'extension_id': 4, 'extension_text': 'Upgrade your gaming experience with our latest collection. Buy now!', 'category': 'callout extension'}\n",
            "\n",
            "Example 5:\n",
            "Keywords: ['look']\n",
            "Ad Extension: {'extension_id': 5, 'extension_text': 'Get fit and stay healthy with our fitness equipment. Shop today!', 'category': 'service extensions'}\n",
            "\n"
          ]
        }
      ]
    },
    {
      "cell_type": "code",
      "source": [
        "import json\n",
        "from sklearn.feature_extraction.text import CountVectorizer\n",
        "\n",
        "# Read data from JSON file\n",
        "with open('keyword_extraction_output.json', 'r') as file:\n",
        "    data = json.load(file)\n",
        "\n",
        "# Extract keywords from the data\n",
        "keywords = data['Top Keywords per Document']\n",
        "\n",
        "# Convert the keywords to string format\n",
        "keywords = [' '.join(keyword) for keyword in keywords]\n",
        "\n",
        "# Create a CountVectorizer to convert keywords into a bag-of-words representation\n",
        "vectorizer = CountVectorizer()\n",
        "\n",
        "# Fit and transform the keywords to obtain the bag-of-words representation\n",
        "features = vectorizer.fit_transform(keywords)\n",
        "\n",
        "# Convert the bag-of-words representation to a numerical feature matrix\n",
        "feature_matrix = features.toarray()\n",
        "\n",
        "# Print the feature matrix\n",
        "print(\"Feature Matrix:\")\n",
        "print(feature_matrix)\n"
      ],
      "metadata": {
        "colab": {
          "base_uri": "https://localhost:8080/"
        },
        "id": "iwHq-YIHfdow",
        "outputId": "221e0119-7b84-4af0-e82e-708bbd850c19"
      },
      "execution_count": null,
      "outputs": [
        {
          "output_type": "stream",
          "name": "stdout",
          "text": [
            "Feature Matrix:\n",
            "[[1 0 0 0 0 0 0 0 0 0 0 0 0 0 0 0 0 0 0 0 0]\n",
            " [0 0 0 0 0 0 0 0 0 0 0 0 1 0 0 0 0 0 0 0 0]\n",
            " [0 0 0 0 0 0 0 0 0 0 0 0 0 1 0 0 0 0 0 0 0]\n",
            " [0 0 0 0 0 0 0 0 1 0 0 0 0 0 0 0 0 0 0 0 0]\n",
            " [0 0 0 0 0 0 0 0 0 0 1 0 0 0 0 0 0 0 0 0 0]\n",
            " [0 1 0 0 0 0 0 0 0 0 0 0 0 0 0 0 0 0 0 0 0]\n",
            " [0 0 0 0 0 0 0 0 0 0 0 1 0 0 0 0 0 0 0 0 0]\n",
            " [0 0 0 0 0 0 1 0 0 0 0 0 0 0 0 0 0 0 0 0 0]\n",
            " [0 0 0 0 0 0 0 0 0 0 0 0 0 0 0 0 0 1 0 0 0]\n",
            " [0 0 0 0 0 1 0 0 0 0 0 0 0 0 0 0 0 0 0 0 0]\n",
            " [0 0 0 0 0 0 0 0 0 0 0 0 0 0 0 1 0 0 0 1 0]\n",
            " [0 0 0 0 0 0 0 0 0 1 0 0 0 0 0 0 0 0 0 1 0]\n",
            " [0 0 0 0 1 0 0 0 0 1 0 0 0 0 0 0 0 0 0 0 0]\n",
            " [0 0 0 0 1 0 0 0 0 0 0 0 0 0 0 0 1 0 0 0 0]\n",
            " [0 0 0 0 0 0 0 0 0 0 0 0 0 0 0 0 1 0 1 0 0]\n",
            " [0 0 0 1 0 0 0 0 0 0 0 0 0 0 0 0 0 0 1 0 0]\n",
            " [0 0 1 1 0 0 0 0 0 0 0 0 0 0 0 0 0 0 0 0 0]\n",
            " [0 0 1 0 0 0 0 1 0 0 0 0 0 0 0 0 0 0 0 0 0]\n",
            " [0 0 0 0 0 0 0 1 0 0 0 0 0 0 0 0 0 0 0 0 1]\n",
            " [0 0 0 0 0 0 0 0 0 0 0 0 0 0 1 0 0 0 0 0 1]]\n"
          ]
        }
      ]
    },
    {
      "cell_type": "code",
      "source": [
        "import json\n",
        "\n",
        "# Read data from JSON file\n",
        "with open('keyword_extraction_output.json', 'r') as file:\n",
        "    data = json.load(file)\n",
        "\n",
        "# Add the feature matrix to the data\n",
        "data['Feature Matrix'] = feature_matrix.tolist()\n",
        "\n",
        "# Save the updated data to the JSON file\n",
        "with open('keyword_extraction_output.json', 'w') as file:\n",
        "    json.dump(data, file, indent=4)\n"
      ],
      "metadata": {
        "id": "Yhj6ONHwk3K8"
      },
      "execution_count": null,
      "outputs": []
    },
    {
      "cell_type": "code",
      "source": [
        "import json\n",
        "\n",
        "# Define the path to the JSON file\n",
        "json_file = \"keyword_extraction_output.json\"\n",
        "\n",
        "# Load the JSON data\n",
        "with open(json_file) as file:\n",
        "    data = json.load(file)\n",
        "\n",
        "# Print the loaded data\n",
        "print(data)"
      ],
      "metadata": {
        "colab": {
          "base_uri": "https://localhost:8080/"
        },
        "id": "O08FWcsVk7ir",
        "outputId": "5a29f39c-cefd-4d02-e745-73f382ba7b74"
      },
      "execution_count": null,
      "outputs": [
        {
          "output_type": "stream",
          "name": "stdout",
          "text": [
            "{'Top Keywords per Document': [['amazon'], ['page'], ['personal'], ['home'], ['look'], ['back'], ['online'], ['gourmet'], ['tv'], ['fitness'], ['recently', 'viewed'], ['viewed', 'item'], ['item', 'featured'], ['recommendation', 'featured'], ['view', 'recommendation'], ['view', 'edit'], ['edit', 'browsing'], ['historyafter', 'browsing'], ['viewing', 'historyafter'], ['product', 'viewing']], 'ad_extensions': [{'extension_id': 1, 'extension_text': 'Discover the best deals on shoes and accessories. Shop now!', 'category': 'site extensions'}, {'extension_id': 2, 'extension_text': 'Upgrade your gaming experience with our latest collection. Buy now!', 'category': 'location extension'}, {'extension_id': 3, 'extension_text': 'Upgrade your gaming experience with our latest collection. Buy now!', 'category': 'call extension'}, {'extension_id': 4, 'extension_text': 'Upgrade your gaming experience with our latest collection. Buy now!', 'category': 'callout extension'}, {'extension_id': 5, 'extension_text': 'Get fit and stay healthy with our fitness equipment. Shop today!', 'category': 'service extensions'}], 'Feature Matrix': [[1, 0, 0, 0, 0, 0, 0, 0, 0, 0, 0, 0, 0, 0, 0, 0, 0, 0, 0, 0, 0], [0, 0, 0, 0, 0, 0, 0, 0, 0, 0, 0, 0, 1, 0, 0, 0, 0, 0, 0, 0, 0], [0, 0, 0, 0, 0, 0, 0, 0, 0, 0, 0, 0, 0, 1, 0, 0, 0, 0, 0, 0, 0], [0, 0, 0, 0, 0, 0, 0, 0, 1, 0, 0, 0, 0, 0, 0, 0, 0, 0, 0, 0, 0], [0, 0, 0, 0, 0, 0, 0, 0, 0, 0, 1, 0, 0, 0, 0, 0, 0, 0, 0, 0, 0], [0, 1, 0, 0, 0, 0, 0, 0, 0, 0, 0, 0, 0, 0, 0, 0, 0, 0, 0, 0, 0], [0, 0, 0, 0, 0, 0, 0, 0, 0, 0, 0, 1, 0, 0, 0, 0, 0, 0, 0, 0, 0], [0, 0, 0, 0, 0, 0, 1, 0, 0, 0, 0, 0, 0, 0, 0, 0, 0, 0, 0, 0, 0], [0, 0, 0, 0, 0, 0, 0, 0, 0, 0, 0, 0, 0, 0, 0, 0, 0, 1, 0, 0, 0], [0, 0, 0, 0, 0, 1, 0, 0, 0, 0, 0, 0, 0, 0, 0, 0, 0, 0, 0, 0, 0], [0, 0, 0, 0, 0, 0, 0, 0, 0, 0, 0, 0, 0, 0, 0, 1, 0, 0, 0, 1, 0], [0, 0, 0, 0, 0, 0, 0, 0, 0, 1, 0, 0, 0, 0, 0, 0, 0, 0, 0, 1, 0], [0, 0, 0, 0, 1, 0, 0, 0, 0, 1, 0, 0, 0, 0, 0, 0, 0, 0, 0, 0, 0], [0, 0, 0, 0, 1, 0, 0, 0, 0, 0, 0, 0, 0, 0, 0, 0, 1, 0, 0, 0, 0], [0, 0, 0, 0, 0, 0, 0, 0, 0, 0, 0, 0, 0, 0, 0, 0, 1, 0, 1, 0, 0], [0, 0, 0, 1, 0, 0, 0, 0, 0, 0, 0, 0, 0, 0, 0, 0, 0, 0, 1, 0, 0], [0, 0, 1, 1, 0, 0, 0, 0, 0, 0, 0, 0, 0, 0, 0, 0, 0, 0, 0, 0, 0], [0, 0, 1, 0, 0, 0, 0, 1, 0, 0, 0, 0, 0, 0, 0, 0, 0, 0, 0, 0, 0], [0, 0, 0, 0, 0, 0, 0, 1, 0, 0, 0, 0, 0, 0, 0, 0, 0, 0, 0, 0, 1], [0, 0, 0, 0, 0, 0, 0, 0, 0, 0, 0, 0, 0, 0, 1, 0, 0, 0, 0, 0, 1]]}\n"
          ]
        }
      ]
    },
    {
      "cell_type": "code",
      "source": [
        "import json\n",
        "import numpy as np\n",
        "from sklearn.preprocessing import LabelEncoder\n",
        "\n",
        "# Read the ad_extensions_data.json file\n",
        "with open('keyword_extraction_output.json', 'r') as file:\n",
        "    data = json.load(file)\n",
        "\n",
        "# Extract the ad_extensions from the data\n",
        "ad_extensions = data[\"ad_extensions\"]\n",
        "\n",
        "# Extract the category labels from the ad_extensions\n",
        "categories = [extension[\"category\"] for extension in ad_extensions]\n",
        "\n",
        "# Perform label encoding\n",
        "label_encoder = LabelEncoder()\n",
        "encoded_labels = label_encoder.fit_transform(categories)\n",
        "\n",
        "# Update the ad_extensions with the encoded labels\n",
        "for i, extension in enumerate(ad_extensions):\n",
        "    extension[\"category_encoded\"] = int(encoded_labels[i])\n",
        "\n",
        "# Save the updated ad_extensions_data.json file to a new file\n",
        "output_file = 'ad_extensions_data_encoded.json'\n",
        "with open(output_file, 'w') as file:\n",
        "    json.dump(data, file, indent=4)\n",
        "\n",
        "print(f\"Encoded ad_extensions data saved to {output_file}\")\n"
      ],
      "metadata": {
        "colab": {
          "base_uri": "https://localhost:8080/"
        },
        "id": "7-jwY-NWGt_t",
        "outputId": "6d4a85cb-ade3-4dfa-c5bd-e4099286db62"
      },
      "execution_count": null,
      "outputs": [
        {
          "output_type": "stream",
          "name": "stdout",
          "text": [
            "Encoded ad_extensions data saved to ad_extensions_data_encoded.json\n"
          ]
        }
      ]
    },
    {
      "cell_type": "code",
      "source": [
        "import json\n",
        "\n",
        "# Define the path to the JSON file\n",
        "json_file = \"ad_extensions_data_encoded.json\"\n",
        "\n",
        "# Load the JSON data\n",
        "with open(json_file) as file:\n",
        "    data = json.load(file)\n",
        "\n",
        "# Print the loaded data\n",
        "print(data)"
      ],
      "metadata": {
        "colab": {
          "base_uri": "https://localhost:8080/"
        },
        "id": "kESXUsurN7s0",
        "outputId": "1983757d-eada-49f0-db49-8f7e0d267086"
      },
      "execution_count": null,
      "outputs": [
        {
          "output_type": "stream",
          "name": "stdout",
          "text": [
            "{'Top Keywords per Document': [['amazon'], ['page'], ['personal'], ['home'], ['look'], ['back'], ['online'], ['gourmet'], ['tv'], ['fitness'], ['recently', 'viewed'], ['viewed', 'item'], ['item', 'featured'], ['recommendation', 'featured'], ['view', 'recommendation'], ['view', 'edit'], ['edit', 'browsing'], ['historyafter', 'browsing'], ['viewing', 'historyafter'], ['product', 'viewing']], 'ad_extensions': [{'extension_id': 1, 'extension_text': 'Discover the best deals on shoes and accessories. Shop now!', 'category': 'site extensions', 'category_encoded': 4}, {'extension_id': 2, 'extension_text': 'Upgrade your gaming experience with our latest collection. Buy now!', 'category': 'location extension', 'category_encoded': 2}, {'extension_id': 3, 'extension_text': 'Upgrade your gaming experience with our latest collection. Buy now!', 'category': 'call extension', 'category_encoded': 0}, {'extension_id': 4, 'extension_text': 'Upgrade your gaming experience with our latest collection. Buy now!', 'category': 'callout extension', 'category_encoded': 1}, {'extension_id': 5, 'extension_text': 'Get fit and stay healthy with our fitness equipment. Shop today!', 'category': 'service extensions', 'category_encoded': 3}], 'Feature Matrix': [[1, 0, 0, 0, 0, 0, 0, 0, 0, 0, 0, 0, 0, 0, 0, 0, 0, 0, 0, 0, 0], [0, 0, 0, 0, 0, 0, 0, 0, 0, 0, 0, 0, 1, 0, 0, 0, 0, 0, 0, 0, 0], [0, 0, 0, 0, 0, 0, 0, 0, 0, 0, 0, 0, 0, 1, 0, 0, 0, 0, 0, 0, 0], [0, 0, 0, 0, 0, 0, 0, 0, 1, 0, 0, 0, 0, 0, 0, 0, 0, 0, 0, 0, 0], [0, 0, 0, 0, 0, 0, 0, 0, 0, 0, 1, 0, 0, 0, 0, 0, 0, 0, 0, 0, 0], [0, 1, 0, 0, 0, 0, 0, 0, 0, 0, 0, 0, 0, 0, 0, 0, 0, 0, 0, 0, 0], [0, 0, 0, 0, 0, 0, 0, 0, 0, 0, 0, 1, 0, 0, 0, 0, 0, 0, 0, 0, 0], [0, 0, 0, 0, 0, 0, 1, 0, 0, 0, 0, 0, 0, 0, 0, 0, 0, 0, 0, 0, 0], [0, 0, 0, 0, 0, 0, 0, 0, 0, 0, 0, 0, 0, 0, 0, 0, 0, 1, 0, 0, 0], [0, 0, 0, 0, 0, 1, 0, 0, 0, 0, 0, 0, 0, 0, 0, 0, 0, 0, 0, 0, 0], [0, 0, 0, 0, 0, 0, 0, 0, 0, 0, 0, 0, 0, 0, 0, 1, 0, 0, 0, 1, 0], [0, 0, 0, 0, 0, 0, 0, 0, 0, 1, 0, 0, 0, 0, 0, 0, 0, 0, 0, 1, 0], [0, 0, 0, 0, 1, 0, 0, 0, 0, 1, 0, 0, 0, 0, 0, 0, 0, 0, 0, 0, 0], [0, 0, 0, 0, 1, 0, 0, 0, 0, 0, 0, 0, 0, 0, 0, 0, 1, 0, 0, 0, 0], [0, 0, 0, 0, 0, 0, 0, 0, 0, 0, 0, 0, 0, 0, 0, 0, 1, 0, 1, 0, 0], [0, 0, 0, 1, 0, 0, 0, 0, 0, 0, 0, 0, 0, 0, 0, 0, 0, 0, 1, 0, 0], [0, 0, 1, 1, 0, 0, 0, 0, 0, 0, 0, 0, 0, 0, 0, 0, 0, 0, 0, 0, 0], [0, 0, 1, 0, 0, 0, 0, 1, 0, 0, 0, 0, 0, 0, 0, 0, 0, 0, 0, 0, 0], [0, 0, 0, 0, 0, 0, 0, 1, 0, 0, 0, 0, 0, 0, 0, 0, 0, 0, 0, 0, 1], [0, 0, 0, 0, 0, 0, 0, 0, 0, 0, 0, 0, 0, 0, 1, 0, 0, 0, 0, 0, 1]]}\n"
          ]
        }
      ]
    },
    {
      "cell_type": "code",
      "source": [
        "import numpy as np\n",
        "from sklearn.model_selection import train_test_split\n",
        "\n",
        "# Load the data\n",
        "with open('ad_extensions_data_encoded.json', 'r') as file:\n",
        "    data = json.load(file)\n",
        "\n",
        "# Extract the features and labels\n",
        "keywords = data[\"Feature Matrix\"]\n",
        "ad_extensions = data[\"ad_extensions\"]\n",
        "\n",
        "# Check the number of samples in each data\n",
        "num_samples_keywords = len(keywords)\n",
        "num_samples_ad_extensions = len(ad_extensions)\n",
        "\n",
        "# Determine the minimum number of samples\n",
        "min_num_samples = min(num_samples_keywords, num_samples_ad_extensions)\n",
        "\n",
        "# Trim the data to have the same number of samples\n",
        "keywords = keywords[:min_num_samples]\n",
        "ad_extensions = ad_extensions[:min_num_samples]\n",
        "\n",
        "# Extract the labels\n",
        "labels = [extension[\"category_encoded\"] for extension in ad_extensions]\n",
        "\n",
        "# Split the data into training and testing sets\n",
        "X_train, X_test, y_train, y_test = train_test_split(keywords, labels, test_size=0.2, random_state=42)\n",
        "\n",
        "# Convert the lists to numpy arrays\n",
        "X_train = np.array(X_train)\n",
        "X_test = np.array(X_test)\n",
        "y_train = np.array(y_train)\n",
        "y_test = np.array(y_test)\n",
        "\n",
        "# Print the shapes of the data arrays\n",
        "print(\"Training data shape:\", X_train.shape, y_train.shape)\n",
        "print(\"Testing data shape:\", X_test.shape, y_test.shape)\n"
      ],
      "metadata": {
        "colab": {
          "base_uri": "https://localhost:8080/"
        },
        "id": "p15HodPVPnie",
        "outputId": "a8992215-ca4b-4605-d60f-44bdb6118824"
      },
      "execution_count": null,
      "outputs": [
        {
          "output_type": "stream",
          "name": "stdout",
          "text": [
            "Training data shape: (4, 21) (4,)\n",
            "Testing data shape: (1, 21) (1,)\n"
          ]
        }
      ]
    },
    {
      "cell_type": "code",
      "source": [
        "print(X_train.shape)\n",
        "print(y_train.shape)\n",
        "print(X_test.shape)\n",
        "print(y_test.shape)"
      ],
      "metadata": {
        "colab": {
          "base_uri": "https://localhost:8080/"
        },
        "id": "Htf8lJ7zhYxc",
        "outputId": "6fb9e4e4-3473-4a2c-d072-2e949a77da1c"
      },
      "execution_count": null,
      "outputs": [
        {
          "output_type": "stream",
          "name": "stdout",
          "text": [
            "(4, 25)\n",
            "(4,)\n",
            "(1, 25)\n",
            "(1,)\n"
          ]
        }
      ]
    },
    {
      "cell_type": "code",
      "source": [
        "import numpy as np\n",
        "\n",
        "X = np.array(X)  # Convert X to a NumPy array\n",
        "y = np.array(y)  # Convert y to a NumPy array\n",
        "\n",
        "X = X.T  # Transpose the feature matrix\n",
        "y = y.reshape(-1, 1)  # Reshape the label array to match the number of samples in X\n",
        "\n",
        "# Verify the new shapes of X and y\n",
        "print(X.shape)\n",
        "print(y.shape)"
      ],
      "metadata": {
        "colab": {
          "base_uri": "https://localhost:8080/"
        },
        "id": "MgVifnXaiQLv",
        "outputId": "8e0795ab-af08-4412-d691-3127e74864c7"
      },
      "execution_count": null,
      "outputs": [
        {
          "output_type": "stream",
          "name": "stdout",
          "text": [
            "(21,)\n",
            "(5, 1)\n"
          ]
        },
        {
          "output_type": "stream",
          "name": "stderr",
          "text": [
            "<ipython-input-43-e2ce403ab56e>:3: VisibleDeprecationWarning: Creating an ndarray from ragged nested sequences (which is a list-or-tuple of lists-or-tuples-or ndarrays with different lengths or shapes) is deprecated. If you meant to do this, you must specify 'dtype=object' when creating the ndarray.\n",
            "  X = np.array(X)  # Convert X to a NumPy array\n"
          ]
        }
      ]
    },
    {
      "cell_type": "code",
      "source": [
        "from keras.models import Sequential\n",
        "from keras.layers import LSTM, Dense\n",
        "\n",
        "# Reshape the input arrays\n",
        "#X_train = X_train.reshape(X_train.shape[0], 1, X_train.shape[1])\n",
        "#X_test = X_test.reshape(X_test.shape[0], 1, X_test.shape[1])"
      ],
      "metadata": {
        "id": "Z3hHaNSAWpEp"
      },
      "execution_count": null,
      "outputs": []
    },
    {
      "cell_type": "code",
      "source": [
        "from sklearn.ensemble import RandomForestClassifier\n",
        "from sklearn.model_selection import GridSearchCV, LeaveOneOut\n",
        "\n",
        "# Define the random forest classifier\n",
        "rf = RandomForestClassifier()\n",
        "\n",
        "# Define the parameter grid for hyperparameter tuning\n",
        "param_grid = {\n",
        "    'n_estimators': [100, 200, 300],\n",
        "    'max_depth': [None, 5, 10],\n",
        "    'min_samples_split': [2, 5, 10]\n",
        "}\n",
        "\n",
        "# Create GridSearchCV object with LeaveOneOut\n",
        "leave_one_out = LeaveOneOut()\n",
        "grid_search = GridSearchCV(estimator=rf, param_grid=param_grid, cv=leave_one_out, scoring='accuracy')\n",
        "\n",
        "# Perform grid search cross-validation\n",
        "grid_search.fit(X_train, y_train)\n",
        "\n",
        "# Print the best hyperparameters and the corresponding mean cross-validated score\n",
        "print(\"Best Hyperparameters:\", grid_search.best_params_)\n",
        "print(\"Best Score:\", grid_search.best_score_)\n"
      ],
      "metadata": {
        "colab": {
          "base_uri": "https://localhost:8080/",
          "height": 710
        },
        "id": "9hUeAHKhah61",
        "outputId": "8ecaeaea-f6b2-47ca-de49-8b88832f7b66"
      },
      "execution_count": null,
      "outputs": [
        {
          "output_type": "error",
          "ename": "ValueError",
          "evalue": "ignored",
          "traceback": [
            "\u001b[0;31m---------------------------------------------------------------------------\u001b[0m",
            "\u001b[0;31mValueError\u001b[0m                                Traceback (most recent call last)",
            "\u001b[0;32m<ipython-input-49-ff44cebac2a9>\u001b[0m in \u001b[0;36m<cell line: 19>\u001b[0;34m()\u001b[0m\n\u001b[1;32m     17\u001b[0m \u001b[0;34m\u001b[0m\u001b[0m\n\u001b[1;32m     18\u001b[0m \u001b[0;31m# Perform grid search cross-validation\u001b[0m\u001b[0;34m\u001b[0m\u001b[0;34m\u001b[0m\u001b[0m\n\u001b[0;32m---> 19\u001b[0;31m \u001b[0mgrid_search\u001b[0m\u001b[0;34m.\u001b[0m\u001b[0mfit\u001b[0m\u001b[0;34m(\u001b[0m\u001b[0mX_train\u001b[0m\u001b[0;34m,\u001b[0m \u001b[0my_train\u001b[0m\u001b[0;34m)\u001b[0m\u001b[0;34m\u001b[0m\u001b[0;34m\u001b[0m\u001b[0m\n\u001b[0m\u001b[1;32m     20\u001b[0m \u001b[0;34m\u001b[0m\u001b[0m\n\u001b[1;32m     21\u001b[0m \u001b[0;31m# Print the best hyperparameters and the corresponding mean cross-validated score\u001b[0m\u001b[0;34m\u001b[0m\u001b[0;34m\u001b[0m\u001b[0m\n",
            "\u001b[0;32m/usr/local/lib/python3.10/dist-packages/sklearn/model_selection/_search.py\u001b[0m in \u001b[0;36mfit\u001b[0;34m(self, X, y, groups, **fit_params)\u001b[0m\n\u001b[1;32m    872\u001b[0m                 \u001b[0;32mreturn\u001b[0m \u001b[0mresults\u001b[0m\u001b[0;34m\u001b[0m\u001b[0;34m\u001b[0m\u001b[0m\n\u001b[1;32m    873\u001b[0m \u001b[0;34m\u001b[0m\u001b[0m\n\u001b[0;32m--> 874\u001b[0;31m             \u001b[0mself\u001b[0m\u001b[0;34m.\u001b[0m\u001b[0m_run_search\u001b[0m\u001b[0;34m(\u001b[0m\u001b[0mevaluate_candidates\u001b[0m\u001b[0;34m)\u001b[0m\u001b[0;34m\u001b[0m\u001b[0;34m\u001b[0m\u001b[0m\n\u001b[0m\u001b[1;32m    875\u001b[0m \u001b[0;34m\u001b[0m\u001b[0m\n\u001b[1;32m    876\u001b[0m             \u001b[0;31m# multimetric is determined here because in the case of a callable\u001b[0m\u001b[0;34m\u001b[0m\u001b[0;34m\u001b[0m\u001b[0m\n",
            "\u001b[0;32m/usr/local/lib/python3.10/dist-packages/sklearn/model_selection/_search.py\u001b[0m in \u001b[0;36m_run_search\u001b[0;34m(self, evaluate_candidates)\u001b[0m\n\u001b[1;32m   1386\u001b[0m     \u001b[0;32mdef\u001b[0m \u001b[0m_run_search\u001b[0m\u001b[0;34m(\u001b[0m\u001b[0mself\u001b[0m\u001b[0;34m,\u001b[0m \u001b[0mevaluate_candidates\u001b[0m\u001b[0;34m)\u001b[0m\u001b[0;34m:\u001b[0m\u001b[0;34m\u001b[0m\u001b[0;34m\u001b[0m\u001b[0m\n\u001b[1;32m   1387\u001b[0m         \u001b[0;34m\"\"\"Search all candidates in param_grid\"\"\"\u001b[0m\u001b[0;34m\u001b[0m\u001b[0;34m\u001b[0m\u001b[0m\n\u001b[0;32m-> 1388\u001b[0;31m         \u001b[0mevaluate_candidates\u001b[0m\u001b[0;34m(\u001b[0m\u001b[0mParameterGrid\u001b[0m\u001b[0;34m(\u001b[0m\u001b[0mself\u001b[0m\u001b[0;34m.\u001b[0m\u001b[0mparam_grid\u001b[0m\u001b[0;34m)\u001b[0m\u001b[0;34m)\u001b[0m\u001b[0;34m\u001b[0m\u001b[0;34m\u001b[0m\u001b[0m\n\u001b[0m\u001b[1;32m   1389\u001b[0m \u001b[0;34m\u001b[0m\u001b[0m\n\u001b[1;32m   1390\u001b[0m \u001b[0;34m\u001b[0m\u001b[0m\n",
            "\u001b[0;32m/usr/local/lib/python3.10/dist-packages/sklearn/model_selection/_search.py\u001b[0m in \u001b[0;36mevaluate_candidates\u001b[0;34m(candidate_params, cv, more_results)\u001b[0m\n\u001b[1;32m    849\u001b[0m                     )\n\u001b[1;32m    850\u001b[0m \u001b[0;34m\u001b[0m\u001b[0m\n\u001b[0;32m--> 851\u001b[0;31m                 \u001b[0m_warn_or_raise_about_fit_failures\u001b[0m\u001b[0;34m(\u001b[0m\u001b[0mout\u001b[0m\u001b[0;34m,\u001b[0m \u001b[0mself\u001b[0m\u001b[0;34m.\u001b[0m\u001b[0merror_score\u001b[0m\u001b[0;34m)\u001b[0m\u001b[0;34m\u001b[0m\u001b[0;34m\u001b[0m\u001b[0m\n\u001b[0m\u001b[1;32m    852\u001b[0m \u001b[0;34m\u001b[0m\u001b[0m\n\u001b[1;32m    853\u001b[0m                 \u001b[0;31m# For callable self.scoring, the return type is only know after\u001b[0m\u001b[0;34m\u001b[0m\u001b[0;34m\u001b[0m\u001b[0m\n",
            "\u001b[0;32m/usr/local/lib/python3.10/dist-packages/sklearn/model_selection/_validation.py\u001b[0m in \u001b[0;36m_warn_or_raise_about_fit_failures\u001b[0;34m(results, error_score)\u001b[0m\n\u001b[1;32m    365\u001b[0m                 \u001b[0;34mf\"Below are more details about the failures:\\n{fit_errors_summary}\"\u001b[0m\u001b[0;34m\u001b[0m\u001b[0;34m\u001b[0m\u001b[0m\n\u001b[1;32m    366\u001b[0m             )\n\u001b[0;32m--> 367\u001b[0;31m             \u001b[0;32mraise\u001b[0m \u001b[0mValueError\u001b[0m\u001b[0;34m(\u001b[0m\u001b[0mall_fits_failed_message\u001b[0m\u001b[0;34m)\u001b[0m\u001b[0;34m\u001b[0m\u001b[0;34m\u001b[0m\u001b[0m\n\u001b[0m\u001b[1;32m    368\u001b[0m \u001b[0;34m\u001b[0m\u001b[0m\n\u001b[1;32m    369\u001b[0m         \u001b[0;32melse\u001b[0m\u001b[0;34m:\u001b[0m\u001b[0;34m\u001b[0m\u001b[0;34m\u001b[0m\u001b[0m\n",
            "\u001b[0;31mValueError\u001b[0m: \nAll the 108 fits failed.\nIt is very likely that your model is misconfigured.\nYou can try to debug the error by setting error_score='raise'.\n\nBelow are more details about the failures:\n--------------------------------------------------------------------------------\n108 fits failed with the following error:\nTraceback (most recent call last):\n  File \"/usr/local/lib/python3.10/dist-packages/sklearn/model_selection/_validation.py\", line 686, in _fit_and_score\n    estimator.fit(X_train, y_train, **fit_params)\n  File \"/usr/local/lib/python3.10/dist-packages/sklearn/ensemble/_forest.py\", line 345, in fit\n    X, y = self._validate_data(\n  File \"/usr/local/lib/python3.10/dist-packages/sklearn/base.py\", line 584, in _validate_data\n    X, y = check_X_y(X, y, **check_params)\n  File \"/usr/local/lib/python3.10/dist-packages/sklearn/utils/validation.py\", line 1106, in check_X_y\n    X = check_array(\n  File \"/usr/local/lib/python3.10/dist-packages/sklearn/utils/validation.py\", line 915, in check_array\n    raise ValueError(\nValueError: Found array with dim 3. RandomForestClassifier expected <= 2.\n"
          ]
        }
      ]
    },
    {
      "cell_type": "code",
      "source": [
        "from keras.models import Sequential\n",
        "from keras.layers import LSTM, Dense\n",
        "\n",
        "# Reshape the input arrays\n",
        "X_train = X_train.reshape(X_train.shape[0], 1, X_train.shape[1])\n",
        "X_test = X_test.reshape(X_test.shape[0], 1, X_test.shape[1])\n",
        "\n",
        "# Define the model architecture\n",
        "model = Sequential()\n",
        "model.add(LSTM(128, input_shape=(X_train.shape[1], X_train.shape[2])))\n",
        "model.add(Dense(len(label_encoder.classes_), activation='softmax'))\n",
        "\n",
        "# Compile the model\n",
        "model.compile(loss='sparse_categorical_crossentropy', optimizer='adam', metrics=['accuracy'])\n",
        "\n",
        "# Train the model\n",
        "model.fit(X_train, y_train, epochs=10, batch_size=32, validation_data=(X_test, y_test))\n"
      ],
      "metadata": {
        "colab": {
          "base_uri": "https://localhost:8080/"
        },
        "id": "hSD9G5xqmYcm",
        "outputId": "c9a95b6f-70f9-49c8-d080-ed4053deeb50"
      },
      "execution_count": null,
      "outputs": [
        {
          "output_type": "stream",
          "name": "stdout",
          "text": [
            "Epoch 1/10\n",
            "1/1 [==============================] - 3s 3s/step - loss: 1.6023 - accuracy: 0.2500 - val_loss: 1.6372 - val_accuracy: 0.0000e+00\n",
            "Epoch 2/10\n",
            "1/1 [==============================] - 0s 41ms/step - loss: 1.5963 - accuracy: 0.2500 - val_loss: 1.6421 - val_accuracy: 0.0000e+00\n",
            "Epoch 3/10\n",
            "1/1 [==============================] - 0s 36ms/step - loss: 1.5903 - accuracy: 0.5000 - val_loss: 1.6470 - val_accuracy: 0.0000e+00\n",
            "Epoch 4/10\n",
            "1/1 [==============================] - 0s 41ms/step - loss: 1.5844 - accuracy: 0.7500 - val_loss: 1.6519 - val_accuracy: 0.0000e+00\n",
            "Epoch 5/10\n",
            "1/1 [==============================] - 0s 33ms/step - loss: 1.5784 - accuracy: 0.7500 - val_loss: 1.6568 - val_accuracy: 0.0000e+00\n",
            "Epoch 6/10\n",
            "1/1 [==============================] - 0s 36ms/step - loss: 1.5725 - accuracy: 1.0000 - val_loss: 1.6617 - val_accuracy: 0.0000e+00\n",
            "Epoch 7/10\n",
            "1/1 [==============================] - 0s 41ms/step - loss: 1.5665 - accuracy: 1.0000 - val_loss: 1.6667 - val_accuracy: 0.0000e+00\n",
            "Epoch 8/10\n",
            "1/1 [==============================] - 0s 41ms/step - loss: 1.5605 - accuracy: 1.0000 - val_loss: 1.6716 - val_accuracy: 0.0000e+00\n",
            "Epoch 9/10\n",
            "1/1 [==============================] - 0s 41ms/step - loss: 1.5546 - accuracy: 1.0000 - val_loss: 1.6766 - val_accuracy: 0.0000e+00\n",
            "Epoch 10/10\n",
            "1/1 [==============================] - 0s 36ms/step - loss: 1.5486 - accuracy: 1.0000 - val_loss: 1.6817 - val_accuracy: 0.0000e+00\n"
          ]
        },
        {
          "output_type": "execute_result",
          "data": {
            "text/plain": [
              "<keras.callbacks.History at 0x7fc0837c7a00>"
            ]
          },
          "metadata": {},
          "execution_count": 19
        }
      ]
    },
    {
      "cell_type": "code",
      "source": [
        "# Reshape the test data\n",
        "num_samples = X_test.shape[0]\n",
        "num_timesteps = X_test.shape[1]\n",
        "num_features = X_test.shape[2]\n",
        "X_test_reshaped = X_test.reshape(num_samples, num_timesteps, num_features)\n",
        "\n",
        "\n",
        "# Use the trained model to make predictions on the test data\n",
        "predictions = model.predict(X_test_reshaped)\n",
        "\n",
        "# Get the predicted labels\n",
        "predicted_labels = np.argmax(predictions, axis=1)\n",
        "\n",
        "# Decode the predicted labels using the label_encoder\n",
        "predicted_categories = label_encoder.inverse_transform(predicted_labels)\n",
        "\n",
        "# Print the predicted categories and corresponding true categories\n",
        "print(\"Predicted Categories\\tTrue Categories\")\n",
        "for i in range(len(predicted_categories)):\n",
        "    print(predicted_categories[i])\n",
        "    #print(predicted_categories[i], \"\\t\\t\\t\", label_encoder.inverse_transform([y_test[i]]))"
      ],
      "metadata": {
        "colab": {
          "base_uri": "https://localhost:8080/"
        },
        "id": "o36SDfu-ohr7",
        "outputId": "704a8cb2-a6b9-4fd2-8db6-aabf91d456c0"
      },
      "execution_count": null,
      "outputs": [
        {
          "output_type": "stream",
          "name": "stdout",
          "text": [
            "1/1 [==============================] - 0s 360ms/step\n",
            "Predicted Categories\tTrue Categories\n",
            "service extensions\n"
          ]
        }
      ]
    }
  ]
}